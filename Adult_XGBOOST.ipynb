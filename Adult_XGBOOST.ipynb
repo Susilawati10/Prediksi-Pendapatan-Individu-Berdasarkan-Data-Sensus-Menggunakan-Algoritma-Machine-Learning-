{
  "nbformat": 4,
  "nbformat_minor": 0,
  "metadata": {
    "colab": {
      "provenance": [],
      "toc_visible": true
    },
    "kernelspec": {
      "name": "python3",
      "display_name": "Python 3"
    },
    "language_info": {
      "name": "python"
    }
  },
  "cells": [
    {
      "cell_type": "markdown",
      "source": [
        "Prediksi Pendapatan Individu Berdasarkan Data Sensus Menggunakan Algoritma Machine Learning"
      ],
      "metadata": {
        "id": "_7SFysaKq3Ap"
      }
    },
    {
      "cell_type": "markdown",
      "source": [
        "#judul\n"
      ],
      "metadata": {
        "id": "biv82AW6eU8V"
      }
    },
    {
      "cell_type": "markdown",
      "source": [
        "https://archive.ics.uci.edu/dataset/2/adult"
      ],
      "metadata": {
        "id": "bi0UdRvkq3wD"
      }
    },
    {
      "cell_type": "markdown",
      "source": [
        "Latar Belakang\n",
        "Tingkat pendapatan seseorang merupakan salah satu indikator penting dalam mengukur kesejahteraan masyarakat. Pendapatan tersebut dipengaruhi oleh berbagai faktor seperti usia, tingkat pendidikan, jenis pekerjaan, jam kerja per minggu, hingga status pernikahan. Memahami keterkaitan antara faktor-faktor ini dengan penghasilan dapat membantu pemerintah, perusahaan, dan lembaga sosial dalam membuat kebijakan yang lebih tepat, seperti penentuan pajak, pemberian subsidi, atau program peningkatan keterampilan kerja.\n",
        "\n",
        "Dataset Adult, yang juga dikenal sebagai Census Income Dataset, dikumpulkan oleh Biro Sensus Amerika Serikat pada tahun 1994 dan berisi data demografis lebih dari 48.000 individu. Dataset ini sering digunakan dalam studi machine learning, khususnya dalam kasus klasifikasi biner, untuk memprediksi apakah seseorang memiliki penghasilan lebih dari 50.000 dolar per tahun. Dengan memanfaatkan teknik machine learning, kita dapat membangun model prediktif yang tidak hanya akurat, tetapi juga memberikan wawasan tentang faktor-faktor penting yang memengaruhi pendapatan seseorang.\n",
        "\n",
        "Permasalahan\n",
        "Bagaimana cara memprediksi apakah seseorang memiliki penghasilan lebih dari 50.000 USD per tahun berdasarkan informasi demografis dan pekerjaan yang dimilikinya?\n",
        "\n",
        "Tujuan\n",
        "Membangun model klasifikasi berbasis machine learning untuk memprediksi tingkat pendapatan seseorang, serta mengetahui fitur-fitur (variabel) yang paling berpengaruh terhadap penghasilan.\n",
        "\n",
        "Target Klasifikasi\n",
        "Kolom target: income\n",
        "\n",
        "Kelas:\n",
        "\n",
        "- <=50K → pendapatan rendah\n",
        "\n",
        "- >50K → pendapatan tinggi\n",
        "\n",
        "Tipe masalah: Klasifikasi biner"
      ],
      "metadata": {
        "id": "JKVMUVHxq_Du"
      }
    },
    {
      "cell_type": "code",
      "source": [
        "from google.colab import drive\n",
        "drive.mount('/content/drive')"
      ],
      "metadata": {
        "colab": {
          "base_uri": "https://localhost:8080/"
        },
        "id": "ZQhqicmIrMCO",
        "outputId": "f009307e-3968-4665-a2be-a53b2836c249"
      },
      "execution_count": 82,
      "outputs": [
        {
          "output_type": "stream",
          "name": "stdout",
          "text": [
            "Drive already mounted at /content/drive; to attempt to forcibly remount, call drive.mount(\"/content/drive\", force_remount=True).\n"
          ]
        }
      ]
    },
    {
      "cell_type": "code",
      "source": [
        "# Import library\n",
        "import pandas as pd\n",
        "import numpy as np\n",
        "import matplotlib.pyplot as plt\n",
        "import seaborn as sns\n",
        "from sklearn.model_selection import train_test_split\n",
        "from sklearn.preprocessing import LabelEncoder, StandardScaler\n",
        "from sklearn.ensemble import RandomForestClassifier\n",
        "from sklearn.metrics import classification_report, confusion_matrix, accuracy_score\n",
        "from sklearn.compose import ColumnTransformer # Import ColumnTransformer\n",
        "from sklearn.pipeline import Pipeline # Import Pipeline\n",
        "from sklearn.preprocessing import StandardScaler"
      ],
      "metadata": {
        "id": "az8X6DXjrRe7"
      },
      "execution_count": 83,
      "outputs": []
    },
    {
      "cell_type": "code",
      "source": [
        "import warnings\n",
        "warnings.filterwarnings(\"ignore\")"
      ],
      "metadata": {
        "id": "PkN7pmaOrTtm"
      },
      "execution_count": 84,
      "outputs": []
    },
    {
      "cell_type": "code",
      "source": [
        "# Kolom berdasarkan file adult.names\n",
        "columns = ['age', 'workclass', 'fnlwgt', 'education', 'education-num', 'marital-status',\n",
        "           'occupation', 'relationship', 'race', 'sex', 'capital-gain', 'capital-loss',\n",
        "           'hours-per-week', 'native-country', 'income']\n",
        "\n",
        "# Load data training\n",
        "# Make sure the file path is correct relative to your mounted Google Drive\n",
        "train_df = pd.read_csv(\"/content/drive/MyDrive/PORTOFOLIO KLASIFIKASI/adult/adult.data\", header=None, names=columns, sep=\",\\s*\", engine='python')\n",
        "\n",
        "# Load data testing\n",
        "# Make sure the file path is correct relative to your mounted Google Drive\n",
        "test_df = pd.read_csv(\"/content/drive/MyDrive/PORTOFOLIO KLASIFIKASI/adult/adult.test\", skiprows=1, header=None, names=columns, sep=\",\\s*\", engine='python')\n",
        "\n",
        "# Gabungkan jika ingin satu dataset besar\n",
        "df = pd.concat([train_df, test_df], ignore_index=True)\n",
        "\n",
        "# Display the head of the concatenated dataframe\n",
        "df.head()"
      ],
      "metadata": {
        "colab": {
          "base_uri": "https://localhost:8080/",
          "height": 399
        },
        "id": "-5oE5AddrUoE",
        "outputId": "0dec6f14-cc80-4586-d99c-7c73b7c4b6bf"
      },
      "execution_count": 85,
      "outputs": [
        {
          "output_type": "execute_result",
          "data": {
            "text/plain": [
              "   age         workclass  fnlwgt  education  education-num  \\\n",
              "0   39         State-gov   77516  Bachelors             13   \n",
              "1   50  Self-emp-not-inc   83311  Bachelors             13   \n",
              "2   38           Private  215646    HS-grad              9   \n",
              "3   53           Private  234721       11th              7   \n",
              "4   28           Private  338409  Bachelors             13   \n",
              "\n",
              "       marital-status         occupation   relationship   race     sex  \\\n",
              "0       Never-married       Adm-clerical  Not-in-family  White    Male   \n",
              "1  Married-civ-spouse    Exec-managerial        Husband  White    Male   \n",
              "2            Divorced  Handlers-cleaners  Not-in-family  White    Male   \n",
              "3  Married-civ-spouse  Handlers-cleaners        Husband  Black    Male   \n",
              "4  Married-civ-spouse     Prof-specialty           Wife  Black  Female   \n",
              "\n",
              "   capital-gain  capital-loss  hours-per-week native-country income  \n",
              "0          2174             0              40  United-States  <=50K  \n",
              "1             0             0              13  United-States  <=50K  \n",
              "2             0             0              40  United-States  <=50K  \n",
              "3             0             0              40  United-States  <=50K  \n",
              "4             0             0              40           Cuba  <=50K  "
            ],
            "text/html": [
              "\n",
              "  <div id=\"df-e3e672e8-75f2-4944-96fc-837cf1a208e4\" class=\"colab-df-container\">\n",
              "    <div>\n",
              "<style scoped>\n",
              "    .dataframe tbody tr th:only-of-type {\n",
              "        vertical-align: middle;\n",
              "    }\n",
              "\n",
              "    .dataframe tbody tr th {\n",
              "        vertical-align: top;\n",
              "    }\n",
              "\n",
              "    .dataframe thead th {\n",
              "        text-align: right;\n",
              "    }\n",
              "</style>\n",
              "<table border=\"1\" class=\"dataframe\">\n",
              "  <thead>\n",
              "    <tr style=\"text-align: right;\">\n",
              "      <th></th>\n",
              "      <th>age</th>\n",
              "      <th>workclass</th>\n",
              "      <th>fnlwgt</th>\n",
              "      <th>education</th>\n",
              "      <th>education-num</th>\n",
              "      <th>marital-status</th>\n",
              "      <th>occupation</th>\n",
              "      <th>relationship</th>\n",
              "      <th>race</th>\n",
              "      <th>sex</th>\n",
              "      <th>capital-gain</th>\n",
              "      <th>capital-loss</th>\n",
              "      <th>hours-per-week</th>\n",
              "      <th>native-country</th>\n",
              "      <th>income</th>\n",
              "    </tr>\n",
              "  </thead>\n",
              "  <tbody>\n",
              "    <tr>\n",
              "      <th>0</th>\n",
              "      <td>39</td>\n",
              "      <td>State-gov</td>\n",
              "      <td>77516</td>\n",
              "      <td>Bachelors</td>\n",
              "      <td>13</td>\n",
              "      <td>Never-married</td>\n",
              "      <td>Adm-clerical</td>\n",
              "      <td>Not-in-family</td>\n",
              "      <td>White</td>\n",
              "      <td>Male</td>\n",
              "      <td>2174</td>\n",
              "      <td>0</td>\n",
              "      <td>40</td>\n",
              "      <td>United-States</td>\n",
              "      <td>&lt;=50K</td>\n",
              "    </tr>\n",
              "    <tr>\n",
              "      <th>1</th>\n",
              "      <td>50</td>\n",
              "      <td>Self-emp-not-inc</td>\n",
              "      <td>83311</td>\n",
              "      <td>Bachelors</td>\n",
              "      <td>13</td>\n",
              "      <td>Married-civ-spouse</td>\n",
              "      <td>Exec-managerial</td>\n",
              "      <td>Husband</td>\n",
              "      <td>White</td>\n",
              "      <td>Male</td>\n",
              "      <td>0</td>\n",
              "      <td>0</td>\n",
              "      <td>13</td>\n",
              "      <td>United-States</td>\n",
              "      <td>&lt;=50K</td>\n",
              "    </tr>\n",
              "    <tr>\n",
              "      <th>2</th>\n",
              "      <td>38</td>\n",
              "      <td>Private</td>\n",
              "      <td>215646</td>\n",
              "      <td>HS-grad</td>\n",
              "      <td>9</td>\n",
              "      <td>Divorced</td>\n",
              "      <td>Handlers-cleaners</td>\n",
              "      <td>Not-in-family</td>\n",
              "      <td>White</td>\n",
              "      <td>Male</td>\n",
              "      <td>0</td>\n",
              "      <td>0</td>\n",
              "      <td>40</td>\n",
              "      <td>United-States</td>\n",
              "      <td>&lt;=50K</td>\n",
              "    </tr>\n",
              "    <tr>\n",
              "      <th>3</th>\n",
              "      <td>53</td>\n",
              "      <td>Private</td>\n",
              "      <td>234721</td>\n",
              "      <td>11th</td>\n",
              "      <td>7</td>\n",
              "      <td>Married-civ-spouse</td>\n",
              "      <td>Handlers-cleaners</td>\n",
              "      <td>Husband</td>\n",
              "      <td>Black</td>\n",
              "      <td>Male</td>\n",
              "      <td>0</td>\n",
              "      <td>0</td>\n",
              "      <td>40</td>\n",
              "      <td>United-States</td>\n",
              "      <td>&lt;=50K</td>\n",
              "    </tr>\n",
              "    <tr>\n",
              "      <th>4</th>\n",
              "      <td>28</td>\n",
              "      <td>Private</td>\n",
              "      <td>338409</td>\n",
              "      <td>Bachelors</td>\n",
              "      <td>13</td>\n",
              "      <td>Married-civ-spouse</td>\n",
              "      <td>Prof-specialty</td>\n",
              "      <td>Wife</td>\n",
              "      <td>Black</td>\n",
              "      <td>Female</td>\n",
              "      <td>0</td>\n",
              "      <td>0</td>\n",
              "      <td>40</td>\n",
              "      <td>Cuba</td>\n",
              "      <td>&lt;=50K</td>\n",
              "    </tr>\n",
              "  </tbody>\n",
              "</table>\n",
              "</div>\n",
              "    <div class=\"colab-df-buttons\">\n",
              "\n",
              "  <div class=\"colab-df-container\">\n",
              "    <button class=\"colab-df-convert\" onclick=\"convertToInteractive('df-e3e672e8-75f2-4944-96fc-837cf1a208e4')\"\n",
              "            title=\"Convert this dataframe to an interactive table.\"\n",
              "            style=\"display:none;\">\n",
              "\n",
              "  <svg xmlns=\"http://www.w3.org/2000/svg\" height=\"24px\" viewBox=\"0 -960 960 960\">\n",
              "    <path d=\"M120-120v-720h720v720H120Zm60-500h600v-160H180v160Zm220 220h160v-160H400v160Zm0 220h160v-160H400v160ZM180-400h160v-160H180v160Zm440 0h160v-160H620v160ZM180-180h160v-160H180v160Zm440 0h160v-160H620v160Z\"/>\n",
              "  </svg>\n",
              "    </button>\n",
              "\n",
              "  <style>\n",
              "    .colab-df-container {\n",
              "      display:flex;\n",
              "      gap: 12px;\n",
              "    }\n",
              "\n",
              "    .colab-df-convert {\n",
              "      background-color: #E8F0FE;\n",
              "      border: none;\n",
              "      border-radius: 50%;\n",
              "      cursor: pointer;\n",
              "      display: none;\n",
              "      fill: #1967D2;\n",
              "      height: 32px;\n",
              "      padding: 0 0 0 0;\n",
              "      width: 32px;\n",
              "    }\n",
              "\n",
              "    .colab-df-convert:hover {\n",
              "      background-color: #E2EBFA;\n",
              "      box-shadow: 0px 1px 2px rgba(60, 64, 67, 0.3), 0px 1px 3px 1px rgba(60, 64, 67, 0.15);\n",
              "      fill: #174EA6;\n",
              "    }\n",
              "\n",
              "    .colab-df-buttons div {\n",
              "      margin-bottom: 4px;\n",
              "    }\n",
              "\n",
              "    [theme=dark] .colab-df-convert {\n",
              "      background-color: #3B4455;\n",
              "      fill: #D2E3FC;\n",
              "    }\n",
              "\n",
              "    [theme=dark] .colab-df-convert:hover {\n",
              "      background-color: #434B5C;\n",
              "      box-shadow: 0px 1px 3px 1px rgba(0, 0, 0, 0.15);\n",
              "      filter: drop-shadow(0px 1px 2px rgba(0, 0, 0, 0.3));\n",
              "      fill: #FFFFFF;\n",
              "    }\n",
              "  </style>\n",
              "\n",
              "    <script>\n",
              "      const buttonEl =\n",
              "        document.querySelector('#df-e3e672e8-75f2-4944-96fc-837cf1a208e4 button.colab-df-convert');\n",
              "      buttonEl.style.display =\n",
              "        google.colab.kernel.accessAllowed ? 'block' : 'none';\n",
              "\n",
              "      async function convertToInteractive(key) {\n",
              "        const element = document.querySelector('#df-e3e672e8-75f2-4944-96fc-837cf1a208e4');\n",
              "        const dataTable =\n",
              "          await google.colab.kernel.invokeFunction('convertToInteractive',\n",
              "                                                    [key], {});\n",
              "        if (!dataTable) return;\n",
              "\n",
              "        const docLinkHtml = 'Like what you see? Visit the ' +\n",
              "          '<a target=\"_blank\" href=https://colab.research.google.com/notebooks/data_table.ipynb>data table notebook</a>'\n",
              "          + ' to learn more about interactive tables.';\n",
              "        element.innerHTML = '';\n",
              "        dataTable['output_type'] = 'display_data';\n",
              "        await google.colab.output.renderOutput(dataTable, element);\n",
              "        const docLink = document.createElement('div');\n",
              "        docLink.innerHTML = docLinkHtml;\n",
              "        element.appendChild(docLink);\n",
              "      }\n",
              "    </script>\n",
              "  </div>\n",
              "\n",
              "\n",
              "    <div id=\"df-d36b9a39-22eb-4d8c-8abf-ee62ac1b26f1\">\n",
              "      <button class=\"colab-df-quickchart\" onclick=\"quickchart('df-d36b9a39-22eb-4d8c-8abf-ee62ac1b26f1')\"\n",
              "                title=\"Suggest charts\"\n",
              "                style=\"display:none;\">\n",
              "\n",
              "<svg xmlns=\"http://www.w3.org/2000/svg\" height=\"24px\"viewBox=\"0 0 24 24\"\n",
              "     width=\"24px\">\n",
              "    <g>\n",
              "        <path d=\"M19 3H5c-1.1 0-2 .9-2 2v14c0 1.1.9 2 2 2h14c1.1 0 2-.9 2-2V5c0-1.1-.9-2-2-2zM9 17H7v-7h2v7zm4 0h-2V7h2v10zm4 0h-2v-4h2v4z\"/>\n",
              "    </g>\n",
              "</svg>\n",
              "      </button>\n",
              "\n",
              "<style>\n",
              "  .colab-df-quickchart {\n",
              "      --bg-color: #E8F0FE;\n",
              "      --fill-color: #1967D2;\n",
              "      --hover-bg-color: #E2EBFA;\n",
              "      --hover-fill-color: #174EA6;\n",
              "      --disabled-fill-color: #AAA;\n",
              "      --disabled-bg-color: #DDD;\n",
              "  }\n",
              "\n",
              "  [theme=dark] .colab-df-quickchart {\n",
              "      --bg-color: #3B4455;\n",
              "      --fill-color: #D2E3FC;\n",
              "      --hover-bg-color: #434B5C;\n",
              "      --hover-fill-color: #FFFFFF;\n",
              "      --disabled-bg-color: #3B4455;\n",
              "      --disabled-fill-color: #666;\n",
              "  }\n",
              "\n",
              "  .colab-df-quickchart {\n",
              "    background-color: var(--bg-color);\n",
              "    border: none;\n",
              "    border-radius: 50%;\n",
              "    cursor: pointer;\n",
              "    display: none;\n",
              "    fill: var(--fill-color);\n",
              "    height: 32px;\n",
              "    padding: 0;\n",
              "    width: 32px;\n",
              "  }\n",
              "\n",
              "  .colab-df-quickchart:hover {\n",
              "    background-color: var(--hover-bg-color);\n",
              "    box-shadow: 0 1px 2px rgba(60, 64, 67, 0.3), 0 1px 3px 1px rgba(60, 64, 67, 0.15);\n",
              "    fill: var(--button-hover-fill-color);\n",
              "  }\n",
              "\n",
              "  .colab-df-quickchart-complete:disabled,\n",
              "  .colab-df-quickchart-complete:disabled:hover {\n",
              "    background-color: var(--disabled-bg-color);\n",
              "    fill: var(--disabled-fill-color);\n",
              "    box-shadow: none;\n",
              "  }\n",
              "\n",
              "  .colab-df-spinner {\n",
              "    border: 2px solid var(--fill-color);\n",
              "    border-color: transparent;\n",
              "    border-bottom-color: var(--fill-color);\n",
              "    animation:\n",
              "      spin 1s steps(1) infinite;\n",
              "  }\n",
              "\n",
              "  @keyframes spin {\n",
              "    0% {\n",
              "      border-color: transparent;\n",
              "      border-bottom-color: var(--fill-color);\n",
              "      border-left-color: var(--fill-color);\n",
              "    }\n",
              "    20% {\n",
              "      border-color: transparent;\n",
              "      border-left-color: var(--fill-color);\n",
              "      border-top-color: var(--fill-color);\n",
              "    }\n",
              "    30% {\n",
              "      border-color: transparent;\n",
              "      border-left-color: var(--fill-color);\n",
              "      border-top-color: var(--fill-color);\n",
              "      border-right-color: var(--fill-color);\n",
              "    }\n",
              "    40% {\n",
              "      border-color: transparent;\n",
              "      border-right-color: var(--fill-color);\n",
              "      border-top-color: var(--fill-color);\n",
              "    }\n",
              "    60% {\n",
              "      border-color: transparent;\n",
              "      border-right-color: var(--fill-color);\n",
              "    }\n",
              "    80% {\n",
              "      border-color: transparent;\n",
              "      border-right-color: var(--fill-color);\n",
              "      border-bottom-color: var(--fill-color);\n",
              "    }\n",
              "    90% {\n",
              "      border-color: transparent;\n",
              "      border-bottom-color: var(--fill-color);\n",
              "    }\n",
              "  }\n",
              "</style>\n",
              "\n",
              "      <script>\n",
              "        async function quickchart(key) {\n",
              "          const quickchartButtonEl =\n",
              "            document.querySelector('#' + key + ' button');\n",
              "          quickchartButtonEl.disabled = true;  // To prevent multiple clicks.\n",
              "          quickchartButtonEl.classList.add('colab-df-spinner');\n",
              "          try {\n",
              "            const charts = await google.colab.kernel.invokeFunction(\n",
              "                'suggestCharts', [key], {});\n",
              "          } catch (error) {\n",
              "            console.error('Error during call to suggestCharts:', error);\n",
              "          }\n",
              "          quickchartButtonEl.classList.remove('colab-df-spinner');\n",
              "          quickchartButtonEl.classList.add('colab-df-quickchart-complete');\n",
              "        }\n",
              "        (() => {\n",
              "          let quickchartButtonEl =\n",
              "            document.querySelector('#df-d36b9a39-22eb-4d8c-8abf-ee62ac1b26f1 button');\n",
              "          quickchartButtonEl.style.display =\n",
              "            google.colab.kernel.accessAllowed ? 'block' : 'none';\n",
              "        })();\n",
              "      </script>\n",
              "    </div>\n",
              "\n",
              "    </div>\n",
              "  </div>\n"
            ],
            "application/vnd.google.colaboratory.intrinsic+json": {
              "type": "dataframe",
              "variable_name": "df",
              "summary": "{\n  \"name\": \"df\",\n  \"rows\": 48842,\n  \"fields\": [\n    {\n      \"column\": \"age\",\n      \"properties\": {\n        \"dtype\": \"number\",\n        \"std\": 13,\n        \"min\": 17,\n        \"max\": 90,\n        \"num_unique_values\": 74,\n        \"samples\": [\n          28,\n          73,\n          35\n        ],\n        \"semantic_type\": \"\",\n        \"description\": \"\"\n      }\n    },\n    {\n      \"column\": \"workclass\",\n      \"properties\": {\n        \"dtype\": \"category\",\n        \"num_unique_values\": 9,\n        \"samples\": [\n          \"Without-pay\",\n          \"Self-emp-not-inc\",\n          \"?\"\n        ],\n        \"semantic_type\": \"\",\n        \"description\": \"\"\n      }\n    },\n    {\n      \"column\": \"fnlwgt\",\n      \"properties\": {\n        \"dtype\": \"number\",\n        \"std\": 105604,\n        \"min\": 12285,\n        \"max\": 1490400,\n        \"num_unique_values\": 28523,\n        \"samples\": [\n          159077,\n          199450,\n          181773\n        ],\n        \"semantic_type\": \"\",\n        \"description\": \"\"\n      }\n    },\n    {\n      \"column\": \"education\",\n      \"properties\": {\n        \"dtype\": \"category\",\n        \"num_unique_values\": 16,\n        \"samples\": [\n          \"Bachelors\",\n          \"HS-grad\",\n          \"Some-college\"\n        ],\n        \"semantic_type\": \"\",\n        \"description\": \"\"\n      }\n    },\n    {\n      \"column\": \"education-num\",\n      \"properties\": {\n        \"dtype\": \"number\",\n        \"std\": 2,\n        \"min\": 1,\n        \"max\": 16,\n        \"num_unique_values\": 16,\n        \"samples\": [\n          13,\n          9,\n          10\n        ],\n        \"semantic_type\": \"\",\n        \"description\": \"\"\n      }\n    },\n    {\n      \"column\": \"marital-status\",\n      \"properties\": {\n        \"dtype\": \"category\",\n        \"num_unique_values\": 7,\n        \"samples\": [\n          \"Never-married\",\n          \"Married-civ-spouse\",\n          \"Married-AF-spouse\"\n        ],\n        \"semantic_type\": \"\",\n        \"description\": \"\"\n      }\n    },\n    {\n      \"column\": \"occupation\",\n      \"properties\": {\n        \"dtype\": \"category\",\n        \"num_unique_values\": 15,\n        \"samples\": [\n          \"Machine-op-inspct\",\n          \"?\",\n          \"Adm-clerical\"\n        ],\n        \"semantic_type\": \"\",\n        \"description\": \"\"\n      }\n    },\n    {\n      \"column\": \"relationship\",\n      \"properties\": {\n        \"dtype\": \"category\",\n        \"num_unique_values\": 6,\n        \"samples\": [\n          \"Not-in-family\",\n          \"Husband\",\n          \"Other-relative\"\n        ],\n        \"semantic_type\": \"\",\n        \"description\": \"\"\n      }\n    },\n    {\n      \"column\": \"race\",\n      \"properties\": {\n        \"dtype\": \"category\",\n        \"num_unique_values\": 5,\n        \"samples\": [\n          \"Black\",\n          \"Other\",\n          \"Asian-Pac-Islander\"\n        ],\n        \"semantic_type\": \"\",\n        \"description\": \"\"\n      }\n    },\n    {\n      \"column\": \"sex\",\n      \"properties\": {\n        \"dtype\": \"category\",\n        \"num_unique_values\": 2,\n        \"samples\": [\n          \"Female\",\n          \"Male\"\n        ],\n        \"semantic_type\": \"\",\n        \"description\": \"\"\n      }\n    },\n    {\n      \"column\": \"capital-gain\",\n      \"properties\": {\n        \"dtype\": \"number\",\n        \"std\": 7452,\n        \"min\": 0,\n        \"max\": 99999,\n        \"num_unique_values\": 123,\n        \"samples\": [\n          2176,\n          10520\n        ],\n        \"semantic_type\": \"\",\n        \"description\": \"\"\n      }\n    },\n    {\n      \"column\": \"capital-loss\",\n      \"properties\": {\n        \"dtype\": \"number\",\n        \"std\": 403,\n        \"min\": 0,\n        \"max\": 4356,\n        \"num_unique_values\": 99,\n        \"samples\": [\n          1974,\n          419\n        ],\n        \"semantic_type\": \"\",\n        \"description\": \"\"\n      }\n    },\n    {\n      \"column\": \"hours-per-week\",\n      \"properties\": {\n        \"dtype\": \"number\",\n        \"std\": 12,\n        \"min\": 1,\n        \"max\": 99,\n        \"num_unique_values\": 96,\n        \"samples\": [\n          97,\n          88\n        ],\n        \"semantic_type\": \"\",\n        \"description\": \"\"\n      }\n    },\n    {\n      \"column\": \"native-country\",\n      \"properties\": {\n        \"dtype\": \"category\",\n        \"num_unique_values\": 42,\n        \"samples\": [\n          \"El-Salvador\",\n          \"Philippines\"\n        ],\n        \"semantic_type\": \"\",\n        \"description\": \"\"\n      }\n    },\n    {\n      \"column\": \"income\",\n      \"properties\": {\n        \"dtype\": \"category\",\n        \"num_unique_values\": 4,\n        \"samples\": [\n          \">50K\",\n          \">50K.\"\n        ],\n        \"semantic_type\": \"\",\n        \"description\": \"\"\n      }\n    }\n  ]\n}"
            }
          },
          "metadata": {},
          "execution_count": 85
        }
      ]
    },
    {
      "cell_type": "markdown",
      "source": [
        "\n",
        "age : Usia individu dalam tahun\n",
        "\n",
        "workclass : Jenis pekerjaan atau kelas pekerjaan\n",
        "\n",
        "fnlwgt : Final weight, mewakili jumlah orang dalam populasi yang memiliki karakteristik serupa\n",
        "\n",
        "education : Tingkat pendidikan formal yang telah diselesaikan\n",
        "\n",
        "education-num : Representasi numerik dari tingkat pendidikan\n",
        "\n",
        "marital-status : Status pernikahan individu\n",
        "\n",
        "occupation : Jenis pekerjaan spesifik yang dijalani\n",
        "\n",
        "relationship : Hubungan individu dalam rumah tangga (misal: suami, anak, dll)\n",
        "\n",
        "race : Ras atau kelompok etnis individu\n",
        "\n",
        "sex : Jenis kelamin\n",
        "\n",
        "capital-gain : Jumlah keuntungan modal yang diperoleh dalam setahun\n",
        "\n",
        "capital-loss : Jumlah kerugian modal yang dialami dalam setahun\n",
        "\n",
        "hours-per-week : Jumlah jam kerja per minggu\n",
        "\n",
        "native-country : Negara asal individu\n",
        "\n",
        "income : Target klasifikasi — apakah penghasilan individu lebih dari 50K per tahun atau tidak"
      ],
      "metadata": {
        "id": "HFvzWLL9IjYm"
      }
    },
    {
      "cell_type": "markdown",
      "source": [
        "#DATA CLEANING"
      ],
      "metadata": {
        "id": "4-fuFYErvPCv"
      }
    },
    {
      "cell_type": "code",
      "source": [
        "df.info()"
      ],
      "metadata": {
        "colab": {
          "base_uri": "https://localhost:8080/"
        },
        "id": "VSUX_nx1I_OO",
        "outputId": "e771af40-ab27-4fbb-9727-55794d360b89"
      },
      "execution_count": 86,
      "outputs": [
        {
          "output_type": "stream",
          "name": "stdout",
          "text": [
            "<class 'pandas.core.frame.DataFrame'>\n",
            "RangeIndex: 48842 entries, 0 to 48841\n",
            "Data columns (total 15 columns):\n",
            " #   Column          Non-Null Count  Dtype \n",
            "---  ------          --------------  ----- \n",
            " 0   age             48842 non-null  int64 \n",
            " 1   workclass       48842 non-null  object\n",
            " 2   fnlwgt          48842 non-null  int64 \n",
            " 3   education       48842 non-null  object\n",
            " 4   education-num   48842 non-null  int64 \n",
            " 5   marital-status  48842 non-null  object\n",
            " 6   occupation      48842 non-null  object\n",
            " 7   relationship    48842 non-null  object\n",
            " 8   race            48842 non-null  object\n",
            " 9   sex             48842 non-null  object\n",
            " 10  capital-gain    48842 non-null  int64 \n",
            " 11  capital-loss    48842 non-null  int64 \n",
            " 12  hours-per-week  48842 non-null  int64 \n",
            " 13  native-country  48842 non-null  object\n",
            " 14  income          48842 non-null  object\n",
            "dtypes: int64(6), object(9)\n",
            "memory usage: 5.6+ MB\n"
          ]
        }
      ]
    },
    {
      "cell_type": "markdown",
      "source": [
        "- memiliki 15 kolom\n",
        "\n",
        "- memiliki 48842 baris\n"
      ],
      "metadata": {
        "id": "HyzGerjejltF"
      }
    },
    {
      "cell_type": "code",
      "source": [
        "df.head(1)"
      ],
      "metadata": {
        "colab": {
          "base_uri": "https://localhost:8080/",
          "height": 152
        },
        "id": "8koWFrIGJAFQ",
        "outputId": "8bdf18e0-73da-404f-c514-7eb1b5af554a"
      },
      "execution_count": 87,
      "outputs": [
        {
          "output_type": "execute_result",
          "data": {
            "text/plain": [
              "   age  workclass  fnlwgt  education  education-num marital-status  \\\n",
              "0   39  State-gov   77516  Bachelors             13  Never-married   \n",
              "\n",
              "     occupation   relationship   race   sex  capital-gain  capital-loss  \\\n",
              "0  Adm-clerical  Not-in-family  White  Male          2174             0   \n",
              "\n",
              "   hours-per-week native-country income  \n",
              "0              40  United-States  <=50K  "
            ],
            "text/html": [
              "\n",
              "  <div id=\"df-1848cdda-f6b7-4702-abac-1a5bf2888b48\" class=\"colab-df-container\">\n",
              "    <div>\n",
              "<style scoped>\n",
              "    .dataframe tbody tr th:only-of-type {\n",
              "        vertical-align: middle;\n",
              "    }\n",
              "\n",
              "    .dataframe tbody tr th {\n",
              "        vertical-align: top;\n",
              "    }\n",
              "\n",
              "    .dataframe thead th {\n",
              "        text-align: right;\n",
              "    }\n",
              "</style>\n",
              "<table border=\"1\" class=\"dataframe\">\n",
              "  <thead>\n",
              "    <tr style=\"text-align: right;\">\n",
              "      <th></th>\n",
              "      <th>age</th>\n",
              "      <th>workclass</th>\n",
              "      <th>fnlwgt</th>\n",
              "      <th>education</th>\n",
              "      <th>education-num</th>\n",
              "      <th>marital-status</th>\n",
              "      <th>occupation</th>\n",
              "      <th>relationship</th>\n",
              "      <th>race</th>\n",
              "      <th>sex</th>\n",
              "      <th>capital-gain</th>\n",
              "      <th>capital-loss</th>\n",
              "      <th>hours-per-week</th>\n",
              "      <th>native-country</th>\n",
              "      <th>income</th>\n",
              "    </tr>\n",
              "  </thead>\n",
              "  <tbody>\n",
              "    <tr>\n",
              "      <th>0</th>\n",
              "      <td>39</td>\n",
              "      <td>State-gov</td>\n",
              "      <td>77516</td>\n",
              "      <td>Bachelors</td>\n",
              "      <td>13</td>\n",
              "      <td>Never-married</td>\n",
              "      <td>Adm-clerical</td>\n",
              "      <td>Not-in-family</td>\n",
              "      <td>White</td>\n",
              "      <td>Male</td>\n",
              "      <td>2174</td>\n",
              "      <td>0</td>\n",
              "      <td>40</td>\n",
              "      <td>United-States</td>\n",
              "      <td>&lt;=50K</td>\n",
              "    </tr>\n",
              "  </tbody>\n",
              "</table>\n",
              "</div>\n",
              "    <div class=\"colab-df-buttons\">\n",
              "\n",
              "  <div class=\"colab-df-container\">\n",
              "    <button class=\"colab-df-convert\" onclick=\"convertToInteractive('df-1848cdda-f6b7-4702-abac-1a5bf2888b48')\"\n",
              "            title=\"Convert this dataframe to an interactive table.\"\n",
              "            style=\"display:none;\">\n",
              "\n",
              "  <svg xmlns=\"http://www.w3.org/2000/svg\" height=\"24px\" viewBox=\"0 -960 960 960\">\n",
              "    <path d=\"M120-120v-720h720v720H120Zm60-500h600v-160H180v160Zm220 220h160v-160H400v160Zm0 220h160v-160H400v160ZM180-400h160v-160H180v160Zm440 0h160v-160H620v160ZM180-180h160v-160H180v160Zm440 0h160v-160H620v160Z\"/>\n",
              "  </svg>\n",
              "    </button>\n",
              "\n",
              "  <style>\n",
              "    .colab-df-container {\n",
              "      display:flex;\n",
              "      gap: 12px;\n",
              "    }\n",
              "\n",
              "    .colab-df-convert {\n",
              "      background-color: #E8F0FE;\n",
              "      border: none;\n",
              "      border-radius: 50%;\n",
              "      cursor: pointer;\n",
              "      display: none;\n",
              "      fill: #1967D2;\n",
              "      height: 32px;\n",
              "      padding: 0 0 0 0;\n",
              "      width: 32px;\n",
              "    }\n",
              "\n",
              "    .colab-df-convert:hover {\n",
              "      background-color: #E2EBFA;\n",
              "      box-shadow: 0px 1px 2px rgba(60, 64, 67, 0.3), 0px 1px 3px 1px rgba(60, 64, 67, 0.15);\n",
              "      fill: #174EA6;\n",
              "    }\n",
              "\n",
              "    .colab-df-buttons div {\n",
              "      margin-bottom: 4px;\n",
              "    }\n",
              "\n",
              "    [theme=dark] .colab-df-convert {\n",
              "      background-color: #3B4455;\n",
              "      fill: #D2E3FC;\n",
              "    }\n",
              "\n",
              "    [theme=dark] .colab-df-convert:hover {\n",
              "      background-color: #434B5C;\n",
              "      box-shadow: 0px 1px 3px 1px rgba(0, 0, 0, 0.15);\n",
              "      filter: drop-shadow(0px 1px 2px rgba(0, 0, 0, 0.3));\n",
              "      fill: #FFFFFF;\n",
              "    }\n",
              "  </style>\n",
              "\n",
              "    <script>\n",
              "      const buttonEl =\n",
              "        document.querySelector('#df-1848cdda-f6b7-4702-abac-1a5bf2888b48 button.colab-df-convert');\n",
              "      buttonEl.style.display =\n",
              "        google.colab.kernel.accessAllowed ? 'block' : 'none';\n",
              "\n",
              "      async function convertToInteractive(key) {\n",
              "        const element = document.querySelector('#df-1848cdda-f6b7-4702-abac-1a5bf2888b48');\n",
              "        const dataTable =\n",
              "          await google.colab.kernel.invokeFunction('convertToInteractive',\n",
              "                                                    [key], {});\n",
              "        if (!dataTable) return;\n",
              "\n",
              "        const docLinkHtml = 'Like what you see? Visit the ' +\n",
              "          '<a target=\"_blank\" href=https://colab.research.google.com/notebooks/data_table.ipynb>data table notebook</a>'\n",
              "          + ' to learn more about interactive tables.';\n",
              "        element.innerHTML = '';\n",
              "        dataTable['output_type'] = 'display_data';\n",
              "        await google.colab.output.renderOutput(dataTable, element);\n",
              "        const docLink = document.createElement('div');\n",
              "        docLink.innerHTML = docLinkHtml;\n",
              "        element.appendChild(docLink);\n",
              "      }\n",
              "    </script>\n",
              "  </div>\n",
              "\n",
              "\n",
              "    </div>\n",
              "  </div>\n"
            ],
            "application/vnd.google.colaboratory.intrinsic+json": {
              "type": "dataframe",
              "variable_name": "df",
              "summary": "{\n  \"name\": \"df\",\n  \"rows\": 48842,\n  \"fields\": [\n    {\n      \"column\": \"age\",\n      \"properties\": {\n        \"dtype\": \"number\",\n        \"std\": 13,\n        \"min\": 17,\n        \"max\": 90,\n        \"num_unique_values\": 74,\n        \"samples\": [\n          28,\n          73,\n          35\n        ],\n        \"semantic_type\": \"\",\n        \"description\": \"\"\n      }\n    },\n    {\n      \"column\": \"workclass\",\n      \"properties\": {\n        \"dtype\": \"category\",\n        \"num_unique_values\": 9,\n        \"samples\": [\n          \"Without-pay\",\n          \"Self-emp-not-inc\",\n          \"?\"\n        ],\n        \"semantic_type\": \"\",\n        \"description\": \"\"\n      }\n    },\n    {\n      \"column\": \"fnlwgt\",\n      \"properties\": {\n        \"dtype\": \"number\",\n        \"std\": 105604,\n        \"min\": 12285,\n        \"max\": 1490400,\n        \"num_unique_values\": 28523,\n        \"samples\": [\n          159077,\n          199450,\n          181773\n        ],\n        \"semantic_type\": \"\",\n        \"description\": \"\"\n      }\n    },\n    {\n      \"column\": \"education\",\n      \"properties\": {\n        \"dtype\": \"category\",\n        \"num_unique_values\": 16,\n        \"samples\": [\n          \"Bachelors\",\n          \"HS-grad\",\n          \"Some-college\"\n        ],\n        \"semantic_type\": \"\",\n        \"description\": \"\"\n      }\n    },\n    {\n      \"column\": \"education-num\",\n      \"properties\": {\n        \"dtype\": \"number\",\n        \"std\": 2,\n        \"min\": 1,\n        \"max\": 16,\n        \"num_unique_values\": 16,\n        \"samples\": [\n          13,\n          9,\n          10\n        ],\n        \"semantic_type\": \"\",\n        \"description\": \"\"\n      }\n    },\n    {\n      \"column\": \"marital-status\",\n      \"properties\": {\n        \"dtype\": \"category\",\n        \"num_unique_values\": 7,\n        \"samples\": [\n          \"Never-married\",\n          \"Married-civ-spouse\",\n          \"Married-AF-spouse\"\n        ],\n        \"semantic_type\": \"\",\n        \"description\": \"\"\n      }\n    },\n    {\n      \"column\": \"occupation\",\n      \"properties\": {\n        \"dtype\": \"category\",\n        \"num_unique_values\": 15,\n        \"samples\": [\n          \"Machine-op-inspct\",\n          \"?\",\n          \"Adm-clerical\"\n        ],\n        \"semantic_type\": \"\",\n        \"description\": \"\"\n      }\n    },\n    {\n      \"column\": \"relationship\",\n      \"properties\": {\n        \"dtype\": \"category\",\n        \"num_unique_values\": 6,\n        \"samples\": [\n          \"Not-in-family\",\n          \"Husband\",\n          \"Other-relative\"\n        ],\n        \"semantic_type\": \"\",\n        \"description\": \"\"\n      }\n    },\n    {\n      \"column\": \"race\",\n      \"properties\": {\n        \"dtype\": \"category\",\n        \"num_unique_values\": 5,\n        \"samples\": [\n          \"Black\",\n          \"Other\",\n          \"Asian-Pac-Islander\"\n        ],\n        \"semantic_type\": \"\",\n        \"description\": \"\"\n      }\n    },\n    {\n      \"column\": \"sex\",\n      \"properties\": {\n        \"dtype\": \"category\",\n        \"num_unique_values\": 2,\n        \"samples\": [\n          \"Female\",\n          \"Male\"\n        ],\n        \"semantic_type\": \"\",\n        \"description\": \"\"\n      }\n    },\n    {\n      \"column\": \"capital-gain\",\n      \"properties\": {\n        \"dtype\": \"number\",\n        \"std\": 7452,\n        \"min\": 0,\n        \"max\": 99999,\n        \"num_unique_values\": 123,\n        \"samples\": [\n          2176,\n          10520\n        ],\n        \"semantic_type\": \"\",\n        \"description\": \"\"\n      }\n    },\n    {\n      \"column\": \"capital-loss\",\n      \"properties\": {\n        \"dtype\": \"number\",\n        \"std\": 403,\n        \"min\": 0,\n        \"max\": 4356,\n        \"num_unique_values\": 99,\n        \"samples\": [\n          1974,\n          419\n        ],\n        \"semantic_type\": \"\",\n        \"description\": \"\"\n      }\n    },\n    {\n      \"column\": \"hours-per-week\",\n      \"properties\": {\n        \"dtype\": \"number\",\n        \"std\": 12,\n        \"min\": 1,\n        \"max\": 99,\n        \"num_unique_values\": 96,\n        \"samples\": [\n          97,\n          88\n        ],\n        \"semantic_type\": \"\",\n        \"description\": \"\"\n      }\n    },\n    {\n      \"column\": \"native-country\",\n      \"properties\": {\n        \"dtype\": \"category\",\n        \"num_unique_values\": 42,\n        \"samples\": [\n          \"El-Salvador\",\n          \"Philippines\"\n        ],\n        \"semantic_type\": \"\",\n        \"description\": \"\"\n      }\n    },\n    {\n      \"column\": \"income\",\n      \"properties\": {\n        \"dtype\": \"category\",\n        \"num_unique_values\": 4,\n        \"samples\": [\n          \">50K\",\n          \">50K.\"\n        ],\n        \"semantic_type\": \"\",\n        \"description\": \"\"\n      }\n    }\n  ]\n}"
            }
          },
          "metadata": {},
          "execution_count": 87
        }
      ]
    },
    {
      "cell_type": "code",
      "source": [
        "#value income\n",
        "df['income'].value_counts()"
      ],
      "metadata": {
        "colab": {
          "base_uri": "https://localhost:8080/",
          "height": 241
        },
        "id": "QOgBLEeVHOf7",
        "outputId": "34386f4f-be60-41fc-aac1-ba539ca9e242"
      },
      "execution_count": 88,
      "outputs": [
        {
          "output_type": "execute_result",
          "data": {
            "text/plain": [
              "income\n",
              "<=50K     24720\n",
              "<=50K.    12435\n",
              ">50K       7841\n",
              ">50K.      3846\n",
              "Name: count, dtype: int64"
            ],
            "text/html": [
              "<div>\n",
              "<style scoped>\n",
              "    .dataframe tbody tr th:only-of-type {\n",
              "        vertical-align: middle;\n",
              "    }\n",
              "\n",
              "    .dataframe tbody tr th {\n",
              "        vertical-align: top;\n",
              "    }\n",
              "\n",
              "    .dataframe thead th {\n",
              "        text-align: right;\n",
              "    }\n",
              "</style>\n",
              "<table border=\"1\" class=\"dataframe\">\n",
              "  <thead>\n",
              "    <tr style=\"text-align: right;\">\n",
              "      <th></th>\n",
              "      <th>count</th>\n",
              "    </tr>\n",
              "    <tr>\n",
              "      <th>income</th>\n",
              "      <th></th>\n",
              "    </tr>\n",
              "  </thead>\n",
              "  <tbody>\n",
              "    <tr>\n",
              "      <th>&lt;=50K</th>\n",
              "      <td>24720</td>\n",
              "    </tr>\n",
              "    <tr>\n",
              "      <th>&lt;=50K.</th>\n",
              "      <td>12435</td>\n",
              "    </tr>\n",
              "    <tr>\n",
              "      <th>&gt;50K</th>\n",
              "      <td>7841</td>\n",
              "    </tr>\n",
              "    <tr>\n",
              "      <th>&gt;50K.</th>\n",
              "      <td>3846</td>\n",
              "    </tr>\n",
              "  </tbody>\n",
              "</table>\n",
              "</div><br><label><b>dtype:</b> int64</label>"
            ]
          },
          "metadata": {},
          "execution_count": 88
        }
      ]
    },
    {
      "cell_type": "markdown",
      "source": [
        "karna isi kolom income tidak biner maka saya akan merubah ke 0 dan 1 agar  mudah digunakan dalam proses machine learning"
      ],
      "metadata": {
        "id": "sKwIc9Bad-Oj"
      }
    },
    {
      "cell_type": "code",
      "source": [
        "# Bersihkan spasi dan titik terlebih dulu\n",
        "df['income'] = df['income'].str.strip().str.replace('.', '', regex=False)\n",
        "\n",
        "# Ubah ke 0 dan 1\n",
        "df['income'] = df['income'].replace({'<=50K': 0, '>50K': 1})"
      ],
      "metadata": {
        "id": "Chbk6JW8Hg3B"
      },
      "execution_count": 89,
      "outputs": []
    },
    {
      "cell_type": "code",
      "source": [],
      "metadata": {
        "id": "5BHo8mVIIaS9"
      },
      "execution_count": null,
      "outputs": []
    },
    {
      "cell_type": "markdown",
      "source": [
        "karna isi pada terget income belum sesuai maka dari itu saya sesuaikan terlebih dahulu\n"
      ],
      "metadata": {
        "id": "Dnzi1DnnHoCL"
      }
    },
    {
      "cell_type": "code",
      "source": [
        "#persentase income\n",
        "df['income'].value_counts(normalize=True)"
      ],
      "metadata": {
        "colab": {
          "base_uri": "https://localhost:8080/",
          "height": 178
        },
        "id": "QDs04RCAHiqK",
        "outputId": "920a4722-dfc1-4f5a-c088-a60051b4544d"
      },
      "execution_count": 90,
      "outputs": [
        {
          "output_type": "execute_result",
          "data": {
            "text/plain": [
              "income\n",
              "0    0.760718\n",
              "1    0.239282\n",
              "Name: proportion, dtype: float64"
            ],
            "text/html": [
              "<div>\n",
              "<style scoped>\n",
              "    .dataframe tbody tr th:only-of-type {\n",
              "        vertical-align: middle;\n",
              "    }\n",
              "\n",
              "    .dataframe tbody tr th {\n",
              "        vertical-align: top;\n",
              "    }\n",
              "\n",
              "    .dataframe thead th {\n",
              "        text-align: right;\n",
              "    }\n",
              "</style>\n",
              "<table border=\"1\" class=\"dataframe\">\n",
              "  <thead>\n",
              "    <tr style=\"text-align: right;\">\n",
              "      <th></th>\n",
              "      <th>proportion</th>\n",
              "    </tr>\n",
              "    <tr>\n",
              "      <th>income</th>\n",
              "      <th></th>\n",
              "    </tr>\n",
              "  </thead>\n",
              "  <tbody>\n",
              "    <tr>\n",
              "      <th>0</th>\n",
              "      <td>0.760718</td>\n",
              "    </tr>\n",
              "    <tr>\n",
              "      <th>1</th>\n",
              "      <td>0.239282</td>\n",
              "    </tr>\n",
              "  </tbody>\n",
              "</table>\n",
              "</div><br><label><b>dtype:</b> float64</label>"
            ]
          },
          "metadata": {},
          "execution_count": 90
        }
      ]
    },
    {
      "cell_type": "markdown",
      "source": [
        ". Periksa dan Bersihkan Nilai Kosong atau Tidak Valid"
      ],
      "metadata": {
        "id": "ptrWCEnLIFfe"
      }
    },
    {
      "cell_type": "code",
      "source": [
        "df.head()"
      ],
      "metadata": {
        "colab": {
          "base_uri": "https://localhost:8080/",
          "height": 399
        },
        "id": "CygxUSj0IAZ2",
        "outputId": "3c69db2a-3fd0-48c7-f1d5-1eb45a37c4e2"
      },
      "execution_count": 91,
      "outputs": [
        {
          "output_type": "execute_result",
          "data": {
            "text/plain": [
              "   age         workclass  fnlwgt  education  education-num  \\\n",
              "0   39         State-gov   77516  Bachelors             13   \n",
              "1   50  Self-emp-not-inc   83311  Bachelors             13   \n",
              "2   38           Private  215646    HS-grad              9   \n",
              "3   53           Private  234721       11th              7   \n",
              "4   28           Private  338409  Bachelors             13   \n",
              "\n",
              "       marital-status         occupation   relationship   race     sex  \\\n",
              "0       Never-married       Adm-clerical  Not-in-family  White    Male   \n",
              "1  Married-civ-spouse    Exec-managerial        Husband  White    Male   \n",
              "2            Divorced  Handlers-cleaners  Not-in-family  White    Male   \n",
              "3  Married-civ-spouse  Handlers-cleaners        Husband  Black    Male   \n",
              "4  Married-civ-spouse     Prof-specialty           Wife  Black  Female   \n",
              "\n",
              "   capital-gain  capital-loss  hours-per-week native-country  income  \n",
              "0          2174             0              40  United-States       0  \n",
              "1             0             0              13  United-States       0  \n",
              "2             0             0              40  United-States       0  \n",
              "3             0             0              40  United-States       0  \n",
              "4             0             0              40           Cuba       0  "
            ],
            "text/html": [
              "\n",
              "  <div id=\"df-f42e664f-c9cb-4666-98b0-73b61da749bf\" class=\"colab-df-container\">\n",
              "    <div>\n",
              "<style scoped>\n",
              "    .dataframe tbody tr th:only-of-type {\n",
              "        vertical-align: middle;\n",
              "    }\n",
              "\n",
              "    .dataframe tbody tr th {\n",
              "        vertical-align: top;\n",
              "    }\n",
              "\n",
              "    .dataframe thead th {\n",
              "        text-align: right;\n",
              "    }\n",
              "</style>\n",
              "<table border=\"1\" class=\"dataframe\">\n",
              "  <thead>\n",
              "    <tr style=\"text-align: right;\">\n",
              "      <th></th>\n",
              "      <th>age</th>\n",
              "      <th>workclass</th>\n",
              "      <th>fnlwgt</th>\n",
              "      <th>education</th>\n",
              "      <th>education-num</th>\n",
              "      <th>marital-status</th>\n",
              "      <th>occupation</th>\n",
              "      <th>relationship</th>\n",
              "      <th>race</th>\n",
              "      <th>sex</th>\n",
              "      <th>capital-gain</th>\n",
              "      <th>capital-loss</th>\n",
              "      <th>hours-per-week</th>\n",
              "      <th>native-country</th>\n",
              "      <th>income</th>\n",
              "    </tr>\n",
              "  </thead>\n",
              "  <tbody>\n",
              "    <tr>\n",
              "      <th>0</th>\n",
              "      <td>39</td>\n",
              "      <td>State-gov</td>\n",
              "      <td>77516</td>\n",
              "      <td>Bachelors</td>\n",
              "      <td>13</td>\n",
              "      <td>Never-married</td>\n",
              "      <td>Adm-clerical</td>\n",
              "      <td>Not-in-family</td>\n",
              "      <td>White</td>\n",
              "      <td>Male</td>\n",
              "      <td>2174</td>\n",
              "      <td>0</td>\n",
              "      <td>40</td>\n",
              "      <td>United-States</td>\n",
              "      <td>0</td>\n",
              "    </tr>\n",
              "    <tr>\n",
              "      <th>1</th>\n",
              "      <td>50</td>\n",
              "      <td>Self-emp-not-inc</td>\n",
              "      <td>83311</td>\n",
              "      <td>Bachelors</td>\n",
              "      <td>13</td>\n",
              "      <td>Married-civ-spouse</td>\n",
              "      <td>Exec-managerial</td>\n",
              "      <td>Husband</td>\n",
              "      <td>White</td>\n",
              "      <td>Male</td>\n",
              "      <td>0</td>\n",
              "      <td>0</td>\n",
              "      <td>13</td>\n",
              "      <td>United-States</td>\n",
              "      <td>0</td>\n",
              "    </tr>\n",
              "    <tr>\n",
              "      <th>2</th>\n",
              "      <td>38</td>\n",
              "      <td>Private</td>\n",
              "      <td>215646</td>\n",
              "      <td>HS-grad</td>\n",
              "      <td>9</td>\n",
              "      <td>Divorced</td>\n",
              "      <td>Handlers-cleaners</td>\n",
              "      <td>Not-in-family</td>\n",
              "      <td>White</td>\n",
              "      <td>Male</td>\n",
              "      <td>0</td>\n",
              "      <td>0</td>\n",
              "      <td>40</td>\n",
              "      <td>United-States</td>\n",
              "      <td>0</td>\n",
              "    </tr>\n",
              "    <tr>\n",
              "      <th>3</th>\n",
              "      <td>53</td>\n",
              "      <td>Private</td>\n",
              "      <td>234721</td>\n",
              "      <td>11th</td>\n",
              "      <td>7</td>\n",
              "      <td>Married-civ-spouse</td>\n",
              "      <td>Handlers-cleaners</td>\n",
              "      <td>Husband</td>\n",
              "      <td>Black</td>\n",
              "      <td>Male</td>\n",
              "      <td>0</td>\n",
              "      <td>0</td>\n",
              "      <td>40</td>\n",
              "      <td>United-States</td>\n",
              "      <td>0</td>\n",
              "    </tr>\n",
              "    <tr>\n",
              "      <th>4</th>\n",
              "      <td>28</td>\n",
              "      <td>Private</td>\n",
              "      <td>338409</td>\n",
              "      <td>Bachelors</td>\n",
              "      <td>13</td>\n",
              "      <td>Married-civ-spouse</td>\n",
              "      <td>Prof-specialty</td>\n",
              "      <td>Wife</td>\n",
              "      <td>Black</td>\n",
              "      <td>Female</td>\n",
              "      <td>0</td>\n",
              "      <td>0</td>\n",
              "      <td>40</td>\n",
              "      <td>Cuba</td>\n",
              "      <td>0</td>\n",
              "    </tr>\n",
              "  </tbody>\n",
              "</table>\n",
              "</div>\n",
              "    <div class=\"colab-df-buttons\">\n",
              "\n",
              "  <div class=\"colab-df-container\">\n",
              "    <button class=\"colab-df-convert\" onclick=\"convertToInteractive('df-f42e664f-c9cb-4666-98b0-73b61da749bf')\"\n",
              "            title=\"Convert this dataframe to an interactive table.\"\n",
              "            style=\"display:none;\">\n",
              "\n",
              "  <svg xmlns=\"http://www.w3.org/2000/svg\" height=\"24px\" viewBox=\"0 -960 960 960\">\n",
              "    <path d=\"M120-120v-720h720v720H120Zm60-500h600v-160H180v160Zm220 220h160v-160H400v160Zm0 220h160v-160H400v160ZM180-400h160v-160H180v160Zm440 0h160v-160H620v160ZM180-180h160v-160H180v160Zm440 0h160v-160H620v160Z\"/>\n",
              "  </svg>\n",
              "    </button>\n",
              "\n",
              "  <style>\n",
              "    .colab-df-container {\n",
              "      display:flex;\n",
              "      gap: 12px;\n",
              "    }\n",
              "\n",
              "    .colab-df-convert {\n",
              "      background-color: #E8F0FE;\n",
              "      border: none;\n",
              "      border-radius: 50%;\n",
              "      cursor: pointer;\n",
              "      display: none;\n",
              "      fill: #1967D2;\n",
              "      height: 32px;\n",
              "      padding: 0 0 0 0;\n",
              "      width: 32px;\n",
              "    }\n",
              "\n",
              "    .colab-df-convert:hover {\n",
              "      background-color: #E2EBFA;\n",
              "      box-shadow: 0px 1px 2px rgba(60, 64, 67, 0.3), 0px 1px 3px 1px rgba(60, 64, 67, 0.15);\n",
              "      fill: #174EA6;\n",
              "    }\n",
              "\n",
              "    .colab-df-buttons div {\n",
              "      margin-bottom: 4px;\n",
              "    }\n",
              "\n",
              "    [theme=dark] .colab-df-convert {\n",
              "      background-color: #3B4455;\n",
              "      fill: #D2E3FC;\n",
              "    }\n",
              "\n",
              "    [theme=dark] .colab-df-convert:hover {\n",
              "      background-color: #434B5C;\n",
              "      box-shadow: 0px 1px 3px 1px rgba(0, 0, 0, 0.15);\n",
              "      filter: drop-shadow(0px 1px 2px rgba(0, 0, 0, 0.3));\n",
              "      fill: #FFFFFF;\n",
              "    }\n",
              "  </style>\n",
              "\n",
              "    <script>\n",
              "      const buttonEl =\n",
              "        document.querySelector('#df-f42e664f-c9cb-4666-98b0-73b61da749bf button.colab-df-convert');\n",
              "      buttonEl.style.display =\n",
              "        google.colab.kernel.accessAllowed ? 'block' : 'none';\n",
              "\n",
              "      async function convertToInteractive(key) {\n",
              "        const element = document.querySelector('#df-f42e664f-c9cb-4666-98b0-73b61da749bf');\n",
              "        const dataTable =\n",
              "          await google.colab.kernel.invokeFunction('convertToInteractive',\n",
              "                                                    [key], {});\n",
              "        if (!dataTable) return;\n",
              "\n",
              "        const docLinkHtml = 'Like what you see? Visit the ' +\n",
              "          '<a target=\"_blank\" href=https://colab.research.google.com/notebooks/data_table.ipynb>data table notebook</a>'\n",
              "          + ' to learn more about interactive tables.';\n",
              "        element.innerHTML = '';\n",
              "        dataTable['output_type'] = 'display_data';\n",
              "        await google.colab.output.renderOutput(dataTable, element);\n",
              "        const docLink = document.createElement('div');\n",
              "        docLink.innerHTML = docLinkHtml;\n",
              "        element.appendChild(docLink);\n",
              "      }\n",
              "    </script>\n",
              "  </div>\n",
              "\n",
              "\n",
              "    <div id=\"df-dbdfc361-8132-4ec1-8827-dd39aba6f4a0\">\n",
              "      <button class=\"colab-df-quickchart\" onclick=\"quickchart('df-dbdfc361-8132-4ec1-8827-dd39aba6f4a0')\"\n",
              "                title=\"Suggest charts\"\n",
              "                style=\"display:none;\">\n",
              "\n",
              "<svg xmlns=\"http://www.w3.org/2000/svg\" height=\"24px\"viewBox=\"0 0 24 24\"\n",
              "     width=\"24px\">\n",
              "    <g>\n",
              "        <path d=\"M19 3H5c-1.1 0-2 .9-2 2v14c0 1.1.9 2 2 2h14c1.1 0 2-.9 2-2V5c0-1.1-.9-2-2-2zM9 17H7v-7h2v7zm4 0h-2V7h2v10zm4 0h-2v-4h2v4z\"/>\n",
              "    </g>\n",
              "</svg>\n",
              "      </button>\n",
              "\n",
              "<style>\n",
              "  .colab-df-quickchart {\n",
              "      --bg-color: #E8F0FE;\n",
              "      --fill-color: #1967D2;\n",
              "      --hover-bg-color: #E2EBFA;\n",
              "      --hover-fill-color: #174EA6;\n",
              "      --disabled-fill-color: #AAA;\n",
              "      --disabled-bg-color: #DDD;\n",
              "  }\n",
              "\n",
              "  [theme=dark] .colab-df-quickchart {\n",
              "      --bg-color: #3B4455;\n",
              "      --fill-color: #D2E3FC;\n",
              "      --hover-bg-color: #434B5C;\n",
              "      --hover-fill-color: #FFFFFF;\n",
              "      --disabled-bg-color: #3B4455;\n",
              "      --disabled-fill-color: #666;\n",
              "  }\n",
              "\n",
              "  .colab-df-quickchart {\n",
              "    background-color: var(--bg-color);\n",
              "    border: none;\n",
              "    border-radius: 50%;\n",
              "    cursor: pointer;\n",
              "    display: none;\n",
              "    fill: var(--fill-color);\n",
              "    height: 32px;\n",
              "    padding: 0;\n",
              "    width: 32px;\n",
              "  }\n",
              "\n",
              "  .colab-df-quickchart:hover {\n",
              "    background-color: var(--hover-bg-color);\n",
              "    box-shadow: 0 1px 2px rgba(60, 64, 67, 0.3), 0 1px 3px 1px rgba(60, 64, 67, 0.15);\n",
              "    fill: var(--button-hover-fill-color);\n",
              "  }\n",
              "\n",
              "  .colab-df-quickchart-complete:disabled,\n",
              "  .colab-df-quickchart-complete:disabled:hover {\n",
              "    background-color: var(--disabled-bg-color);\n",
              "    fill: var(--disabled-fill-color);\n",
              "    box-shadow: none;\n",
              "  }\n",
              "\n",
              "  .colab-df-spinner {\n",
              "    border: 2px solid var(--fill-color);\n",
              "    border-color: transparent;\n",
              "    border-bottom-color: var(--fill-color);\n",
              "    animation:\n",
              "      spin 1s steps(1) infinite;\n",
              "  }\n",
              "\n",
              "  @keyframes spin {\n",
              "    0% {\n",
              "      border-color: transparent;\n",
              "      border-bottom-color: var(--fill-color);\n",
              "      border-left-color: var(--fill-color);\n",
              "    }\n",
              "    20% {\n",
              "      border-color: transparent;\n",
              "      border-left-color: var(--fill-color);\n",
              "      border-top-color: var(--fill-color);\n",
              "    }\n",
              "    30% {\n",
              "      border-color: transparent;\n",
              "      border-left-color: var(--fill-color);\n",
              "      border-top-color: var(--fill-color);\n",
              "      border-right-color: var(--fill-color);\n",
              "    }\n",
              "    40% {\n",
              "      border-color: transparent;\n",
              "      border-right-color: var(--fill-color);\n",
              "      border-top-color: var(--fill-color);\n",
              "    }\n",
              "    60% {\n",
              "      border-color: transparent;\n",
              "      border-right-color: var(--fill-color);\n",
              "    }\n",
              "    80% {\n",
              "      border-color: transparent;\n",
              "      border-right-color: var(--fill-color);\n",
              "      border-bottom-color: var(--fill-color);\n",
              "    }\n",
              "    90% {\n",
              "      border-color: transparent;\n",
              "      border-bottom-color: var(--fill-color);\n",
              "    }\n",
              "  }\n",
              "</style>\n",
              "\n",
              "      <script>\n",
              "        async function quickchart(key) {\n",
              "          const quickchartButtonEl =\n",
              "            document.querySelector('#' + key + ' button');\n",
              "          quickchartButtonEl.disabled = true;  // To prevent multiple clicks.\n",
              "          quickchartButtonEl.classList.add('colab-df-spinner');\n",
              "          try {\n",
              "            const charts = await google.colab.kernel.invokeFunction(\n",
              "                'suggestCharts', [key], {});\n",
              "          } catch (error) {\n",
              "            console.error('Error during call to suggestCharts:', error);\n",
              "          }\n",
              "          quickchartButtonEl.classList.remove('colab-df-spinner');\n",
              "          quickchartButtonEl.classList.add('colab-df-quickchart-complete');\n",
              "        }\n",
              "        (() => {\n",
              "          let quickchartButtonEl =\n",
              "            document.querySelector('#df-dbdfc361-8132-4ec1-8827-dd39aba6f4a0 button');\n",
              "          quickchartButtonEl.style.display =\n",
              "            google.colab.kernel.accessAllowed ? 'block' : 'none';\n",
              "        })();\n",
              "      </script>\n",
              "    </div>\n",
              "\n",
              "    </div>\n",
              "  </div>\n"
            ],
            "application/vnd.google.colaboratory.intrinsic+json": {
              "type": "dataframe",
              "variable_name": "df",
              "summary": "{\n  \"name\": \"df\",\n  \"rows\": 48842,\n  \"fields\": [\n    {\n      \"column\": \"age\",\n      \"properties\": {\n        \"dtype\": \"number\",\n        \"std\": 13,\n        \"min\": 17,\n        \"max\": 90,\n        \"num_unique_values\": 74,\n        \"samples\": [\n          28,\n          73,\n          35\n        ],\n        \"semantic_type\": \"\",\n        \"description\": \"\"\n      }\n    },\n    {\n      \"column\": \"workclass\",\n      \"properties\": {\n        \"dtype\": \"category\",\n        \"num_unique_values\": 9,\n        \"samples\": [\n          \"Without-pay\",\n          \"Self-emp-not-inc\",\n          \"?\"\n        ],\n        \"semantic_type\": \"\",\n        \"description\": \"\"\n      }\n    },\n    {\n      \"column\": \"fnlwgt\",\n      \"properties\": {\n        \"dtype\": \"number\",\n        \"std\": 105604,\n        \"min\": 12285,\n        \"max\": 1490400,\n        \"num_unique_values\": 28523,\n        \"samples\": [\n          159077,\n          199450,\n          181773\n        ],\n        \"semantic_type\": \"\",\n        \"description\": \"\"\n      }\n    },\n    {\n      \"column\": \"education\",\n      \"properties\": {\n        \"dtype\": \"category\",\n        \"num_unique_values\": 16,\n        \"samples\": [\n          \"Bachelors\",\n          \"HS-grad\",\n          \"Some-college\"\n        ],\n        \"semantic_type\": \"\",\n        \"description\": \"\"\n      }\n    },\n    {\n      \"column\": \"education-num\",\n      \"properties\": {\n        \"dtype\": \"number\",\n        \"std\": 2,\n        \"min\": 1,\n        \"max\": 16,\n        \"num_unique_values\": 16,\n        \"samples\": [\n          13,\n          9,\n          10\n        ],\n        \"semantic_type\": \"\",\n        \"description\": \"\"\n      }\n    },\n    {\n      \"column\": \"marital-status\",\n      \"properties\": {\n        \"dtype\": \"category\",\n        \"num_unique_values\": 7,\n        \"samples\": [\n          \"Never-married\",\n          \"Married-civ-spouse\",\n          \"Married-AF-spouse\"\n        ],\n        \"semantic_type\": \"\",\n        \"description\": \"\"\n      }\n    },\n    {\n      \"column\": \"occupation\",\n      \"properties\": {\n        \"dtype\": \"category\",\n        \"num_unique_values\": 15,\n        \"samples\": [\n          \"Machine-op-inspct\",\n          \"?\",\n          \"Adm-clerical\"\n        ],\n        \"semantic_type\": \"\",\n        \"description\": \"\"\n      }\n    },\n    {\n      \"column\": \"relationship\",\n      \"properties\": {\n        \"dtype\": \"category\",\n        \"num_unique_values\": 6,\n        \"samples\": [\n          \"Not-in-family\",\n          \"Husband\",\n          \"Other-relative\"\n        ],\n        \"semantic_type\": \"\",\n        \"description\": \"\"\n      }\n    },\n    {\n      \"column\": \"race\",\n      \"properties\": {\n        \"dtype\": \"category\",\n        \"num_unique_values\": 5,\n        \"samples\": [\n          \"Black\",\n          \"Other\",\n          \"Asian-Pac-Islander\"\n        ],\n        \"semantic_type\": \"\",\n        \"description\": \"\"\n      }\n    },\n    {\n      \"column\": \"sex\",\n      \"properties\": {\n        \"dtype\": \"category\",\n        \"num_unique_values\": 2,\n        \"samples\": [\n          \"Female\",\n          \"Male\"\n        ],\n        \"semantic_type\": \"\",\n        \"description\": \"\"\n      }\n    },\n    {\n      \"column\": \"capital-gain\",\n      \"properties\": {\n        \"dtype\": \"number\",\n        \"std\": 7452,\n        \"min\": 0,\n        \"max\": 99999,\n        \"num_unique_values\": 123,\n        \"samples\": [\n          2176,\n          10520\n        ],\n        \"semantic_type\": \"\",\n        \"description\": \"\"\n      }\n    },\n    {\n      \"column\": \"capital-loss\",\n      \"properties\": {\n        \"dtype\": \"number\",\n        \"std\": 403,\n        \"min\": 0,\n        \"max\": 4356,\n        \"num_unique_values\": 99,\n        \"samples\": [\n          1974,\n          419\n        ],\n        \"semantic_type\": \"\",\n        \"description\": \"\"\n      }\n    },\n    {\n      \"column\": \"hours-per-week\",\n      \"properties\": {\n        \"dtype\": \"number\",\n        \"std\": 12,\n        \"min\": 1,\n        \"max\": 99,\n        \"num_unique_values\": 96,\n        \"samples\": [\n          97,\n          88\n        ],\n        \"semantic_type\": \"\",\n        \"description\": \"\"\n      }\n    },\n    {\n      \"column\": \"native-country\",\n      \"properties\": {\n        \"dtype\": \"category\",\n        \"num_unique_values\": 42,\n        \"samples\": [\n          \"El-Salvador\",\n          \"Philippines\"\n        ],\n        \"semantic_type\": \"\",\n        \"description\": \"\"\n      }\n    },\n    {\n      \"column\": \"income\",\n      \"properties\": {\n        \"dtype\": \"number\",\n        \"std\": 0,\n        \"min\": 0,\n        \"max\": 1,\n        \"num_unique_values\": 2,\n        \"samples\": [\n          1,\n          0\n        ],\n        \"semantic_type\": \"\",\n        \"description\": \"\"\n      }\n    }\n  ]\n}"
            }
          },
          "metadata": {},
          "execution_count": 91
        }
      ]
    },
    {
      "cell_type": "code",
      "source": [
        "#value workclass\n",
        "df['workclass'].value_counts()"
      ],
      "metadata": {
        "colab": {
          "base_uri": "https://localhost:8080/",
          "height": 397
        },
        "id": "F6VgtCgYIGXG",
        "outputId": "ebb6e074-42d1-470d-88d8-5f098aa2c2f2"
      },
      "execution_count": 92,
      "outputs": [
        {
          "output_type": "execute_result",
          "data": {
            "text/plain": [
              "workclass\n",
              "Private             33906\n",
              "Self-emp-not-inc     3862\n",
              "Local-gov            3136\n",
              "?                    2799\n",
              "State-gov            1981\n",
              "Self-emp-inc         1695\n",
              "Federal-gov          1432\n",
              "Without-pay            21\n",
              "Never-worked           10\n",
              "Name: count, dtype: int64"
            ],
            "text/html": [
              "<div>\n",
              "<style scoped>\n",
              "    .dataframe tbody tr th:only-of-type {\n",
              "        vertical-align: middle;\n",
              "    }\n",
              "\n",
              "    .dataframe tbody tr th {\n",
              "        vertical-align: top;\n",
              "    }\n",
              "\n",
              "    .dataframe thead th {\n",
              "        text-align: right;\n",
              "    }\n",
              "</style>\n",
              "<table border=\"1\" class=\"dataframe\">\n",
              "  <thead>\n",
              "    <tr style=\"text-align: right;\">\n",
              "      <th></th>\n",
              "      <th>count</th>\n",
              "    </tr>\n",
              "    <tr>\n",
              "      <th>workclass</th>\n",
              "      <th></th>\n",
              "    </tr>\n",
              "  </thead>\n",
              "  <tbody>\n",
              "    <tr>\n",
              "      <th>Private</th>\n",
              "      <td>33906</td>\n",
              "    </tr>\n",
              "    <tr>\n",
              "      <th>Self-emp-not-inc</th>\n",
              "      <td>3862</td>\n",
              "    </tr>\n",
              "    <tr>\n",
              "      <th>Local-gov</th>\n",
              "      <td>3136</td>\n",
              "    </tr>\n",
              "    <tr>\n",
              "      <th>?</th>\n",
              "      <td>2799</td>\n",
              "    </tr>\n",
              "    <tr>\n",
              "      <th>State-gov</th>\n",
              "      <td>1981</td>\n",
              "    </tr>\n",
              "    <tr>\n",
              "      <th>Self-emp-inc</th>\n",
              "      <td>1695</td>\n",
              "    </tr>\n",
              "    <tr>\n",
              "      <th>Federal-gov</th>\n",
              "      <td>1432</td>\n",
              "    </tr>\n",
              "    <tr>\n",
              "      <th>Without-pay</th>\n",
              "      <td>21</td>\n",
              "    </tr>\n",
              "    <tr>\n",
              "      <th>Never-worked</th>\n",
              "      <td>10</td>\n",
              "    </tr>\n",
              "  </tbody>\n",
              "</table>\n",
              "</div><br><label><b>dtype:</b> int64</label>"
            ]
          },
          "metadata": {},
          "execution_count": 92
        }
      ]
    },
    {
      "cell_type": "code",
      "source": [
        "# Cek jumlah nilai '?' di setiap kolom\n",
        "for col in df.columns:\n",
        "    print(col, (df[col] == '?').sum())"
      ],
      "metadata": {
        "colab": {
          "base_uri": "https://localhost:8080/"
        },
        "id": "H-iExHuDtTtF",
        "outputId": "a77fd504-2ac5-4b9c-87c5-062bedfada6e"
      },
      "execution_count": 93,
      "outputs": [
        {
          "output_type": "stream",
          "name": "stdout",
          "text": [
            "age 0\n",
            "workclass 2799\n",
            "fnlwgt 0\n",
            "education 0\n",
            "education-num 0\n",
            "marital-status 0\n",
            "occupation 2809\n",
            "relationship 0\n",
            "race 0\n",
            "sex 0\n",
            "capital-gain 0\n",
            "capital-loss 0\n",
            "hours-per-week 0\n",
            "native-country 857\n",
            "income 0\n"
          ]
        }
      ]
    },
    {
      "cell_type": "code",
      "source": [
        "#Menghapus Nilai '?' dari Kolom-Kolom Kategorikal\n",
        "df = df[df['workclass'] != '?']\n",
        "df = df[df['occupation'] != '?']\n",
        "df = df[df['native-country'] != '?']"
      ],
      "metadata": {
        "id": "rNvTE-MqtUe8"
      },
      "execution_count": 94,
      "outputs": []
    },
    {
      "cell_type": "markdown",
      "source": [
        "Menghapus nilai ? disetiap kolom"
      ],
      "metadata": {
        "id": "nSg42GImtblw"
      }
    },
    {
      "cell_type": "code",
      "source": [
        "# Cek jumlah nilai '?' di setiap kolom\n",
        "for col in df.columns:\n",
        "    print(col, (df[col] == '?').sum())"
      ],
      "metadata": {
        "colab": {
          "base_uri": "https://localhost:8080/"
        },
        "id": "UwSOOpAPtUj0",
        "outputId": "f61bc81b-6a82-4ac5-cd78-b47714d80ab2"
      },
      "execution_count": 95,
      "outputs": [
        {
          "output_type": "stream",
          "name": "stdout",
          "text": [
            "age 0\n",
            "workclass 0\n",
            "fnlwgt 0\n",
            "education 0\n",
            "education-num 0\n",
            "marital-status 0\n",
            "occupation 0\n",
            "relationship 0\n",
            "race 0\n",
            "sex 0\n",
            "capital-gain 0\n",
            "capital-loss 0\n",
            "hours-per-week 0\n",
            "native-country 0\n",
            "income 0\n"
          ]
        }
      ]
    },
    {
      "cell_type": "code",
      "source": [
        "#value workclass\n",
        "df['workclass'].value_counts()"
      ],
      "metadata": {
        "colab": {
          "base_uri": "https://localhost:8080/",
          "height": 335
        },
        "id": "vmRjS0hAtmQf",
        "outputId": "3fb561e5-e5c3-46f9-e62c-bd2490021040"
      },
      "execution_count": 96,
      "outputs": [
        {
          "output_type": "execute_result",
          "data": {
            "text/plain": [
              "workclass\n",
              "Private             33307\n",
              "Self-emp-not-inc     3796\n",
              "Local-gov            3100\n",
              "State-gov            1946\n",
              "Self-emp-inc         1646\n",
              "Federal-gov          1406\n",
              "Without-pay            21\n",
              "Name: count, dtype: int64"
            ],
            "text/html": [
              "<div>\n",
              "<style scoped>\n",
              "    .dataframe tbody tr th:only-of-type {\n",
              "        vertical-align: middle;\n",
              "    }\n",
              "\n",
              "    .dataframe tbody tr th {\n",
              "        vertical-align: top;\n",
              "    }\n",
              "\n",
              "    .dataframe thead th {\n",
              "        text-align: right;\n",
              "    }\n",
              "</style>\n",
              "<table border=\"1\" class=\"dataframe\">\n",
              "  <thead>\n",
              "    <tr style=\"text-align: right;\">\n",
              "      <th></th>\n",
              "      <th>count</th>\n",
              "    </tr>\n",
              "    <tr>\n",
              "      <th>workclass</th>\n",
              "      <th></th>\n",
              "    </tr>\n",
              "  </thead>\n",
              "  <tbody>\n",
              "    <tr>\n",
              "      <th>Private</th>\n",
              "      <td>33307</td>\n",
              "    </tr>\n",
              "    <tr>\n",
              "      <th>Self-emp-not-inc</th>\n",
              "      <td>3796</td>\n",
              "    </tr>\n",
              "    <tr>\n",
              "      <th>Local-gov</th>\n",
              "      <td>3100</td>\n",
              "    </tr>\n",
              "    <tr>\n",
              "      <th>State-gov</th>\n",
              "      <td>1946</td>\n",
              "    </tr>\n",
              "    <tr>\n",
              "      <th>Self-emp-inc</th>\n",
              "      <td>1646</td>\n",
              "    </tr>\n",
              "    <tr>\n",
              "      <th>Federal-gov</th>\n",
              "      <td>1406</td>\n",
              "    </tr>\n",
              "    <tr>\n",
              "      <th>Without-pay</th>\n",
              "      <td>21</td>\n",
              "    </tr>\n",
              "  </tbody>\n",
              "</table>\n",
              "</div><br><label><b>dtype:</b> int64</label>"
            ]
          },
          "metadata": {},
          "execution_count": 96
        }
      ]
    },
    {
      "cell_type": "code",
      "source": [
        "#drop kolom education-num\n",
        "df.drop('education-num', axis=1, inplace=True)"
      ],
      "metadata": {
        "id": "AteUFEpavfuR"
      },
      "execution_count": 97,
      "outputs": []
    },
    {
      "cell_type": "markdown",
      "source": [
        "mendrop education-num karna saya ingin mengunakan kolom education saja agar lebih jelas urutan tingkatannya"
      ],
      "metadata": {
        "id": "RI2oQjS5vi0v"
      }
    },
    {
      "cell_type": "code",
      "source": [
        "#drop fnlwgt\n",
        "df.drop('fnlwgt', axis=1, inplace=True)"
      ],
      "metadata": {
        "id": "Vjn6aGetkmjN"
      },
      "execution_count": 98,
      "outputs": []
    },
    {
      "cell_type": "markdown",
      "source": [
        "mendrop fnlwgt karan tidak membutuhkan jumlah orang dalam populasi yang memiliki karakteristik serupa"
      ],
      "metadata": {
        "id": "WHkWSunvksYS"
      }
    },
    {
      "cell_type": "markdown",
      "source": [
        "#DATA MANIPULATION"
      ],
      "metadata": {
        "id": "U0RZsazMvoo7"
      }
    },
    {
      "cell_type": "code",
      "source": [
        "df['education'].value_counts()"
      ],
      "metadata": {
        "colab": {
          "base_uri": "https://localhost:8080/",
          "height": 617
        },
        "id": "PEq4bjsjJIoS",
        "outputId": "4e412369-3136-43b0-dcec-ba7a165e498c"
      },
      "execution_count": 99,
      "outputs": [
        {
          "output_type": "execute_result",
          "data": {
            "text/plain": [
              "education\n",
              "HS-grad         14783\n",
              "Some-college     9899\n",
              "Bachelors        7570\n",
              "Masters          2514\n",
              "Assoc-voc        1959\n",
              "11th             1619\n",
              "Assoc-acdm       1507\n",
              "10th             1223\n",
              "7th-8th           823\n",
              "Prof-school       785\n",
              "9th               676\n",
              "12th              577\n",
              "Doctorate         544\n",
              "5th-6th           449\n",
              "1st-4th           222\n",
              "Preschool          72\n",
              "Name: count, dtype: int64"
            ],
            "text/html": [
              "<div>\n",
              "<style scoped>\n",
              "    .dataframe tbody tr th:only-of-type {\n",
              "        vertical-align: middle;\n",
              "    }\n",
              "\n",
              "    .dataframe tbody tr th {\n",
              "        vertical-align: top;\n",
              "    }\n",
              "\n",
              "    .dataframe thead th {\n",
              "        text-align: right;\n",
              "    }\n",
              "</style>\n",
              "<table border=\"1\" class=\"dataframe\">\n",
              "  <thead>\n",
              "    <tr style=\"text-align: right;\">\n",
              "      <th></th>\n",
              "      <th>count</th>\n",
              "    </tr>\n",
              "    <tr>\n",
              "      <th>education</th>\n",
              "      <th></th>\n",
              "    </tr>\n",
              "  </thead>\n",
              "  <tbody>\n",
              "    <tr>\n",
              "      <th>HS-grad</th>\n",
              "      <td>14783</td>\n",
              "    </tr>\n",
              "    <tr>\n",
              "      <th>Some-college</th>\n",
              "      <td>9899</td>\n",
              "    </tr>\n",
              "    <tr>\n",
              "      <th>Bachelors</th>\n",
              "      <td>7570</td>\n",
              "    </tr>\n",
              "    <tr>\n",
              "      <th>Masters</th>\n",
              "      <td>2514</td>\n",
              "    </tr>\n",
              "    <tr>\n",
              "      <th>Assoc-voc</th>\n",
              "      <td>1959</td>\n",
              "    </tr>\n",
              "    <tr>\n",
              "      <th>11th</th>\n",
              "      <td>1619</td>\n",
              "    </tr>\n",
              "    <tr>\n",
              "      <th>Assoc-acdm</th>\n",
              "      <td>1507</td>\n",
              "    </tr>\n",
              "    <tr>\n",
              "      <th>10th</th>\n",
              "      <td>1223</td>\n",
              "    </tr>\n",
              "    <tr>\n",
              "      <th>7th-8th</th>\n",
              "      <td>823</td>\n",
              "    </tr>\n",
              "    <tr>\n",
              "      <th>Prof-school</th>\n",
              "      <td>785</td>\n",
              "    </tr>\n",
              "    <tr>\n",
              "      <th>9th</th>\n",
              "      <td>676</td>\n",
              "    </tr>\n",
              "    <tr>\n",
              "      <th>12th</th>\n",
              "      <td>577</td>\n",
              "    </tr>\n",
              "    <tr>\n",
              "      <th>Doctorate</th>\n",
              "      <td>544</td>\n",
              "    </tr>\n",
              "    <tr>\n",
              "      <th>5th-6th</th>\n",
              "      <td>449</td>\n",
              "    </tr>\n",
              "    <tr>\n",
              "      <th>1st-4th</th>\n",
              "      <td>222</td>\n",
              "    </tr>\n",
              "    <tr>\n",
              "      <th>Preschool</th>\n",
              "      <td>72</td>\n",
              "    </tr>\n",
              "  </tbody>\n",
              "</table>\n",
              "</div><br><label><b>dtype:</b> int64</label>"
            ]
          },
          "metadata": {},
          "execution_count": 99
        }
      ]
    },
    {
      "cell_type": "markdown",
      "source": [
        "karna didalam kolom education ini memiliki banyak jenis education maka saya akan melakukan pengelompokan"
      ],
      "metadata": {
        "id": "ufD62CxpdvnT"
      }
    },
    {
      "cell_type": "code",
      "source": [
        "#Mengurutkan education berdasarkan tingkatan\n",
        "low_edu = ['Preschool', '1st-4th', '5th-6th', '7th-8th', '9th', '10th', '11th', '12th']\n",
        "df['education'] = df['education'].replace(low_edu, 'Low-Education')"
      ],
      "metadata": {
        "id": "H1cuBCL81BgP"
      },
      "execution_count": 100,
      "outputs": []
    },
    {
      "cell_type": "code",
      "source": [
        "#Menggabungkan dua kategori associate (vocational dan academic) menjadi satu saja: 'Associate'.\n",
        "df['education'] = df['education'].replace({\n",
        "    'Assoc-voc': 'Associate',\n",
        "    'Assoc-acdm': 'Associate'\n",
        "})"
      ],
      "metadata": {
        "id": "Ky4G9i4b1EDu"
      },
      "execution_count": 101,
      "outputs": []
    },
    {
      "cell_type": "code",
      "source": [
        "#urutan logis dari level pendidikan dari yang paling rendah ke paling tinggi. Tujuannya agar model bisa mengerti bahwa education memiliki sifat ordinal (bertingkat).\n",
        "edu_order = ['Low-Education', 'HS-grad', 'Some-college', 'Associate',\n",
        "             'Bachelors', 'Masters', 'Prof-school', 'Doctorate']\n",
        "df['education'] = pd.Categorical(df['education'], categories=edu_order, ordered=True)\n"
      ],
      "metadata": {
        "id": "9wo_Z3dG1Eh1"
      },
      "execution_count": 102,
      "outputs": []
    },
    {
      "cell_type": "code",
      "source": [
        "#value education\n",
        "df['education'].value_counts()"
      ],
      "metadata": {
        "colab": {
          "base_uri": "https://localhost:8080/",
          "height": 366
        },
        "id": "FhKM6_wj1hJ7",
        "outputId": "4ed9520c-dd2e-471b-e7d7-2a3e4394c09f"
      },
      "execution_count": 103,
      "outputs": [
        {
          "output_type": "execute_result",
          "data": {
            "text/plain": [
              "education\n",
              "HS-grad          14783\n",
              "Some-college      9899\n",
              "Bachelors         7570\n",
              "Low-Education     5661\n",
              "Associate         3466\n",
              "Masters           2514\n",
              "Prof-school        785\n",
              "Doctorate          544\n",
              "Name: count, dtype: int64"
            ],
            "text/html": [
              "<div>\n",
              "<style scoped>\n",
              "    .dataframe tbody tr th:only-of-type {\n",
              "        vertical-align: middle;\n",
              "    }\n",
              "\n",
              "    .dataframe tbody tr th {\n",
              "        vertical-align: top;\n",
              "    }\n",
              "\n",
              "    .dataframe thead th {\n",
              "        text-align: right;\n",
              "    }\n",
              "</style>\n",
              "<table border=\"1\" class=\"dataframe\">\n",
              "  <thead>\n",
              "    <tr style=\"text-align: right;\">\n",
              "      <th></th>\n",
              "      <th>count</th>\n",
              "    </tr>\n",
              "    <tr>\n",
              "      <th>education</th>\n",
              "      <th></th>\n",
              "    </tr>\n",
              "  </thead>\n",
              "  <tbody>\n",
              "    <tr>\n",
              "      <th>HS-grad</th>\n",
              "      <td>14783</td>\n",
              "    </tr>\n",
              "    <tr>\n",
              "      <th>Some-college</th>\n",
              "      <td>9899</td>\n",
              "    </tr>\n",
              "    <tr>\n",
              "      <th>Bachelors</th>\n",
              "      <td>7570</td>\n",
              "    </tr>\n",
              "    <tr>\n",
              "      <th>Low-Education</th>\n",
              "      <td>5661</td>\n",
              "    </tr>\n",
              "    <tr>\n",
              "      <th>Associate</th>\n",
              "      <td>3466</td>\n",
              "    </tr>\n",
              "    <tr>\n",
              "      <th>Masters</th>\n",
              "      <td>2514</td>\n",
              "    </tr>\n",
              "    <tr>\n",
              "      <th>Prof-school</th>\n",
              "      <td>785</td>\n",
              "    </tr>\n",
              "    <tr>\n",
              "      <th>Doctorate</th>\n",
              "      <td>544</td>\n",
              "    </tr>\n",
              "  </tbody>\n",
              "</table>\n",
              "</div><br><label><b>dtype:</b> int64</label>"
            ]
          },
          "metadata": {},
          "execution_count": 103
        }
      ]
    },
    {
      "cell_type": "code",
      "source": [
        "#value marital-status\n",
        "df['marital-status'].value_counts()"
      ],
      "metadata": {
        "colab": {
          "base_uri": "https://localhost:8080/",
          "height": 335
        },
        "id": "rXXPCZIi3ldr",
        "outputId": "197be64e-d0b9-4e39-e027-1c070059b1d2"
      },
      "execution_count": 104,
      "outputs": [
        {
          "output_type": "execute_result",
          "data": {
            "text/plain": [
              "marital-status\n",
              "Married-civ-spouse       21055\n",
              "Never-married            14598\n",
              "Divorced                  6297\n",
              "Separated                 1411\n",
              "Widowed                   1277\n",
              "Married-spouse-absent      552\n",
              "Married-AF-spouse           32\n",
              "Name: count, dtype: int64"
            ],
            "text/html": [
              "<div>\n",
              "<style scoped>\n",
              "    .dataframe tbody tr th:only-of-type {\n",
              "        vertical-align: middle;\n",
              "    }\n",
              "\n",
              "    .dataframe tbody tr th {\n",
              "        vertical-align: top;\n",
              "    }\n",
              "\n",
              "    .dataframe thead th {\n",
              "        text-align: right;\n",
              "    }\n",
              "</style>\n",
              "<table border=\"1\" class=\"dataframe\">\n",
              "  <thead>\n",
              "    <tr style=\"text-align: right;\">\n",
              "      <th></th>\n",
              "      <th>count</th>\n",
              "    </tr>\n",
              "    <tr>\n",
              "      <th>marital-status</th>\n",
              "      <th></th>\n",
              "    </tr>\n",
              "  </thead>\n",
              "  <tbody>\n",
              "    <tr>\n",
              "      <th>Married-civ-spouse</th>\n",
              "      <td>21055</td>\n",
              "    </tr>\n",
              "    <tr>\n",
              "      <th>Never-married</th>\n",
              "      <td>14598</td>\n",
              "    </tr>\n",
              "    <tr>\n",
              "      <th>Divorced</th>\n",
              "      <td>6297</td>\n",
              "    </tr>\n",
              "    <tr>\n",
              "      <th>Separated</th>\n",
              "      <td>1411</td>\n",
              "    </tr>\n",
              "    <tr>\n",
              "      <th>Widowed</th>\n",
              "      <td>1277</td>\n",
              "    </tr>\n",
              "    <tr>\n",
              "      <th>Married-spouse-absent</th>\n",
              "      <td>552</td>\n",
              "    </tr>\n",
              "    <tr>\n",
              "      <th>Married-AF-spouse</th>\n",
              "      <td>32</td>\n",
              "    </tr>\n",
              "  </tbody>\n",
              "</table>\n",
              "</div><br><label><b>dtype:</b> int64</label>"
            ]
          },
          "metadata": {},
          "execution_count": 104
        }
      ]
    },
    {
      "cell_type": "code",
      "source": [
        "#Menggabungkan Status Pernikahan yang Jarang\n",
        "df['marital-status'] = df['marital-status'].replace(\n",
        "    ['Married-AF-spouse', 'Married-spouse-absent', 'Separated', 'Widowed'],\n",
        "    'Other'\n",
        ")"
      ],
      "metadata": {
        "id": "SAn3x7423l1G"
      },
      "execution_count": 105,
      "outputs": []
    },
    {
      "cell_type": "code",
      "source": [
        "df.info()"
      ],
      "metadata": {
        "colab": {
          "base_uri": "https://localhost:8080/"
        },
        "id": "qS9x0pZ3urQ-",
        "outputId": "37c65f28-dc9e-4446-b4df-3ab799c7cf11"
      },
      "execution_count": 106,
      "outputs": [
        {
          "output_type": "stream",
          "name": "stdout",
          "text": [
            "<class 'pandas.core.frame.DataFrame'>\n",
            "Index: 45222 entries, 0 to 48841\n",
            "Data columns (total 13 columns):\n",
            " #   Column          Non-Null Count  Dtype   \n",
            "---  ------          --------------  -----   \n",
            " 0   age             45222 non-null  int64   \n",
            " 1   workclass       45222 non-null  object  \n",
            " 2   education       45222 non-null  category\n",
            " 3   marital-status  45222 non-null  object  \n",
            " 4   occupation      45222 non-null  object  \n",
            " 5   relationship    45222 non-null  object  \n",
            " 6   race            45222 non-null  object  \n",
            " 7   sex             45222 non-null  object  \n",
            " 8   capital-gain    45222 non-null  int64   \n",
            " 9   capital-loss    45222 non-null  int64   \n",
            " 10  hours-per-week  45222 non-null  int64   \n",
            " 11  native-country  45222 non-null  object  \n",
            " 12  income          45222 non-null  int64   \n",
            "dtypes: category(1), int64(5), object(7)\n",
            "memory usage: 4.5+ MB\n"
          ]
        }
      ]
    },
    {
      "cell_type": "markdown",
      "source": [
        "#EDA"
      ],
      "metadata": {
        "id": "gQPBAIRdvGf-"
      }
    },
    {
      "cell_type": "code",
      "source": [
        "#1. Distribusi Kelas pada Target income\n",
        "sns.countplot(data=df, x='income')\n",
        "plt.title('Distribusi Pendapatan')\n",
        "plt.xlabel('Pendapatan')\n",
        "plt.ylabel('Jumlah')\n",
        "plt.show()"
      ],
      "metadata": {
        "colab": {
          "base_uri": "https://localhost:8080/",
          "height": 472
        },
        "id": "_fCYA_xpvIHF",
        "outputId": "bfb5c887-c2aa-4605-996e-e8c72d79d174"
      },
      "execution_count": 107,
      "outputs": [
        {
          "output_type": "display_data",
          "data": {
            "text/plain": [
              "<Figure size 640x480 with 1 Axes>"
            ],
            "image/png": "[encoded data removed]"
          },
          "metadata": {}
        }
      ]
    },
    {
      "cell_type": "markdown",
      "source": [
        "Mayoritas individu dalam dataset memiliki pendapatan kurang dari atau sama dengan 50K USD, menunjukkan ketidakseimbangan kelas pada target."
      ],
      "metadata": {
        "id": "PQk0PATp8hTq"
      }
    },
    {
      "cell_type": "code",
      "source": [
        "# Usia vs Pendapatan\n",
        "plt.figure(figsize=(10, 6))\n",
        "sns.boxplot(data=df, x='income', y='age')\n",
        "plt.title('Distribusi Usia Berdasarkan Pendapatan')\n",
        "plt.show()"
      ],
      "metadata": {
        "colab": {
          "base_uri": "https://localhost:8080/",
          "height": 564
        },
        "id": "_D3CQQjuvMDb",
        "outputId": "0b33928d-e1aa-4b49-819a-983780a98883"
      },
      "execution_count": 108,
      "outputs": [
        {
          "output_type": "display_data",
          "data": {
            "text/plain": [
              "<Figure size 1000x600 with 1 Axes>"
            ],
            "image/png": "[encoded data removed]"
          },
          "metadata": {}
        }
      ]
    },
    {
      "cell_type": "markdown",
      "source": [
        "Kelompok dengan pendapatan >50K cenderung berusia lebih tua dan memiliki lebih banyak outlier usia dibanding kelompok <=50K."
      ],
      "metadata": {
        "id": "1930ltWB850C"
      }
    },
    {
      "cell_type": "code",
      "source": [
        "#Pendidikan vs Pendapatan\n",
        "plt.figure(figsize=(19, 6))\n",
        "sns.countplot(data=df, x='education', hue='income')\n",
        "plt.title('Pendidikan vs Pendapatan')\n",
        "plt.show()"
      ],
      "metadata": {
        "colab": {
          "base_uri": "https://localhost:8080/",
          "height": 314
        },
        "id": "pkxOwPG-vMK3",
        "outputId": "bbff0878-dd26-4c24-917c-bcd91a5aa78b"
      },
      "execution_count": 109,
      "outputs": [
        {
          "output_type": "display_data",
          "data": {
            "text/plain": [
              "<Figure size 1900x600 with 1 Axes>"
            ],
            "image/png": "[encoded data removed]"
          },
          "metadata": {}
        }
      ]
    },
    {
      "cell_type": "markdown",
      "source": [
        "Kelompok dengan pendidikan HS-grad merupakan yang paling dominan, terutama pada kategori pendapatan <=50K."
      ],
      "metadata": {
        "id": "JqAfJspw9LY7"
      }
    },
    {
      "cell_type": "code",
      "source": [
        "#jam Kerja per Minggu vs Pendapatan\n",
        "plt.figure(figsize=(10, 6))\n",
        "sns.boxplot(data=df, x='income', y='hours-per-week')\n",
        "plt.title('Pendapatan vs Jam Kerja per Minggu')\n",
        "plt.show()"
      ],
      "metadata": {
        "colab": {
          "base_uri": "https://localhost:8080/",
          "height": 563
        },
        "id": "AbbRVgHJvMMY",
        "outputId": "9d7311fb-9303-4c73-90be-8a5117c44497"
      },
      "execution_count": 110,
      "outputs": [
        {
          "output_type": "display_data",
          "data": {
            "text/plain": [
              "<Figure size 1000x600 with 1 Axes>"
            ],
            "image/png": "[encoded data removed]"
          },
          "metadata": {}
        }
      ]
    },
    {
      "cell_type": "markdown",
      "source": [
        "Kelompok dengan pendapatan >50K cenderung bekerja lebih lama per minggu dan memiliki lebih banyak outlier jam kerja dibanding kelompok <=50K."
      ],
      "metadata": {
        "id": "N3k81JJ99i2X"
      }
    },
    {
      "cell_type": "code",
      "source": [
        "#Jenis Pekerjaan (Occupation) vs Pendapatan\n",
        "plt.figure(figsize=(10, 6))\n",
        "sns.countplot(data=df, x='occupation', hue='income')\n",
        "plt.title('Jenis Pekerjaan vs Pendapatan')\n",
        "plt.xticks(rotation=90)\n",
        "plt.show()"
      ],
      "metadata": {
        "colab": {
          "base_uri": "https://localhost:8080/",
          "height": 669
        },
        "id": "2Wkz2fV7vMOF",
        "outputId": "d426d917-2ffe-498d-8237-fcc66c9e2b34"
      },
      "execution_count": 111,
      "outputs": [
        {
          "output_type": "display_data",
          "data": {
            "text/plain": [
              "<Figure size 1000x600 with 1 Axes>"
            ],
            "image/png": "[encoded data removed]"
          },
          "metadata": {}
        }
      ]
    },
    {
      "cell_type": "markdown",
      "source": [
        "Pekerjaan di bidang manajerial dan profesional memiliki proporsi tertinggi dalam pendapatan >50K dibandingkan pekerjaan lainnya."
      ],
      "metadata": {
        "id": "HZD3lzVfQ6Gd"
      }
    },
    {
      "cell_type": "code",
      "source": [
        "#Jenis Kelamin vs Pendapatan\n",
        "plt.figure(figsize=(10, 6))\n",
        "sns.countplot(data=df, x='sex', hue='income')\n",
        "plt.title('Jenis Kelamin vs Pendapatan')\n",
        "plt.show()"
      ],
      "metadata": {
        "colab": {
          "base_uri": "https://localhost:8080/",
          "height": 552
        },
        "id": "2Z8HXpnMvMQ5",
        "outputId": "ddd4261d-9ec5-4470-bc82-019851bf6f81"
      },
      "execution_count": 112,
      "outputs": [
        {
          "output_type": "display_data",
          "data": {
            "text/plain": [
              "<Figure size 1000x600 with 1 Axes>"
            ],
            "image/png": "[encoded data removed]"
          },
          "metadata": {}
        }
      ]
    },
    {
      "cell_type": "markdown",
      "source": [
        "Individu berjenis kelamin laki-laki (male) mendominasi baik pada kelompok pendapatan <=50K maupun >50K dibanding perempuan."
      ],
      "metadata": {
        "id": "bt4RVKDw-H5j"
      }
    },
    {
      "cell_type": "code",
      "source": [
        "#Negara Asal vs Pendapatan\n",
        "plt.figure(figsize=(10, 6))\n",
        "sns.countplot(data=df, x='native-country', hue='income')\n",
        "plt.title('Negara Asal vs Pendapatan')\n",
        "plt.xticks(rotation=90)\n",
        "plt.show()\n"
      ],
      "metadata": {
        "colab": {
          "base_uri": "https://localhost:8080/",
          "height": 732
        },
        "id": "FwdocWihvMXA",
        "outputId": "f3b2ce29-c58c-4cb0-a604-14908bb42bed"
      },
      "execution_count": 113,
      "outputs": [
        {
          "output_type": "display_data",
          "data": {
            "text/plain": [
              "<Figure size 1000x600 with 1 Axes>"
            ],
            "image/png": "[encoded data removed]"
          },
          "metadata": {}
        }
      ]
    },
    {
      "cell_type": "markdown",
      "source": [
        "Mayoritas individu berpendapatan tinggi berasal dari Amerika Serikat, menunjukkan dominasi ekonomi domestik dalam dataset ini."
      ],
      "metadata": {
        "id": "y239X3XcRHQ6"
      }
    },
    {
      "cell_type": "code",
      "source": [
        "#Relasi Marital Status dengan Pendapatan\n",
        "plt.figure(figsize=(10, 6))\n",
        "sns.countplot(data=df, x='marital-status', hue='income')\n",
        "plt.title('Relasi Marital Status dengan Pendapatan')\n",
        "plt.xticks(rotation=90)\n",
        "plt.show()"
      ],
      "metadata": {
        "colab": {
          "base_uri": "https://localhost:8080/",
          "height": 666
        },
        "id": "_7rt9G9vviQS",
        "outputId": "68589aa1-8507-441f-c13d-c464adcd412d"
      },
      "execution_count": 114,
      "outputs": [
        {
          "output_type": "display_data",
          "data": {
            "text/plain": [
              "<Figure size 1000x600 with 1 Axes>"
            ],
            "image/png": "[encoded data removed]"
          },
          "metadata": {}
        }
      ]
    },
    {
      "cell_type": "markdown",
      "source": [
        "Individu yang sudah menikah cenderung memiliki pendapatan tinggi dibandingkan status pernikahan lainnya."
      ],
      "metadata": {
        "id": "24PXzgJVRNno"
      }
    },
    {
      "cell_type": "code",
      "source": [
        "#EDA Multivariate\n",
        "#Korelasi Antar Variabel Numerik\n",
        "plt.figure(figsize=(10, 6))\n",
        "sns.heatmap(df.corr(numeric_only=True), annot=True, fmt=\".2f\", cmap='coolwarm')\n",
        "plt.title('Korelasi Antar Variabel Numerik')\n",
        "plt.show()"
      ],
      "metadata": {
        "colab": {
          "base_uri": "https://localhost:8080/",
          "height": 544
        },
        "id": "91CZmyz93kXx",
        "outputId": "3ff83ce6-1cc6-4a43-88aa-5c27237aac11"
      },
      "execution_count": 115,
      "outputs": [
        {
          "output_type": "display_data",
          "data": {
            "text/plain": [
              "<Figure size 1000x600 with 2 Axes>"
            ],
            "image/png": "[encoded data removed]"
          },
          "metadata": {}
        }
      ]
    },
    {
      "cell_type": "code",
      "source": [
        "from statsmodels.stats.outliers_influence import variance_inflation_factor\n",
        "from statsmodels.tools.tools import add_constant\n",
        "\n",
        "# 1. Ambil hanya kolom numerik\n",
        "df_numeric = df.select_dtypes(include=['float64', 'int64'])\n",
        "\n",
        "# 2. Tambahkan kolom konstanta (intercept) untuk keperluan VIF\n",
        "X = add_constant(df_numeric)\n",
        "\n",
        "# 3. Hitung VIF\n",
        "vif_data = pd.DataFrame()\n",
        "vif_data[\"Feature\"] = X.columns\n",
        "vif_data[\"VIF\"] = [variance_inflation_factor(X.values, i) for i in range(X.shape[1])]\n",
        "\n",
        "# 4. Tampilkan hasil\n",
        "vif_data"
      ],
      "metadata": {
        "colab": {
          "base_uri": "https://localhost:8080/",
          "height": 237
        },
        "id": "z3UP04813cwh",
        "outputId": "4f7f52aa-a0ac-47d6-980c-ca7c2e4ada4d"
      },
      "execution_count": 116,
      "outputs": [
        {
          "output_type": "execute_result",
          "data": {
            "text/plain": [
              "          Feature        VIF\n",
              "0           const  19.954147\n",
              "1             age   1.063778\n",
              "2    capital-gain   1.058479\n",
              "3    capital-loss   1.028538\n",
              "4  hours-per-week   1.058920\n",
              "5          income   1.177510"
            ],
            "text/html": [
              "\n",
              "  <div id=\"df-9121c1d0-387c-4255-9656-925573f644eb\" class=\"colab-df-container\">\n",
              "    <div>\n",
              "<style scoped>\n",
              "    .dataframe tbody tr th:only-of-type {\n",
              "        vertical-align: middle;\n",
              "    }\n",
              "\n",
              "    .dataframe tbody tr th {\n",
              "        vertical-align: top;\n",
              "    }\n",
              "\n",
              "    .dataframe thead th {\n",
              "        text-align: right;\n",
              "    }\n",
              "</style>\n",
              "<table border=\"1\" class=\"dataframe\">\n",
              "  <thead>\n",
              "    <tr style=\"text-align: right;\">\n",
              "      <th></th>\n",
              "      <th>Feature</th>\n",
              "      <th>VIF</th>\n",
              "    </tr>\n",
              "  </thead>\n",
              "  <tbody>\n",
              "    <tr>\n",
              "      <th>0</th>\n",
              "      <td>const</td>\n",
              "      <td>19.954147</td>\n",
              "    </tr>\n",
              "    <tr>\n",
              "      <th>1</th>\n",
              "      <td>age</td>\n",
              "      <td>1.063778</td>\n",
              "    </tr>\n",
              "    <tr>\n",
              "      <th>2</th>\n",
              "      <td>capital-gain</td>\n",
              "      <td>1.058479</td>\n",
              "    </tr>\n",
              "    <tr>\n",
              "      <th>3</th>\n",
              "      <td>capital-loss</td>\n",
              "      <td>1.028538</td>\n",
              "    </tr>\n",
              "    <tr>\n",
              "      <th>4</th>\n",
              "      <td>hours-per-week</td>\n",
              "      <td>1.058920</td>\n",
              "    </tr>\n",
              "    <tr>\n",
              "      <th>5</th>\n",
              "      <td>income</td>\n",
              "      <td>1.177510</td>\n",
              "    </tr>\n",
              "  </tbody>\n",
              "</table>\n",
              "</div>\n",
              "    <div class=\"colab-df-buttons\">\n",
              "\n",
              "  <div class=\"colab-df-container\">\n",
              "    <button class=\"colab-df-convert\" onclick=\"convertToInteractive('df-9121c1d0-387c-4255-9656-925573f644eb')\"\n",
              "            title=\"Convert this dataframe to an interactive table.\"\n",
              "            style=\"display:none;\">\n",
              "\n",
              "  <svg xmlns=\"http://www.w3.org/2000/svg\" height=\"24px\" viewBox=\"0 -960 960 960\">\n",
              "    <path d=\"M120-120v-720h720v720H120Zm60-500h600v-160H180v160Zm220 220h160v-160H400v160Zm0 220h160v-160H400v160ZM180-400h160v-160H180v160Zm440 0h160v-160H620v160ZM180-180h160v-160H180v160Zm440 0h160v-160H620v160Z\"/>\n",
              "  </svg>\n",
              "    </button>\n",
              "\n",
              "  <style>\n",
              "    .colab-df-container {\n",
              "      display:flex;\n",
              "      gap: 12px;\n",
              "    }\n",
              "\n",
              "    .colab-df-convert {\n",
              "      background-color: #E8F0FE;\n",
              "      border: none;\n",
              "      border-radius: 50%;\n",
              "      cursor: pointer;\n",
              "      display: none;\n",
              "      fill: #1967D2;\n",
              "      height: 32px;\n",
              "      padding: 0 0 0 0;\n",
              "      width: 32px;\n",
              "    }\n",
              "\n",
              "    .colab-df-convert:hover {\n",
              "      background-color: #E2EBFA;\n",
              "      box-shadow: 0px 1px 2px rgba(60, 64, 67, 0.3), 0px 1px 3px 1px rgba(60, 64, 67, 0.15);\n",
              "      fill: #174EA6;\n",
              "    }\n",
              "\n",
              "    .colab-df-buttons div {\n",
              "      margin-bottom: 4px;\n",
              "    }\n",
              "\n",
              "    [theme=dark] .colab-df-convert {\n",
              "      background-color: #3B4455;\n",
              "      fill: #D2E3FC;\n",
              "    }\n",
              "\n",
              "    [theme=dark] .colab-df-convert:hover {\n",
              "      background-color: #434B5C;\n",
              "      box-shadow: 0px 1px 3px 1px rgba(0, 0, 0, 0.15);\n",
              "      filter: drop-shadow(0px 1px 2px rgba(0, 0, 0, 0.3));\n",
              "      fill: #FFFFFF;\n",
              "    }\n",
              "  </style>\n",
              "\n",
              "    <script>\n",
              "      const buttonEl =\n",
              "        document.querySelector('#df-9121c1d0-387c-4255-9656-925573f644eb button.colab-df-convert');\n",
              "      buttonEl.style.display =\n",
              "        google.colab.kernel.accessAllowed ? 'block' : 'none';\n",
              "\n",
              "      async function convertToInteractive(key) {\n",
              "        const element = document.querySelector('#df-9121c1d0-387c-4255-9656-925573f644eb');\n",
              "        const dataTable =\n",
              "          await google.colab.kernel.invokeFunction('convertToInteractive',\n",
              "                                                    [key], {});\n",
              "        if (!dataTable) return;\n",
              "\n",
              "        const docLinkHtml = 'Like what you see? Visit the ' +\n",
              "          '<a target=\"_blank\" href=https://colab.research.google.com/notebooks/data_table.ipynb>data table notebook</a>'\n",
              "          + ' to learn more about interactive tables.';\n",
              "        element.innerHTML = '';\n",
              "        dataTable['output_type'] = 'display_data';\n",
              "        await google.colab.output.renderOutput(dataTable, element);\n",
              "        const docLink = document.createElement('div');\n",
              "        docLink.innerHTML = docLinkHtml;\n",
              "        element.appendChild(docLink);\n",
              "      }\n",
              "    </script>\n",
              "  </div>\n",
              "\n",
              "\n",
              "    <div id=\"df-cdf8b1d0-8188-4f2f-bd99-10005ab5957b\">\n",
              "      <button class=\"colab-df-quickchart\" onclick=\"quickchart('df-cdf8b1d0-8188-4f2f-bd99-10005ab5957b')\"\n",
              "                title=\"Suggest charts\"\n",
              "                style=\"display:none;\">\n",
              "\n",
              "<svg xmlns=\"http://www.w3.org/2000/svg\" height=\"24px\"viewBox=\"0 0 24 24\"\n",
              "     width=\"24px\">\n",
              "    <g>\n",
              "        <path d=\"M19 3H5c-1.1 0-2 .9-2 2v14c0 1.1.9 2 2 2h14c1.1 0 2-.9 2-2V5c0-1.1-.9-2-2-2zM9 17H7v-7h2v7zm4 0h-2V7h2v10zm4 0h-2v-4h2v4z\"/>\n",
              "    </g>\n",
              "</svg>\n",
              "      </button>\n",
              "\n",
              "<style>\n",
              "  .colab-df-quickchart {\n",
              "      --bg-color: #E8F0FE;\n",
              "      --fill-color: #1967D2;\n",
              "      --hover-bg-color: #E2EBFA;\n",
              "      --hover-fill-color: #174EA6;\n",
              "      --disabled-fill-color: #AAA;\n",
              "      --disabled-bg-color: #DDD;\n",
              "  }\n",
              "\n",
              "  [theme=dark] .colab-df-quickchart {\n",
              "      --bg-color: #3B4455;\n",
              "      --fill-color: #D2E3FC;\n",
              "      --hover-bg-color: #434B5C;\n",
              "      --hover-fill-color: #FFFFFF;\n",
              "      --disabled-bg-color: #3B4455;\n",
              "      --disabled-fill-color: #666;\n",
              "  }\n",
              "\n",
              "  .colab-df-quickchart {\n",
              "    background-color: var(--bg-color);\n",
              "    border: none;\n",
              "    border-radius: 50%;\n",
              "    cursor: pointer;\n",
              "    display: none;\n",
              "    fill: var(--fill-color);\n",
              "    height: 32px;\n",
              "    padding: 0;\n",
              "    width: 32px;\n",
              "  }\n",
              "\n",
              "  .colab-df-quickchart:hover {\n",
              "    background-color: var(--hover-bg-color);\n",
              "    box-shadow: 0 1px 2px rgba(60, 64, 67, 0.3), 0 1px 3px 1px rgba(60, 64, 67, 0.15);\n",
              "    fill: var(--button-hover-fill-color);\n",
              "  }\n",
              "\n",
              "  .colab-df-quickchart-complete:disabled,\n",
              "  .colab-df-quickchart-complete:disabled:hover {\n",
              "    background-color: var(--disabled-bg-color);\n",
              "    fill: var(--disabled-fill-color);\n",
              "    box-shadow: none;\n",
              "  }\n",
              "\n",
              "  .colab-df-spinner {\n",
              "    border: 2px solid var(--fill-color);\n",
              "    border-color: transparent;\n",
              "    border-bottom-color: var(--fill-color);\n",
              "    animation:\n",
              "      spin 1s steps(1) infinite;\n",
              "  }\n",
              "\n",
              "  @keyframes spin {\n",
              "    0% {\n",
              "      border-color: transparent;\n",
              "      border-bottom-color: var(--fill-color);\n",
              "      border-left-color: var(--fill-color);\n",
              "    }\n",
              "    20% {\n",
              "      border-color: transparent;\n",
              "      border-left-color: var(--fill-color);\n",
              "      border-top-color: var(--fill-color);\n",
              "    }\n",
              "    30% {\n",
              "      border-color: transparent;\n",
              "      border-left-color: var(--fill-color);\n",
              "      border-top-color: var(--fill-color);\n",
              "      border-right-color: var(--fill-color);\n",
              "    }\n",
              "    40% {\n",
              "      border-color: transparent;\n",
              "      border-right-color: var(--fill-color);\n",
              "      border-top-color: var(--fill-color);\n",
              "    }\n",
              "    60% {\n",
              "      border-color: transparent;\n",
              "      border-right-color: var(--fill-color);\n",
              "    }\n",
              "    80% {\n",
              "      border-color: transparent;\n",
              "      border-right-color: var(--fill-color);\n",
              "      border-bottom-color: var(--fill-color);\n",
              "    }\n",
              "    90% {\n",
              "      border-color: transparent;\n",
              "      border-bottom-color: var(--fill-color);\n",
              "    }\n",
              "  }\n",
              "</style>\n",
              "\n",
              "      <script>\n",
              "        async function quickchart(key) {\n",
              "          const quickchartButtonEl =\n",
              "            document.querySelector('#' + key + ' button');\n",
              "          quickchartButtonEl.disabled = true;  // To prevent multiple clicks.\n",
              "          quickchartButtonEl.classList.add('colab-df-spinner');\n",
              "          try {\n",
              "            const charts = await google.colab.kernel.invokeFunction(\n",
              "                'suggestCharts', [key], {});\n",
              "          } catch (error) {\n",
              "            console.error('Error during call to suggestCharts:', error);\n",
              "          }\n",
              "          quickchartButtonEl.classList.remove('colab-df-spinner');\n",
              "          quickchartButtonEl.classList.add('colab-df-quickchart-complete');\n",
              "        }\n",
              "        (() => {\n",
              "          let quickchartButtonEl =\n",
              "            document.querySelector('#df-cdf8b1d0-8188-4f2f-bd99-10005ab5957b button');\n",
              "          quickchartButtonEl.style.display =\n",
              "            google.colab.kernel.accessAllowed ? 'block' : 'none';\n",
              "        })();\n",
              "      </script>\n",
              "    </div>\n",
              "\n",
              "  <div id=\"id_0b6e5e17-8ab7-4e22-9404-34ce40e825be\">\n",
              "    <style>\n",
              "      .colab-df-generate {\n",
              "        background-color: #E8F0FE;\n",
              "        border: none;\n",
              "        border-radius: 50%;\n",
              "        cursor: pointer;\n",
              "        display: none;\n",
              "        fill: #1967D2;\n",
              "        height: 32px;\n",
              "        padding: 0 0 0 0;\n",
              "        width: 32px;\n",
              "      }\n",
              "\n",
              "      .colab-df-generate:hover {\n",
              "        background-color: #E2EBFA;\n",
              "        box-shadow: 0px 1px 2px rgba(60, 64, 67, 0.3), 0px 1px 3px 1px rgba(60, 64, 67, 0.15);\n",
              "        fill: #174EA6;\n",
              "      }\n",
              "\n",
              "      [theme=dark] .colab-df-generate {\n",
              "        background-color: #3B4455;\n",
              "        fill: #D2E3FC;\n",
              "      }\n",
              "\n",
              "      [theme=dark] .colab-df-generate:hover {\n",
              "        background-color: #434B5C;\n",
              "        box-shadow: 0px 1px 3px 1px rgba(0, 0, 0, 0.15);\n",
              "        filter: drop-shadow(0px 1px 2px rgba(0, 0, 0, 0.3));\n",
              "        fill: #FFFFFF;\n",
              "      }\n",
              "    </style>\n",
              "    <button class=\"colab-df-generate\" onclick=\"generateWithVariable('vif_data')\"\n",
              "            title=\"Generate code using this dataframe.\"\n",
              "            style=\"display:none;\">\n",
              "\n",
              "  <svg xmlns=\"http://www.w3.org/2000/svg\" height=\"24px\"viewBox=\"0 0 24 24\"\n",
              "       width=\"24px\">\n",
              "    <path d=\"M7,19H8.4L18.45,9,17,7.55,7,17.6ZM5,21V16.75L18.45,3.32a2,2,0,0,1,2.83,0l1.4,1.43a1.91,1.91,0,0,1,.58,1.4,1.91,1.91,0,0,1-.58,1.4L9.25,21ZM18.45,9,17,7.55Zm-12,3A5.31,5.31,0,0,0,4.9,8.1,5.31,5.31,0,0,0,1,6.5,5.31,5.31,0,0,0,4.9,4.9,5.31,5.31,0,0,0,6.5,1,5.31,5.31,0,0,0,8.1,4.9,5.31,5.31,0,0,0,12,6.5,5.46,5.46,0,0,0,6.5,12Z\"/>\n",
              "  </svg>\n",
              "    </button>\n",
              "    <script>\n",
              "      (() => {\n",
              "      const buttonEl =\n",
              "        document.querySelector('#id_0b6e5e17-8ab7-4e22-9404-34ce40e825be button.colab-df-generate');\n",
              "      buttonEl.style.display =\n",
              "        google.colab.kernel.accessAllowed ? 'block' : 'none';\n",
              "\n",
              "      buttonEl.onclick = () => {\n",
              "        google.colab.notebook.generateWithVariable('vif_data');\n",
              "      }\n",
              "      })();\n",
              "    </script>\n",
              "  </div>\n",
              "\n",
              "    </div>\n",
              "  </div>\n"
            ],
            "application/vnd.google.colaboratory.intrinsic+json": {
              "type": "dataframe",
              "variable_name": "vif_data",
              "summary": "{\n  \"name\": \"vif_data\",\n  \"rows\": 6,\n  \"fields\": [\n    {\n      \"column\": \"Feature\",\n      \"properties\": {\n        \"dtype\": \"string\",\n        \"num_unique_values\": 6,\n        \"samples\": [\n          \"const\",\n          \"age\",\n          \"income\"\n        ],\n        \"semantic_type\": \"\",\n        \"description\": \"\"\n      }\n    },\n    {\n      \"column\": \"VIF\",\n      \"properties\": {\n        \"dtype\": \"number\",\n        \"std\": 7.706553834573267,\n        \"min\": 1.0285376419742154,\n        \"max\": 19.954147023891334,\n        \"num_unique_values\": 6,\n        \"samples\": [\n          19.954147023891334,\n          1.0637781217735371,\n          1.1775103148382282\n        ],\n        \"semantic_type\": \"\",\n        \"description\": \"\"\n      }\n    }\n  ]\n}"
            }
          },
          "metadata": {},
          "execution_count": 116
        }
      ]
    },
    {
      "cell_type": "markdown",
      "source": [
        "tidak ada yang di drop karna VIF <= 5"
      ],
      "metadata": {
        "id": "e2aL78vsRPhv"
      }
    },
    {
      "cell_type": "markdown",
      "source": [
        "#Feature Engineering:\n",
        "Mengubah data mentah menjadi fitur yang lebih informatif atau relevan.\n",
        "\n",
        "Meningkatkan kinerja model klasifikasi income (0/1)."
      ],
      "metadata": {
        "id": "rr6I9jJQGSpd"
      }
    },
    {
      "cell_type": "code",
      "source": [
        "df.info()"
      ],
      "metadata": {
        "colab": {
          "base_uri": "https://localhost:8080/"
        },
        "id": "J-ClVcbawcez",
        "outputId": "779d6e69-6fb2-4839-97a0-cc16edab36fb"
      },
      "execution_count": 117,
      "outputs": [
        {
          "output_type": "stream",
          "name": "stdout",
          "text": [
            "<class 'pandas.core.frame.DataFrame'>\n",
            "Index: 45222 entries, 0 to 48841\n",
            "Data columns (total 13 columns):\n",
            " #   Column          Non-Null Count  Dtype   \n",
            "---  ------          --------------  -----   \n",
            " 0   age             45222 non-null  int64   \n",
            " 1   workclass       45222 non-null  object  \n",
            " 2   education       45222 non-null  category\n",
            " 3   marital-status  45222 non-null  object  \n",
            " 4   occupation      45222 non-null  object  \n",
            " 5   relationship    45222 non-null  object  \n",
            " 6   race            45222 non-null  object  \n",
            " 7   sex             45222 non-null  object  \n",
            " 8   capital-gain    45222 non-null  int64   \n",
            " 9   capital-loss    45222 non-null  int64   \n",
            " 10  hours-per-week  45222 non-null  int64   \n",
            " 11  native-country  45222 non-null  object  \n",
            " 12  income          45222 non-null  int64   \n",
            "dtypes: category(1), int64(5), object(7)\n",
            "memory usage: 4.5+ MB\n"
          ]
        }
      ]
    },
    {
      "cell_type": "code",
      "source": [
        "df.head()"
      ],
      "metadata": {
        "colab": {
          "base_uri": "https://localhost:8080/",
          "height": 399
        },
        "id": "oFG-aUAUyo9z",
        "outputId": "01b2f822-95cc-4346-9c3b-4db01cbf6ab5"
      },
      "execution_count": 118,
      "outputs": [
        {
          "output_type": "execute_result",
          "data": {
            "text/plain": [
              "   age         workclass      education      marital-status  \\\n",
              "0   39         State-gov      Bachelors       Never-married   \n",
              "1   50  Self-emp-not-inc      Bachelors  Married-civ-spouse   \n",
              "2   38           Private        HS-grad            Divorced   \n",
              "3   53           Private  Low-Education  Married-civ-spouse   \n",
              "4   28           Private      Bachelors  Married-civ-spouse   \n",
              "\n",
              "          occupation   relationship   race     sex  capital-gain  \\\n",
              "0       Adm-clerical  Not-in-family  White    Male          2174   \n",
              "1    Exec-managerial        Husband  White    Male             0   \n",
              "2  Handlers-cleaners  Not-in-family  White    Male             0   \n",
              "3  Handlers-cleaners        Husband  Black    Male             0   \n",
              "4     Prof-specialty           Wife  Black  Female             0   \n",
              "\n",
              "   capital-loss  hours-per-week native-country  income  \n",
              "0             0              40  United-States       0  \n",
              "1             0              13  United-States       0  \n",
              "2             0              40  United-States       0  \n",
              "3             0              40  United-States       0  \n",
              "4             0              40           Cuba       0  "
            ],
            "text/html": [
              "\n",
              "  <div id=\"df-2423e787-8969-46ec-9bfd-cdae4508610b\" class=\"colab-df-container\">\n",
              "    <div>\n",
              "<style scoped>\n",
              "    .dataframe tbody tr th:only-of-type {\n",
              "        vertical-align: middle;\n",
              "    }\n",
              "\n",
              "    .dataframe tbody tr th {\n",
              "        vertical-align: top;\n",
              "    }\n",
              "\n",
              "    .dataframe thead th {\n",
              "        text-align: right;\n",
              "    }\n",
              "</style>\n",
              "<table border=\"1\" class=\"dataframe\">\n",
              "  <thead>\n",
              "    <tr style=\"text-align: right;\">\n",
              "      <th></th>\n",
              "      <th>age</th>\n",
              "      <th>workclass</th>\n",
              "      <th>education</th>\n",
              "      <th>marital-status</th>\n",
              "      <th>occupation</th>\n",
              "      <th>relationship</th>\n",
              "      <th>race</th>\n",
              "      <th>sex</th>\n",
              "      <th>capital-gain</th>\n",
              "      <th>capital-loss</th>\n",
              "      <th>hours-per-week</th>\n",
              "      <th>native-country</th>\n",
              "      <th>income</th>\n",
              "    </tr>\n",
              "  </thead>\n",
              "  <tbody>\n",
              "    <tr>\n",
              "      <th>0</th>\n",
              "      <td>39</td>\n",
              "      <td>State-gov</td>\n",
              "      <td>Bachelors</td>\n",
              "      <td>Never-married</td>\n",
              "      <td>Adm-clerical</td>\n",
              "      <td>Not-in-family</td>\n",
              "      <td>White</td>\n",
              "      <td>Male</td>\n",
              "      <td>2174</td>\n",
              "      <td>0</td>\n",
              "      <td>40</td>\n",
              "      <td>United-States</td>\n",
              "      <td>0</td>\n",
              "    </tr>\n",
              "    <tr>\n",
              "      <th>1</th>\n",
              "      <td>50</td>\n",
              "      <td>Self-emp-not-inc</td>\n",
              "      <td>Bachelors</td>\n",
              "      <td>Married-civ-spouse</td>\n",
              "      <td>Exec-managerial</td>\n",
              "      <td>Husband</td>\n",
              "      <td>White</td>\n",
              "      <td>Male</td>\n",
              "      <td>0</td>\n",
              "      <td>0</td>\n",
              "      <td>13</td>\n",
              "      <td>United-States</td>\n",
              "      <td>0</td>\n",
              "    </tr>\n",
              "    <tr>\n",
              "      <th>2</th>\n",
              "      <td>38</td>\n",
              "      <td>Private</td>\n",
              "      <td>HS-grad</td>\n",
              "      <td>Divorced</td>\n",
              "      <td>Handlers-cleaners</td>\n",
              "      <td>Not-in-family</td>\n",
              "      <td>White</td>\n",
              "      <td>Male</td>\n",
              "      <td>0</td>\n",
              "      <td>0</td>\n",
              "      <td>40</td>\n",
              "      <td>United-States</td>\n",
              "      <td>0</td>\n",
              "    </tr>\n",
              "    <tr>\n",
              "      <th>3</th>\n",
              "      <td>53</td>\n",
              "      <td>Private</td>\n",
              "      <td>Low-Education</td>\n",
              "      <td>Married-civ-spouse</td>\n",
              "      <td>Handlers-cleaners</td>\n",
              "      <td>Husband</td>\n",
              "      <td>Black</td>\n",
              "      <td>Male</td>\n",
              "      <td>0</td>\n",
              "      <td>0</td>\n",
              "      <td>40</td>\n",
              "      <td>United-States</td>\n",
              "      <td>0</td>\n",
              "    </tr>\n",
              "    <tr>\n",
              "      <th>4</th>\n",
              "      <td>28</td>\n",
              "      <td>Private</td>\n",
              "      <td>Bachelors</td>\n",
              "      <td>Married-civ-spouse</td>\n",
              "      <td>Prof-specialty</td>\n",
              "      <td>Wife</td>\n",
              "      <td>Black</td>\n",
              "      <td>Female</td>\n",
              "      <td>0</td>\n",
              "      <td>0</td>\n",
              "      <td>40</td>\n",
              "      <td>Cuba</td>\n",
              "      <td>0</td>\n",
              "    </tr>\n",
              "  </tbody>\n",
              "</table>\n",
              "</div>\n",
              "    <div class=\"colab-df-buttons\">\n",
              "\n",
              "  <div class=\"colab-df-container\">\n",
              "    <button class=\"colab-df-convert\" onclick=\"convertToInteractive('df-2423e787-8969-46ec-9bfd-cdae4508610b')\"\n",
              "            title=\"Convert this dataframe to an interactive table.\"\n",
              "            style=\"display:none;\">\n",
              "\n",
              "  <svg xmlns=\"http://www.w3.org/2000/svg\" height=\"24px\" viewBox=\"0 -960 960 960\">\n",
              "    <path d=\"M120-120v-720h720v720H120Zm60-500h600v-160H180v160Zm220 220h160v-160H400v160Zm0 220h160v-160H400v160ZM180-400h160v-160H180v160Zm440 0h160v-160H620v160ZM180-180h160v-160H180v160Zm440 0h160v-160H620v160Z\"/>\n",
              "  </svg>\n",
              "    </button>\n",
              "\n",
              "  <style>\n",
              "    .colab-df-container {\n",
              "      display:flex;\n",
              "      gap: 12px;\n",
              "    }\n",
              "\n",
              "    .colab-df-convert {\n",
              "      background-color: #E8F0FE;\n",
              "      border: none;\n",
              "      border-radius: 50%;\n",
              "      cursor: pointer;\n",
              "      display: none;\n",
              "      fill: #1967D2;\n",
              "      height: 32px;\n",
              "      padding: 0 0 0 0;\n",
              "      width: 32px;\n",
              "    }\n",
              "\n",
              "    .colab-df-convert:hover {\n",
              "      background-color: #E2EBFA;\n",
              "      box-shadow: 0px 1px 2px rgba(60, 64, 67, 0.3), 0px 1px 3px 1px rgba(60, 64, 67, 0.15);\n",
              "      fill: #174EA6;\n",
              "    }\n",
              "\n",
              "    .colab-df-buttons div {\n",
              "      margin-bottom: 4px;\n",
              "    }\n",
              "\n",
              "    [theme=dark] .colab-df-convert {\n",
              "      background-color: #3B4455;\n",
              "      fill: #D2E3FC;\n",
              "    }\n",
              "\n",
              "    [theme=dark] .colab-df-convert:hover {\n",
              "      background-color: #434B5C;\n",
              "      box-shadow: 0px 1px 3px 1px rgba(0, 0, 0, 0.15);\n",
              "      filter: drop-shadow(0px 1px 2px rgba(0, 0, 0, 0.3));\n",
              "      fill: #FFFFFF;\n",
              "    }\n",
              "  </style>\n",
              "\n",
              "    <script>\n",
              "      const buttonEl =\n",
              "        document.querySelector('#df-2423e787-8969-46ec-9bfd-cdae4508610b button.colab-df-convert');\n",
              "      buttonEl.style.display =\n",
              "        google.colab.kernel.accessAllowed ? 'block' : 'none';\n",
              "\n",
              "      async function convertToInteractive(key) {\n",
              "        const element = document.querySelector('#df-2423e787-8969-46ec-9bfd-cdae4508610b');\n",
              "        const dataTable =\n",
              "          await google.colab.kernel.invokeFunction('convertToInteractive',\n",
              "                                                    [key], {});\n",
              "        if (!dataTable) return;\n",
              "\n",
              "        const docLinkHtml = 'Like what you see? Visit the ' +\n",
              "          '<a target=\"_blank\" href=https://colab.research.google.com/notebooks/data_table.ipynb>data table notebook</a>'\n",
              "          + ' to learn more about interactive tables.';\n",
              "        element.innerHTML = '';\n",
              "        dataTable['output_type'] = 'display_data';\n",
              "        await google.colab.output.renderOutput(dataTable, element);\n",
              "        const docLink = document.createElement('div');\n",
              "        docLink.innerHTML = docLinkHtml;\n",
              "        element.appendChild(docLink);\n",
              "      }\n",
              "    </script>\n",
              "  </div>\n",
              "\n",
              "\n",
              "    <div id=\"df-6f200060-f479-4a6a-bb58-112aa6760d8a\">\n",
              "      <button class=\"colab-df-quickchart\" onclick=\"quickchart('df-6f200060-f479-4a6a-bb58-112aa6760d8a')\"\n",
              "                title=\"Suggest charts\"\n",
              "                style=\"display:none;\">\n",
              "\n",
              "<svg xmlns=\"http://www.w3.org/2000/svg\" height=\"24px\"viewBox=\"0 0 24 24\"\n",
              "     width=\"24px\">\n",
              "    <g>\n",
              "        <path d=\"M19 3H5c-1.1 0-2 .9-2 2v14c0 1.1.9 2 2 2h14c1.1 0 2-.9 2-2V5c0-1.1-.9-2-2-2zM9 17H7v-7h2v7zm4 0h-2V7h2v10zm4 0h-2v-4h2v4z\"/>\n",
              "    </g>\n",
              "</svg>\n",
              "      </button>\n",
              "\n",
              "<style>\n",
              "  .colab-df-quickchart {\n",
              "      --bg-color: #E8F0FE;\n",
              "      --fill-color: #1967D2;\n",
              "      --hover-bg-color: #E2EBFA;\n",
              "      --hover-fill-color: #174EA6;\n",
              "      --disabled-fill-color: #AAA;\n",
              "      --disabled-bg-color: #DDD;\n",
              "  }\n",
              "\n",
              "  [theme=dark] .colab-df-quickchart {\n",
              "      --bg-color: #3B4455;\n",
              "      --fill-color: #D2E3FC;\n",
              "      --hover-bg-color: #434B5C;\n",
              "      --hover-fill-color: #FFFFFF;\n",
              "      --disabled-bg-color: #3B4455;\n",
              "      --disabled-fill-color: #666;\n",
              "  }\n",
              "\n",
              "  .colab-df-quickchart {\n",
              "    background-color: var(--bg-color);\n",
              "    border: none;\n",
              "    border-radius: 50%;\n",
              "    cursor: pointer;\n",
              "    display: none;\n",
              "    fill: var(--fill-color);\n",
              "    height: 32px;\n",
              "    padding: 0;\n",
              "    width: 32px;\n",
              "  }\n",
              "\n",
              "  .colab-df-quickchart:hover {\n",
              "    background-color: var(--hover-bg-color);\n",
              "    box-shadow: 0 1px 2px rgba(60, 64, 67, 0.3), 0 1px 3px 1px rgba(60, 64, 67, 0.15);\n",
              "    fill: var(--button-hover-fill-color);\n",
              "  }\n",
              "\n",
              "  .colab-df-quickchart-complete:disabled,\n",
              "  .colab-df-quickchart-complete:disabled:hover {\n",
              "    background-color: var(--disabled-bg-color);\n",
              "    fill: var(--disabled-fill-color);\n",
              "    box-shadow: none;\n",
              "  }\n",
              "\n",
              "  .colab-df-spinner {\n",
              "    border: 2px solid var(--fill-color);\n",
              "    border-color: transparent;\n",
              "    border-bottom-color: var(--fill-color);\n",
              "    animation:\n",
              "      spin 1s steps(1) infinite;\n",
              "  }\n",
              "\n",
              "  @keyframes spin {\n",
              "    0% {\n",
              "      border-color: transparent;\n",
              "      border-bottom-color: var(--fill-color);\n",
              "      border-left-color: var(--fill-color);\n",
              "    }\n",
              "    20% {\n",
              "      border-color: transparent;\n",
              "      border-left-color: var(--fill-color);\n",
              "      border-top-color: var(--fill-color);\n",
              "    }\n",
              "    30% {\n",
              "      border-color: transparent;\n",
              "      border-left-color: var(--fill-color);\n",
              "      border-top-color: var(--fill-color);\n",
              "      border-right-color: var(--fill-color);\n",
              "    }\n",
              "    40% {\n",
              "      border-color: transparent;\n",
              "      border-right-color: var(--fill-color);\n",
              "      border-top-color: var(--fill-color);\n",
              "    }\n",
              "    60% {\n",
              "      border-color: transparent;\n",
              "      border-right-color: var(--fill-color);\n",
              "    }\n",
              "    80% {\n",
              "      border-color: transparent;\n",
              "      border-right-color: var(--fill-color);\n",
              "      border-bottom-color: var(--fill-color);\n",
              "    }\n",
              "    90% {\n",
              "      border-color: transparent;\n",
              "      border-bottom-color: var(--fill-color);\n",
              "    }\n",
              "  }\n",
              "</style>\n",
              "\n",
              "      <script>\n",
              "        async function quickchart(key) {\n",
              "          const quickchartButtonEl =\n",
              "            document.querySelector('#' + key + ' button');\n",
              "          quickchartButtonEl.disabled = true;  // To prevent multiple clicks.\n",
              "          quickchartButtonEl.classList.add('colab-df-spinner');\n",
              "          try {\n",
              "            const charts = await google.colab.kernel.invokeFunction(\n",
              "                'suggestCharts', [key], {});\n",
              "          } catch (error) {\n",
              "            console.error('Error during call to suggestCharts:', error);\n",
              "          }\n",
              "          quickchartButtonEl.classList.remove('colab-df-spinner');\n",
              "          quickchartButtonEl.classList.add('colab-df-quickchart-complete');\n",
              "        }\n",
              "        (() => {\n",
              "          let quickchartButtonEl =\n",
              "            document.querySelector('#df-6f200060-f479-4a6a-bb58-112aa6760d8a button');\n",
              "          quickchartButtonEl.style.display =\n",
              "            google.colab.kernel.accessAllowed ? 'block' : 'none';\n",
              "        })();\n",
              "      </script>\n",
              "    </div>\n",
              "\n",
              "    </div>\n",
              "  </div>\n"
            ],
            "application/vnd.google.colaboratory.intrinsic+json": {
              "type": "dataframe",
              "variable_name": "df",
              "summary": "{\n  \"name\": \"df\",\n  \"rows\": 45222,\n  \"fields\": [\n    {\n      \"column\": \"age\",\n      \"properties\": {\n        \"dtype\": \"number\",\n        \"std\": 13,\n        \"min\": 17,\n        \"max\": 90,\n        \"num_unique_values\": 74,\n        \"samples\": [\n          28,\n          81,\n          35\n        ],\n        \"semantic_type\": \"\",\n        \"description\": \"\"\n      }\n    },\n    {\n      \"column\": \"workclass\",\n      \"properties\": {\n        \"dtype\": \"category\",\n        \"num_unique_values\": 7,\n        \"samples\": [\n          \"State-gov\",\n          \"Self-emp-not-inc\",\n          \"Self-emp-inc\"\n        ],\n        \"semantic_type\": \"\",\n        \"description\": \"\"\n      }\n    },\n    {\n      \"column\": \"education\",\n      \"properties\": {\n        \"dtype\": \"category\",\n        \"num_unique_values\": 8,\n        \"samples\": [\n          \"HS-grad\",\n          \"Associate\",\n          \"Bachelors\"\n        ],\n        \"semantic_type\": \"\",\n        \"description\": \"\"\n      }\n    },\n    {\n      \"column\": \"marital-status\",\n      \"properties\": {\n        \"dtype\": \"category\",\n        \"num_unique_values\": 4,\n        \"samples\": [\n          \"Married-civ-spouse\",\n          \"Other\",\n          \"Never-married\"\n        ],\n        \"semantic_type\": \"\",\n        \"description\": \"\"\n      }\n    },\n    {\n      \"column\": \"occupation\",\n      \"properties\": {\n        \"dtype\": \"category\",\n        \"num_unique_values\": 14,\n        \"samples\": [\n          \"Tech-support\",\n          \"Protective-serv\",\n          \"Adm-clerical\"\n        ],\n        \"semantic_type\": \"\",\n        \"description\": \"\"\n      }\n    },\n    {\n      \"column\": \"relationship\",\n      \"properties\": {\n        \"dtype\": \"category\",\n        \"num_unique_values\": 6,\n        \"samples\": [\n          \"Not-in-family\",\n          \"Husband\",\n          \"Other-relative\"\n        ],\n        \"semantic_type\": \"\",\n        \"description\": \"\"\n      }\n    },\n    {\n      \"column\": \"race\",\n      \"properties\": {\n        \"dtype\": \"category\",\n        \"num_unique_values\": 5,\n        \"samples\": [\n          \"Black\",\n          \"Other\",\n          \"Asian-Pac-Islander\"\n        ],\n        \"semantic_type\": \"\",\n        \"description\": \"\"\n      }\n    },\n    {\n      \"column\": \"sex\",\n      \"properties\": {\n        \"dtype\": \"category\",\n        \"num_unique_values\": 2,\n        \"samples\": [\n          \"Female\",\n          \"Male\"\n        ],\n        \"semantic_type\": \"\",\n        \"description\": \"\"\n      }\n    },\n    {\n      \"column\": \"capital-gain\",\n      \"properties\": {\n        \"dtype\": \"number\",\n        \"std\": 7506,\n        \"min\": 0,\n        \"max\": 99999,\n        \"num_unique_values\": 121,\n        \"samples\": [\n          6767,\n          13550\n        ],\n        \"semantic_type\": \"\",\n        \"description\": \"\"\n      }\n    },\n    {\n      \"column\": \"capital-loss\",\n      \"properties\": {\n        \"dtype\": \"number\",\n        \"std\": 404,\n        \"min\": 0,\n        \"max\": 4356,\n        \"num_unique_values\": 97,\n        \"samples\": [\n          2149,\n          2205\n        ],\n        \"semantic_type\": \"\",\n        \"description\": \"\"\n      }\n    },\n    {\n      \"column\": \"hours-per-week\",\n      \"properties\": {\n        \"dtype\": \"number\",\n        \"std\": 12,\n        \"min\": 1,\n        \"max\": 99,\n        \"num_unique_values\": 96,\n        \"samples\": [\n          97,\n          88\n        ],\n        \"semantic_type\": \"\",\n        \"description\": \"\"\n      }\n    },\n    {\n      \"column\": \"native-country\",\n      \"properties\": {\n        \"dtype\": \"category\",\n        \"num_unique_values\": 41,\n        \"samples\": [\n          \"Guatemala\",\n          \"Columbia\"\n        ],\n        \"semantic_type\": \"\",\n        \"description\": \"\"\n      }\n    },\n    {\n      \"column\": \"income\",\n      \"properties\": {\n        \"dtype\": \"number\",\n        \"std\": 0,\n        \"min\": 0,\n        \"max\": 1,\n        \"num_unique_values\": 2,\n        \"samples\": [\n          1,\n          0\n        ],\n        \"semantic_type\": \"\",\n        \"description\": \"\"\n      }\n    }\n  ]\n}"
            }
          },
          "metadata": {},
          "execution_count": 118
        }
      ]
    },
    {
      "cell_type": "code",
      "source": [
        "#Kelompok umur bisa lebih informatif daripada angka asli:\n",
        "#df['age_group'] = pd.cut(df['age'], bins=[0, 25, 40, 60, 100], labels=['Young', 'Adult', 'Senior', 'Elder'])"
      ],
      "metadata": {
        "id": "bAdu-43Bfw6q"
      },
      "execution_count": 119,
      "outputs": []
    },
    {
      "cell_type": "code",
      "source": [
        "#drop kolom age\n",
        "#df.drop('age', axis=1, inplace=True)"
      ],
      "metadata": {
        "id": "GQ2hUEGkfwIK"
      },
      "execution_count": 120,
      "outputs": []
    },
    {
      "cell_type": "code",
      "source": [
        "#Gabungan antara capital-gain dan capital-loss — nilai bersih.\n",
        "df['net_capital'] = df['capital-gain'] - df['capital-loss']"
      ],
      "metadata": {
        "id": "kK82n8fEotFN"
      },
      "execution_count": 121,
      "outputs": []
    },
    {
      "cell_type": "code",
      "source": [
        "#drop kolom capital-gain capital-loss\n",
        "df.drop(['capital-gain', 'capital-loss'], axis=1, inplace=True)"
      ],
      "metadata": {
        "id": "BbiWmhGEDvH3"
      },
      "execution_count": 122,
      "outputs": []
    },
    {
      "cell_type": "code",
      "source": [
        "#Kalau jam kerja lebih dari 40, kemungkinan pendapatan lebih tinggi.\n",
        "df['is_overtime'] = df['hours-per-week'].apply(lambda x: 1 if x > 40 else 0)"
      ],
      "metadata": {
        "id": "Nd_C86fzo4vU"
      },
      "execution_count": 123,
      "outputs": []
    },
    {
      "cell_type": "code",
      "source": [
        "#Gabungkan hubungan keluarga. Semakin banyak tanggungan, bisa berpengaruh ke kebutuhan kerja atau pendapatan.\n",
        "df['family_size'] = df['marital-status'].apply(lambda x: 1 if x in ['Married-civ-spouse', 'Married-AF-spouse'] else 0)"
      ],
      "metadata": {
        "id": "ByxIWKRJpErg"
      },
      "execution_count": 124,
      "outputs": []
    },
    {
      "cell_type": "code",
      "source": [
        "#value net_capita\n",
        "#df['net_capital'].value_counts()"
      ],
      "metadata": {
        "id": "MbuvBgtoAS1S"
      },
      "execution_count": 125,
      "outputs": []
    },
    {
      "cell_type": "code",
      "source": [
        "#Fitur baru berdasarkan kategori workclass, apakah seseorang bekerja sendiri atau bukan:\n",
        "df['is_self_employed'] = df['workclass'].apply(lambda x: 1 if 'Self-emp' in x else 0)"
      ],
      "metadata": {
        "id": "tu_c1pm8zYJ5"
      },
      "execution_count": 126,
      "outputs": []
    },
    {
      "cell_type": "code",
      "source": [
        "#drop kolom workclass\n",
        "df.drop('workclass', axis=1, inplace=True)"
      ],
      "metadata": {
        "id": "s5XxRmFFzYLx"
      },
      "execution_count": 127,
      "outputs": []
    },
    {
      "cell_type": "code",
      "source": [
        "import seaborn as sns\n",
        "import matplotlib.pyplot as plt\n",
        "import numpy as np\n",
        "\n",
        "# Ambil semua kolom numerik (int, float, dan bool)\n",
        "numeric_df = df.select_dtypes(include=[np.number])\n",
        "\n",
        "# Hitung korelasi dengan target\n",
        "correlation = numeric_df.corr()['income'].sort_values(ascending=False)\n",
        "\n",
        "print(\"Korelasi fitur ke target ('income'):\")\n",
        "print(correlation)"
      ],
      "metadata": {
        "colab": {
          "base_uri": "https://localhost:8080/"
        },
        "id": "D0SSvmMv_GhS",
        "outputId": "7b0270f2-dcce-44f0-e40a-1d89caf60203"
      },
      "execution_count": 128,
      "outputs": [
        {
          "output_type": "stream",
          "name": "stdout",
          "text": [
            "Korelasi fitur ke target ('income'):\n",
            "income              1.000000\n",
            "family_size         0.446192\n",
            "is_overtime         0.239740\n",
            "age                 0.237040\n",
            "hours-per-week      0.227199\n",
            "net_capital         0.212337\n",
            "is_self_employed    0.097949\n",
            "Name: income, dtype: float64\n"
          ]
        }
      ]
    },
    {
      "cell_type": "code",
      "source": [
        "import seaborn as sns\n",
        "import matplotlib.pyplot as plt\n",
        "\n",
        "# Ambil hanya kolom numerik\n",
        "numeric_df = df.select_dtypes(include=['int64'])\n",
        "\n",
        "# Hitung korelasi dengan target\n",
        "correlation = numeric_df.corr()['income'].sort_values(ascending=False)\n",
        "print(\"Korelasi fitur ke target (income'):\")\n",
        "print(correlation)"
      ],
      "metadata": {
        "colab": {
          "base_uri": "https://localhost:8080/"
        },
        "id": "VGrJGBVjzYNZ",
        "outputId": "3db9b0a9-4608-4d09-cac2-76dd170947b4"
      },
      "execution_count": 129,
      "outputs": [
        {
          "output_type": "stream",
          "name": "stdout",
          "text": [
            "Korelasi fitur ke target (income'):\n",
            "income              1.000000\n",
            "family_size         0.446192\n",
            "is_overtime         0.239740\n",
            "age                 0.237040\n",
            "hours-per-week      0.227199\n",
            "net_capital         0.212337\n",
            "is_self_employed    0.097949\n",
            "Name: income, dtype: float64\n"
          ]
        }
      ]
    },
    {
      "cell_type": "code",
      "source": [
        "#drop fnlwgt\n",
        "#df.drop('fnlwgt', axis=1, inplace=True)"
      ],
      "metadata": {
        "id": "BB9J3oeU10iE"
      },
      "execution_count": 130,
      "outputs": []
    },
    {
      "cell_type": "markdown",
      "source": [
        "mendrop fnlwgt\tkaran tidak membutuhkan  jumlah orang dalam populasi yang memiliki karakteristik serupa"
      ],
      "metadata": {
        "id": "G8j4dPDq13ZN"
      }
    },
    {
      "cell_type": "code",
      "source": [
        "df.info()"
      ],
      "metadata": {
        "id": "UrNqRDSy12jk",
        "colab": {
          "base_uri": "https://localhost:8080/"
        },
        "outputId": "08770f04-049c-4692-daa8-98cdce18eac1"
      },
      "execution_count": 131,
      "outputs": [
        {
          "output_type": "stream",
          "name": "stdout",
          "text": [
            "<class 'pandas.core.frame.DataFrame'>\n",
            "Index: 45222 entries, 0 to 48841\n",
            "Data columns (total 14 columns):\n",
            " #   Column            Non-Null Count  Dtype   \n",
            "---  ------            --------------  -----   \n",
            " 0   age               45222 non-null  int64   \n",
            " 1   education         45222 non-null  category\n",
            " 2   marital-status    45222 non-null  object  \n",
            " 3   occupation        45222 non-null  object  \n",
            " 4   relationship      45222 non-null  object  \n",
            " 5   race              45222 non-null  object  \n",
            " 6   sex               45222 non-null  object  \n",
            " 7   hours-per-week    45222 non-null  int64   \n",
            " 8   native-country    45222 non-null  object  \n",
            " 9   income            45222 non-null  int64   \n",
            " 10  net_capital       45222 non-null  int64   \n",
            " 11  is_overtime       45222 non-null  int64   \n",
            " 12  family_size       45222 non-null  int64   \n",
            " 13  is_self_employed  45222 non-null  int64   \n",
            "dtypes: category(1), int64(7), object(6)\n",
            "memory usage: 4.9+ MB\n"
          ]
        }
      ]
    },
    {
      "cell_type": "markdown",
      "source": [
        "#Outlier Handling"
      ],
      "metadata": {
        "id": "Th4hmtI50w88"
      }
    },
    {
      "cell_type": "code",
      "source": [
        "#kolom yang int\n",
        "#numeric_cols = ['age', 'hours-per-week', 'capital-gain', 'capital-loss', 'is_self_employed']"
      ],
      "metadata": {
        "id": "d0loc4b00yBY"
      },
      "execution_count": 132,
      "outputs": []
    },
    {
      "cell_type": "code",
      "source": [
        "#kolom yang int\n",
        "numeric_cols = ['age', 'hours-per-week']"
      ],
      "metadata": {
        "id": "m4CRE8-QEBmA"
      },
      "execution_count": 133,
      "outputs": []
    },
    {
      "cell_type": "code",
      "source": [
        "#kolom yang int\n",
        "#numeric_cols = ['age', 'hours-per-week']"
      ],
      "metadata": {
        "id": "JBpV2D8X_sfo"
      },
      "execution_count": 134,
      "outputs": []
    },
    {
      "cell_type": "code",
      "source": [
        "df.info()"
      ],
      "metadata": {
        "colab": {
          "base_uri": "https://localhost:8080/"
        },
        "id": "qwOfIOIKgFYB",
        "outputId": "e0ad3f0b-d326-438a-c619-ce6744de89cb"
      },
      "execution_count": 135,
      "outputs": [
        {
          "output_type": "stream",
          "name": "stdout",
          "text": [
            "<class 'pandas.core.frame.DataFrame'>\n",
            "Index: 45222 entries, 0 to 48841\n",
            "Data columns (total 14 columns):\n",
            " #   Column            Non-Null Count  Dtype   \n",
            "---  ------            --------------  -----   \n",
            " 0   age               45222 non-null  int64   \n",
            " 1   education         45222 non-null  category\n",
            " 2   marital-status    45222 non-null  object  \n",
            " 3   occupation        45222 non-null  object  \n",
            " 4   relationship      45222 non-null  object  \n",
            " 5   race              45222 non-null  object  \n",
            " 6   sex               45222 non-null  object  \n",
            " 7   hours-per-week    45222 non-null  int64   \n",
            " 8   native-country    45222 non-null  object  \n",
            " 9   income            45222 non-null  int64   \n",
            " 10  net_capital       45222 non-null  int64   \n",
            " 11  is_overtime       45222 non-null  int64   \n",
            " 12  family_size       45222 non-null  int64   \n",
            " 13  is_self_employed  45222 non-null  int64   \n",
            "dtypes: category(1), int64(7), object(6)\n",
            "memory usage: 4.9+ MB\n"
          ]
        }
      ]
    },
    {
      "cell_type": "code",
      "source": [
        "#mau melihat value dari numeric_cols\n",
        "df[numeric_cols].describe()"
      ],
      "metadata": {
        "colab": {
          "base_uri": "https://localhost:8080/",
          "height": 300
        },
        "id": "pc_1vhv50yDy",
        "outputId": "8aaf7520-283a-454d-bb51-86d8a4182ee1"
      },
      "execution_count": 136,
      "outputs": [
        {
          "output_type": "execute_result",
          "data": {
            "text/plain": [
              "                age  hours-per-week\n",
              "count  45222.000000    45222.000000\n",
              "mean      38.547941       40.938017\n",
              "std       13.217870       12.007508\n",
              "min       17.000000        1.000000\n",
              "25%       28.000000       40.000000\n",
              "50%       37.000000       40.000000\n",
              "75%       47.000000       45.000000\n",
              "max       90.000000       99.000000"
            ],
            "text/html": [
              "\n",
              "  <div id=\"df-ba5c7a69-55e6-43d6-a360-f1597de527b7\" class=\"colab-df-container\">\n",
              "    <div>\n",
              "<style scoped>\n",
              "    .dataframe tbody tr th:only-of-type {\n",
              "        vertical-align: middle;\n",
              "    }\n",
              "\n",
              "    .dataframe tbody tr th {\n",
              "        vertical-align: top;\n",
              "    }\n",
              "\n",
              "    .dataframe thead th {\n",
              "        text-align: right;\n",
              "    }\n",
              "</style>\n",
              "<table border=\"1\" class=\"dataframe\">\n",
              "  <thead>\n",
              "    <tr style=\"text-align: right;\">\n",
              "      <th></th>\n",
              "      <th>age</th>\n",
              "      <th>hours-per-week</th>\n",
              "    </tr>\n",
              "  </thead>\n",
              "  <tbody>\n",
              "    <tr>\n",
              "      <th>count</th>\n",
              "      <td>45222.000000</td>\n",
              "      <td>45222.000000</td>\n",
              "    </tr>\n",
              "    <tr>\n",
              "      <th>mean</th>\n",
              "      <td>38.547941</td>\n",
              "      <td>40.938017</td>\n",
              "    </tr>\n",
              "    <tr>\n",
              "      <th>std</th>\n",
              "      <td>13.217870</td>\n",
              "      <td>12.007508</td>\n",
              "    </tr>\n",
              "    <tr>\n",
              "      <th>min</th>\n",
              "      <td>17.000000</td>\n",
              "      <td>1.000000</td>\n",
              "    </tr>\n",
              "    <tr>\n",
              "      <th>25%</th>\n",
              "      <td>28.000000</td>\n",
              "      <td>40.000000</td>\n",
              "    </tr>\n",
              "    <tr>\n",
              "      <th>50%</th>\n",
              "      <td>37.000000</td>\n",
              "      <td>40.000000</td>\n",
              "    </tr>\n",
              "    <tr>\n",
              "      <th>75%</th>\n",
              "      <td>47.000000</td>\n",
              "      <td>45.000000</td>\n",
              "    </tr>\n",
              "    <tr>\n",
              "      <th>max</th>\n",
              "      <td>90.000000</td>\n",
              "      <td>99.000000</td>\n",
              "    </tr>\n",
              "  </tbody>\n",
              "</table>\n",
              "</div>\n",
              "    <div class=\"colab-df-buttons\">\n",
              "\n",
              "  <div class=\"colab-df-container\">\n",
              "    <button class=\"colab-df-convert\" onclick=\"convertToInteractive('df-ba5c7a69-55e6-43d6-a360-f1597de527b7')\"\n",
              "            title=\"Convert this dataframe to an interactive table.\"\n",
              "            style=\"display:none;\">\n",
              "\n",
              "  <svg xmlns=\"http://www.w3.org/2000/svg\" height=\"24px\" viewBox=\"0 -960 960 960\">\n",
              "    <path d=\"M120-120v-720h720v720H120Zm60-500h600v-160H180v160Zm220 220h160v-160H400v160Zm0 220h160v-160H400v160ZM180-400h160v-160H180v160Zm440 0h160v-160H620v160ZM180-180h160v-160H180v160Zm440 0h160v-160H620v160Z\"/>\n",
              "  </svg>\n",
              "    </button>\n",
              "\n",
              "  <style>\n",
              "    .colab-df-container {\n",
              "      display:flex;\n",
              "      gap: 12px;\n",
              "    }\n",
              "\n",
              "    .colab-df-convert {\n",
              "      background-color: #E8F0FE;\n",
              "      border: none;\n",
              "      border-radius: 50%;\n",
              "      cursor: pointer;\n",
              "      display: none;\n",
              "      fill: #1967D2;\n",
              "      height: 32px;\n",
              "      padding: 0 0 0 0;\n",
              "      width: 32px;\n",
              "    }\n",
              "\n",
              "    .colab-df-convert:hover {\n",
              "      background-color: #E2EBFA;\n",
              "      box-shadow: 0px 1px 2px rgba(60, 64, 67, 0.3), 0px 1px 3px 1px rgba(60, 64, 67, 0.15);\n",
              "      fill: #174EA6;\n",
              "    }\n",
              "\n",
              "    .colab-df-buttons div {\n",
              "      margin-bottom: 4px;\n",
              "    }\n",
              "\n",
              "    [theme=dark] .colab-df-convert {\n",
              "      background-color: #3B4455;\n",
              "      fill: #D2E3FC;\n",
              "    }\n",
              "\n",
              "    [theme=dark] .colab-df-convert:hover {\n",
              "      background-color: #434B5C;\n",
              "      box-shadow: 0px 1px 3px 1px rgba(0, 0, 0, 0.15);\n",
              "      filter: drop-shadow(0px 1px 2px rgba(0, 0, 0, 0.3));\n",
              "      fill: #FFFFFF;\n",
              "    }\n",
              "  </style>\n",
              "\n",
              "    <script>\n",
              "      const buttonEl =\n",
              "        document.querySelector('#df-ba5c7a69-55e6-43d6-a360-f1597de527b7 button.colab-df-convert');\n",
              "      buttonEl.style.display =\n",
              "        google.colab.kernel.accessAllowed ? 'block' : 'none';\n",
              "\n",
              "      async function convertToInteractive(key) {\n",
              "        const element = document.querySelector('#df-ba5c7a69-55e6-43d6-a360-f1597de527b7');\n",
              "        const dataTable =\n",
              "          await google.colab.kernel.invokeFunction('convertToInteractive',\n",
              "                                                    [key], {});\n",
              "        if (!dataTable) return;\n",
              "\n",
              "        const docLinkHtml = 'Like what you see? Visit the ' +\n",
              "          '<a target=\"_blank\" href=https://colab.research.google.com/notebooks/data_table.ipynb>data table notebook</a>'\n",
              "          + ' to learn more about interactive tables.';\n",
              "        element.innerHTML = '';\n",
              "        dataTable['output_type'] = 'display_data';\n",
              "        await google.colab.output.renderOutput(dataTable, element);\n",
              "        const docLink = document.createElement('div');\n",
              "        docLink.innerHTML = docLinkHtml;\n",
              "        element.appendChild(docLink);\n",
              "      }\n",
              "    </script>\n",
              "  </div>\n",
              "\n",
              "\n",
              "    <div id=\"df-d2ad3814-8986-4f21-b9c2-5d458e719674\">\n",
              "      <button class=\"colab-df-quickchart\" onclick=\"quickchart('df-d2ad3814-8986-4f21-b9c2-5d458e719674')\"\n",
              "                title=\"Suggest charts\"\n",
              "                style=\"display:none;\">\n",
              "\n",
              "<svg xmlns=\"http://www.w3.org/2000/svg\" height=\"24px\"viewBox=\"0 0 24 24\"\n",
              "     width=\"24px\">\n",
              "    <g>\n",
              "        <path d=\"M19 3H5c-1.1 0-2 .9-2 2v14c0 1.1.9 2 2 2h14c1.1 0 2-.9 2-2V5c0-1.1-.9-2-2-2zM9 17H7v-7h2v7zm4 0h-2V7h2v10zm4 0h-2v-4h2v4z\"/>\n",
              "    </g>\n",
              "</svg>\n",
              "      </button>\n",
              "\n",
              "<style>\n",
              "  .colab-df-quickchart {\n",
              "      --bg-color: #E8F0FE;\n",
              "      --fill-color: #1967D2;\n",
              "      --hover-bg-color: #E2EBFA;\n",
              "      --hover-fill-color: #174EA6;\n",
              "      --disabled-fill-color: #AAA;\n",
              "      --disabled-bg-color: #DDD;\n",
              "  }\n",
              "\n",
              "  [theme=dark] .colab-df-quickchart {\n",
              "      --bg-color: #3B4455;\n",
              "      --fill-color: #D2E3FC;\n",
              "      --hover-bg-color: #434B5C;\n",
              "      --hover-fill-color: #FFFFFF;\n",
              "      --disabled-bg-color: #3B4455;\n",
              "      --disabled-fill-color: #666;\n",
              "  }\n",
              "\n",
              "  .colab-df-quickchart {\n",
              "    background-color: var(--bg-color);\n",
              "    border: none;\n",
              "    border-radius: 50%;\n",
              "    cursor: pointer;\n",
              "    display: none;\n",
              "    fill: var(--fill-color);\n",
              "    height: 32px;\n",
              "    padding: 0;\n",
              "    width: 32px;\n",
              "  }\n",
              "\n",
              "  .colab-df-quickchart:hover {\n",
              "    background-color: var(--hover-bg-color);\n",
              "    box-shadow: 0 1px 2px rgba(60, 64, 67, 0.3), 0 1px 3px 1px rgba(60, 64, 67, 0.15);\n",
              "    fill: var(--button-hover-fill-color);\n",
              "  }\n",
              "\n",
              "  .colab-df-quickchart-complete:disabled,\n",
              "  .colab-df-quickchart-complete:disabled:hover {\n",
              "    background-color: var(--disabled-bg-color);\n",
              "    fill: var(--disabled-fill-color);\n",
              "    box-shadow: none;\n",
              "  }\n",
              "\n",
              "  .colab-df-spinner {\n",
              "    border: 2px solid var(--fill-color);\n",
              "    border-color: transparent;\n",
              "    border-bottom-color: var(--fill-color);\n",
              "    animation:\n",
              "      spin 1s steps(1) infinite;\n",
              "  }\n",
              "\n",
              "  @keyframes spin {\n",
              "    0% {\n",
              "      border-color: transparent;\n",
              "      border-bottom-color: var(--fill-color);\n",
              "      border-left-color: var(--fill-color);\n",
              "    }\n",
              "    20% {\n",
              "      border-color: transparent;\n",
              "      border-left-color: var(--fill-color);\n",
              "      border-top-color: var(--fill-color);\n",
              "    }\n",
              "    30% {\n",
              "      border-color: transparent;\n",
              "      border-left-color: var(--fill-color);\n",
              "      border-top-color: var(--fill-color);\n",
              "      border-right-color: var(--fill-color);\n",
              "    }\n",
              "    40% {\n",
              "      border-color: transparent;\n",
              "      border-right-color: var(--fill-color);\n",
              "      border-top-color: var(--fill-color);\n",
              "    }\n",
              "    60% {\n",
              "      border-color: transparent;\n",
              "      border-right-color: var(--fill-color);\n",
              "    }\n",
              "    80% {\n",
              "      border-color: transparent;\n",
              "      border-right-color: var(--fill-color);\n",
              "      border-bottom-color: var(--fill-color);\n",
              "    }\n",
              "    90% {\n",
              "      border-color: transparent;\n",
              "      border-bottom-color: var(--fill-color);\n",
              "    }\n",
              "  }\n",
              "</style>\n",
              "\n",
              "      <script>\n",
              "        async function quickchart(key) {\n",
              "          const quickchartButtonEl =\n",
              "            document.querySelector('#' + key + ' button');\n",
              "          quickchartButtonEl.disabled = true;  // To prevent multiple clicks.\n",
              "          quickchartButtonEl.classList.add('colab-df-spinner');\n",
              "          try {\n",
              "            const charts = await google.colab.kernel.invokeFunction(\n",
              "                'suggestCharts', [key], {});\n",
              "          } catch (error) {\n",
              "            console.error('Error during call to suggestCharts:', error);\n",
              "          }\n",
              "          quickchartButtonEl.classList.remove('colab-df-spinner');\n",
              "          quickchartButtonEl.classList.add('colab-df-quickchart-complete');\n",
              "        }\n",
              "        (() => {\n",
              "          let quickchartButtonEl =\n",
              "            document.querySelector('#df-d2ad3814-8986-4f21-b9c2-5d458e719674 button');\n",
              "          quickchartButtonEl.style.display =\n",
              "            google.colab.kernel.accessAllowed ? 'block' : 'none';\n",
              "        })();\n",
              "      </script>\n",
              "    </div>\n",
              "\n",
              "    </div>\n",
              "  </div>\n"
            ],
            "application/vnd.google.colaboratory.intrinsic+json": {
              "type": "dataframe",
              "summary": "{\n  \"name\": \"df[numeric_cols]\",\n  \"rows\": 8,\n  \"fields\": [\n    {\n      \"column\": \"age\",\n      \"properties\": {\n        \"dtype\": \"number\",\n        \"std\": 15974.733299846283,\n        \"min\": 13.217870219055545,\n        \"max\": 45222.0,\n        \"num_unique_values\": 8,\n        \"samples\": [\n          38.547941267524656,\n          37.0,\n          45222.0\n        ],\n        \"semantic_type\": \"\",\n        \"description\": \"\"\n      }\n    },\n    {\n      \"column\": \"hours-per-week\",\n      \"properties\": {\n        \"dtype\": \"number\",\n        \"std\": 15974.379043387928,\n        \"min\": 1.0,\n        \"max\": 45222.0,\n        \"num_unique_values\": 7,\n        \"samples\": [\n          45222.0,\n          40.93801689443191,\n          45.0\n        ],\n        \"semantic_type\": \"\",\n        \"description\": \"\"\n      }\n    }\n  ]\n}"
            }
          },
          "metadata": {},
          "execution_count": 136
        }
      ]
    },
    {
      "cell_type": "code",
      "source": [
        "#value is_self_employed\n",
        "df['is_self_employed'].value_counts()"
      ],
      "metadata": {
        "colab": {
          "base_uri": "https://localhost:8080/",
          "height": 178
        },
        "id": "bf3G5hYsDen5",
        "outputId": "a05f9ab7-fbfa-4365-8368-71f986b58355"
      },
      "execution_count": 137,
      "outputs": [
        {
          "output_type": "execute_result",
          "data": {
            "text/plain": [
              "is_self_employed\n",
              "0    39780\n",
              "1     5442\n",
              "Name: count, dtype: int64"
            ],
            "text/html": [
              "<div>\n",
              "<style scoped>\n",
              "    .dataframe tbody tr th:only-of-type {\n",
              "        vertical-align: middle;\n",
              "    }\n",
              "\n",
              "    .dataframe tbody tr th {\n",
              "        vertical-align: top;\n",
              "    }\n",
              "\n",
              "    .dataframe thead th {\n",
              "        text-align: right;\n",
              "    }\n",
              "</style>\n",
              "<table border=\"1\" class=\"dataframe\">\n",
              "  <thead>\n",
              "    <tr style=\"text-align: right;\">\n",
              "      <th></th>\n",
              "      <th>count</th>\n",
              "    </tr>\n",
              "    <tr>\n",
              "      <th>is_self_employed</th>\n",
              "      <th></th>\n",
              "    </tr>\n",
              "  </thead>\n",
              "  <tbody>\n",
              "    <tr>\n",
              "      <th>0</th>\n",
              "      <td>39780</td>\n",
              "    </tr>\n",
              "    <tr>\n",
              "      <th>1</th>\n",
              "      <td>5442</td>\n",
              "    </tr>\n",
              "  </tbody>\n",
              "</table>\n",
              "</div><br><label><b>dtype:</b> int64</label>"
            ]
          },
          "metadata": {},
          "execution_count": 137
        }
      ]
    },
    {
      "cell_type": "markdown",
      "source": [
        "is_self_employed\ttidak perlu dihandling outlier karan dia biner"
      ],
      "metadata": {
        "id": "xmEIq8cB1i9a"
      }
    },
    {
      "cell_type": "code",
      "source": [
        "Q1 = df[numeric_cols].quantile(0.25)\n",
        "Q3 = df[numeric_cols].quantile(0.75)\n",
        "IQR = Q3 - Q1\n",
        "lower = Q1 - 1.5 * IQR\n",
        "upper = Q3 + 1.5 * IQR\n",
        "outlier = (df[numeric_cols] < lower) | (df[numeric_cols] > upper)\n",
        "outlier_count = outlier.sum(axis=0)\n",
        "print(f'Jumlah baris outliers')\n",
        "print(outlier_count)"
      ],
      "metadata": {
        "colab": {
          "base_uri": "https://localhost:8080/"
        },
        "id": "eBY7937E0yMe",
        "outputId": "3d0266a6-e272-4424-d4ce-be0c0ca5ca47"
      },
      "execution_count": 138,
      "outputs": [
        {
          "output_type": "stream",
          "name": "stdout",
          "text": [
            "Jumlah baris outliers\n",
            "age                 269\n",
            "hours-per-week    11899\n",
            "dtype: int64\n"
          ]
        }
      ]
    },
    {
      "cell_type": "code",
      "source": [
        "df[numeric_cols] = df[numeric_cols].clip(lower=lower, upper=upper, axis=1)"
      ],
      "metadata": {
        "id": "LFy67Gy62D_h"
      },
      "execution_count": 139,
      "outputs": []
    },
    {
      "cell_type": "code",
      "source": [
        "Q1 = df[numeric_cols].quantile(0.25)\n",
        "Q3 = df[numeric_cols].quantile(0.75)\n",
        "IQR = Q3 - Q1\n",
        "lower = Q1 - 1.5 * IQR\n",
        "upper = Q3 + 1.5 * IQR\n",
        "outlier = (df[numeric_cols] < lower) | (df[numeric_cols] > upper)\n",
        "outlier_count = outlier.sum(axis=0)\n",
        "print(f'Jumlah baris outliers')\n",
        "print(outlier_count)"
      ],
      "metadata": {
        "colab": {
          "base_uri": "https://localhost:8080/"
        },
        "id": "SOGz_c2E2ECE",
        "outputId": "e4ff6b62-d005-4e53-f941-5c462716f1d1"
      },
      "execution_count": 140,
      "outputs": [
        {
          "output_type": "stream",
          "name": "stdout",
          "text": [
            "Jumlah baris outliers\n",
            "age               0\n",
            "hours-per-week    0\n",
            "dtype: int64\n"
          ]
        }
      ]
    },
    {
      "cell_type": "code",
      "source": [
        "df['income'].value_counts()"
      ],
      "metadata": {
        "colab": {
          "base_uri": "https://localhost:8080/",
          "height": 178
        },
        "id": "bVMhlfoD2EHV",
        "outputId": "4ed95a6d-7db0-45a3-9990-f04a91613eb5"
      },
      "execution_count": 141,
      "outputs": [
        {
          "output_type": "execute_result",
          "data": {
            "text/plain": [
              "income\n",
              "0    34014\n",
              "1    11208\n",
              "Name: count, dtype: int64"
            ],
            "text/html": [
              "<div>\n",
              "<style scoped>\n",
              "    .dataframe tbody tr th:only-of-type {\n",
              "        vertical-align: middle;\n",
              "    }\n",
              "\n",
              "    .dataframe tbody tr th {\n",
              "        vertical-align: top;\n",
              "    }\n",
              "\n",
              "    .dataframe thead th {\n",
              "        text-align: right;\n",
              "    }\n",
              "</style>\n",
              "<table border=\"1\" class=\"dataframe\">\n",
              "  <thead>\n",
              "    <tr style=\"text-align: right;\">\n",
              "      <th></th>\n",
              "      <th>count</th>\n",
              "    </tr>\n",
              "    <tr>\n",
              "      <th>income</th>\n",
              "      <th></th>\n",
              "    </tr>\n",
              "  </thead>\n",
              "  <tbody>\n",
              "    <tr>\n",
              "      <th>0</th>\n",
              "      <td>34014</td>\n",
              "    </tr>\n",
              "    <tr>\n",
              "      <th>1</th>\n",
              "      <td>11208</td>\n",
              "    </tr>\n",
              "  </tbody>\n",
              "</table>\n",
              "</div><br><label><b>dtype:</b> int64</label>"
            ]
          },
          "metadata": {},
          "execution_count": 141
        }
      ]
    },
    {
      "cell_type": "markdown",
      "source": [
        "#ENCODING"
      ],
      "metadata": {
        "id": "jEsEdBOX2cV-"
      }
    },
    {
      "cell_type": "code",
      "source": [
        "df.info()"
      ],
      "metadata": {
        "colab": {
          "base_uri": "https://localhost:8080/"
        },
        "id": "AUMM08kG2EJC",
        "outputId": "b7ca9d9c-c740-476c-ad61-d5dcd2f3b28b"
      },
      "execution_count": 142,
      "outputs": [
        {
          "output_type": "stream",
          "name": "stdout",
          "text": [
            "<class 'pandas.core.frame.DataFrame'>\n",
            "Index: 45222 entries, 0 to 48841\n",
            "Data columns (total 14 columns):\n",
            " #   Column            Non-Null Count  Dtype   \n",
            "---  ------            --------------  -----   \n",
            " 0   age               45222 non-null  float64 \n",
            " 1   education         45222 non-null  category\n",
            " 2   marital-status    45222 non-null  object  \n",
            " 3   occupation        45222 non-null  object  \n",
            " 4   relationship      45222 non-null  object  \n",
            " 5   race              45222 non-null  object  \n",
            " 6   sex               45222 non-null  object  \n",
            " 7   hours-per-week    45222 non-null  float64 \n",
            " 8   native-country    45222 non-null  object  \n",
            " 9   income            45222 non-null  int64   \n",
            " 10  net_capital       45222 non-null  int64   \n",
            " 11  is_overtime       45222 non-null  int64   \n",
            " 12  family_size       45222 non-null  int64   \n",
            " 13  is_self_employed  45222 non-null  int64   \n",
            "dtypes: category(1), float64(2), int64(5), object(6)\n",
            "memory usage: 4.9+ MB\n"
          ]
        }
      ]
    },
    {
      "cell_type": "markdown",
      "source": [
        "\n",
        "\n",
        "marital-status : Status pernikahan individu\n",
        "\n",
        "occupation : Jenis pekerjaan spesifik yang dijalani\n",
        "\n",
        "relationship : Hubungan individu dalam rumah tangga (misal: suami, anak, dll)\n",
        "\n",
        "race : Ras atau kelompok etnis individu\n",
        "\n",
        "sex : Jenis kelamin\n",
        "\n",
        "native-country : Negara asal individu\n"
      ],
      "metadata": {
        "id": "7ULmJr5-2-Pq"
      }
    },
    {
      "cell_type": "code",
      "source": [
        "from sklearn.preprocessing import LabelEncoder\n",
        "\n",
        "# 1. One-Hot Encoding (jumlah kategori sedikit, tidak berurutan)\n",
        "onehot_cols = ['marital-status', 'relationship', 'race']\n",
        "df = pd.get_dummies(df, columns=onehot_cols, drop_first=True)\n",
        "\n",
        "# 2. Label Encoding untuk kolom biner (sex)\n",
        "le = LabelEncoder()\n",
        "df['sex'] = le.fit_transform(df['sex'])  # Female = 0, Male = 1 (default sklearn)\n",
        "\n",
        "# 3. Mean Encoding untuk kolom dengan banyak kategori\n",
        "mean_enc_cols = ['native-country', 'occupation']\n",
        "for col in mean_enc_cols:\n",
        "    mean_map = df.groupby(col)['income'].mean()\n",
        "    df[col + '_mean_enc'] = df[col].map(mean_map)\n",
        "\n",
        "# 4. Drop kolom asli setelah encoding\n",
        "df.drop(columns=mean_enc_cols, inplace=True)"
      ],
      "metadata": {
        "id": "hIoOSz7s0yQj"
      },
      "execution_count": 143,
      "outputs": []
    },
    {
      "cell_type": "markdown",
      "source": [
        "One-Hot Encoding (marital-status, relationship, race): Karena jumlah kategorinya sedikit dan tidak berurutan, sehingga cocok direpresentasikan dalam bentuk kolom biner.\n",
        "\n",
        "Label Encoding (sex): Karena hanya terdiri dari dua kategori (biner), jadi cukup efisien dengan pengkodean numerik 0 dan 1.\n",
        "\n",
        "Mean Encoding (occupation, native-country): Karena kategorinya banyak, mean encoding digunakan untuk mengurangi dimensi tanpa kehilangan informasi yang berkaitan dengan target."
      ],
      "metadata": {
        "id": "KfodRznBmCVt"
      }
    },
    {
      "cell_type": "code",
      "source": [
        "# Pastikan education dan age_group bertipe kategori dulu (kalau belum)\n",
        "df['education'] = df['education'].astype('category')\n",
        "#df['age_group'] = df['age_group'].astype('category')\n",
        "\n",
        "# Ubah ke kode numerik\n",
        "df['education'] = df['education'].cat.codes\n",
        "#df['age_group'] = df['age_group'].cat.codes"
      ],
      "metadata": {
        "id": "wkCq7VCi56zF"
      },
      "execution_count": 144,
      "outputs": []
    },
    {
      "cell_type": "code",
      "source": [
        "#value untuk semua category dan object\n",
        "for col in df.columns:\n",
        "    print(col, df[col].unique())"
      ],
      "metadata": {
        "colab": {
          "base_uri": "https://localhost:8080/"
        },
        "id": "6gbgKcHxx3pz",
        "outputId": "00e2cf77-945b-45f7-8a2d-2e894b42327f"
      },
      "execution_count": 167,
      "outputs": [
        {
          "output_type": "stream",
          "name": "stdout",
          "text": [
            "age [39.  50.  38.  53.  28.  37.  49.  52.  31.  42.  30.  23.  32.  34.\n",
            " 25.  43.  40.  54.  35.  59.  56.  19.  20.  45.  22.  48.  21.  24.\n",
            " 57.  44.  41.  29.  47.  46.  36.  75.5 27.  18.  33.  55.  61.  70.\n",
            " 64.  71.  66.  51.  58.  26.  17.  60.  75.  65.  62.  63.  67.  74.\n",
            " 72.  69.  68.  73. ]\n",
            "education [4 1 0 5 2 3 7 6]\n",
            "sex [1 0]\n",
            "hours-per-week [40.  32.5 45.  50.  52.5 35.  52.  44.  43.  38.  48.  41.  36.  46.\n",
            " 42.  34.  33.  47.  37.  39.  49.  51. ]\n",
            "income [0 1]\n",
            "net_capital [ 2174     0 14084  5178 -2042 -1408 -1902  5013  2407 14344 15024  7688\n",
            " -1887  4064 -1719 -1762  4386 -1564 -2179 -1816 -1980 -1977  7298 -1876\n",
            " -1340 -2206  1409  3674 -1741  1055 -1485  2050 -2339 -2415  2176   594\n",
            " -1380 20051  6849  4101  8614  3411 -1721  2597 25236 -2051  4650 -2377\n",
            " -1669 -2352  2463  3103 -1672  -653 10605 -2392  2964  3325 -1504  2580\n",
            "  3471 -1590 -1651  4865 99999  6514 -1628  1471  2329 -1848  2105 -2001\n",
            "  2885 10520 -1740  2202 -2002  2961 27828  6767  2228 -1579  1506 13550\n",
            "  2635 -2258  5556 -1602  4787  3781  3137 -2547  3818   914   401  2829\n",
            "  2977  4934 -2205 -1726 -2444  2062 -1138 -2238  2354  3464  5455 15020\n",
            "  1424  -625  3273 22040  -213  4416 10566  4931 -1539  -880  7430 34095\n",
            "  6497  3908   114 -1668  2346 -1092 -1594 -2231 -1844  -810 -2824  2907\n",
            "  1151 -2559  9386  2414  2290  3418 -2057 15831 -1573 41310  4508 -1974\n",
            "  2538  -974 -2174  3456 -2149 -1735 -1258  1848  3887 -2603 -2282  -323\n",
            "  7896  5721  9562  6418  1455  2036  3942  1831 -2246 -1617 -1648 11678\n",
            "  2936 -1825  2993  7443 -3770  6360 -1755 -3683  4687  1797 -2129  6723\n",
            "  2009 -4356 -2267 -2080  3432  6097  1639 -2457  2653 18481 25124  -419\n",
            "  -155 -3900 -2201 -1944  7978 -2467   991 -2754  1173  2387 -2472 -3004\n",
            "  5060 -1411  1086 -1429  1264 -3175  7262 -1870 -1911  1731 -1510 -1421\n",
            " -2163]\n",
            "is_overtime [0 1]\n",
            "family_size [0 1]\n",
            "is_self_employed [0 1]\n",
            "marital-status_Married-civ-spouse [False  True]\n",
            "marital-status_Never-married [ True False]\n",
            "marital-status_Other [False  True]\n",
            "relationship_Not-in-family [ True False]\n",
            "relationship_Other-relative [False  True]\n",
            "relationship_Own-child [False  True]\n",
            "relationship_Unmarried [False  True]\n",
            "relationship_Wife [False  True]\n",
            "race_Asian-Pac-Islander [False  True]\n",
            "race_Black [False  True]\n",
            "race_Other [False  True]\n",
            "race_White [ True False]\n",
            "native-country_mean_enc [0.25302722 0.2556391  0.13592233 0.42176871 0.05204873 0.11428571\n",
            " 0.10526316 0.39495798 0.36809816 0.30051813 0.39285714 0.29681979\n",
            " 0.19753086 0.04878049 0.34615385 0.17241379 0.13953488 0.0952381\n",
            " 0.45454545 0.13043478 0.19354839 0.05154639 0.07482993 0.44444444\n",
            " 0.03488372 0.33       0.31858407 0.17821782 0.34831461 0.34782609\n",
            " 0.08888889 0.04545455 0.1        0.07692308 0.36734694 0.0625\n",
            " 0.08433735 0.28571429 0.27777778 0.33333333 0.        ]\n",
            "occupation_mean_enc [0.13646209 0.47911096 0.0659824  0.45006658 0.04076539 0.26904586\n",
            " 0.20639033 0.11621622 0.12289562 0.28943662 0.22508306 0.31454918\n",
            " 0.28571429 0.01293103]\n"
          ]
        }
      ]
    },
    {
      "cell_type": "code",
      "source": [
        "df.info()"
      ],
      "metadata": {
        "colab": {
          "base_uri": "https://localhost:8080/"
        },
        "id": "fozWZoYOyp8o",
        "outputId": "71441644-c3e1-4e9d-e861-ead7cb5c3afd"
      },
      "execution_count": 177,
      "outputs": [
        {
          "output_type": "stream",
          "name": "stdout",
          "text": [
            "<class 'pandas.core.frame.DataFrame'>\n",
            "RangeIndex: 48842 entries, 0 to 48841\n",
            "Data columns (total 15 columns):\n",
            " #   Column          Non-Null Count  Dtype \n",
            "---  ------          --------------  ----- \n",
            " 0   age             48842 non-null  int64 \n",
            " 1   workclass       48842 non-null  object\n",
            " 2   fnlwgt          48842 non-null  int64 \n",
            " 3   education       48842 non-null  object\n",
            " 4   education-num   48842 non-null  int64 \n",
            " 5   marital-status  48842 non-null  object\n",
            " 6   occupation      48842 non-null  object\n",
            " 7   relationship    48842 non-null  object\n",
            " 8   race            48842 non-null  object\n",
            " 9   sex             48842 non-null  object\n",
            " 10  capital-gain    48842 non-null  int64 \n",
            " 11  capital-loss    48842 non-null  int64 \n",
            " 12  hours-per-week  48842 non-null  int64 \n",
            " 13  native-country  48842 non-null  object\n",
            " 14  income          48842 non-null  object\n",
            "dtypes: int64(6), object(9)\n",
            "memory usage: 5.6+ MB\n"
          ]
        }
      ]
    },
    {
      "cell_type": "markdown",
      "source": [
        "#Model Training"
      ],
      "metadata": {
        "id": "IIPBD23J4QP0"
      }
    },
    {
      "cell_type": "code",
      "source": [
        "# Pisahkan fitur dan target\n",
        "X = df.drop(['income'],axis = 1)\n",
        "y = df['income']\n",
        "\n",
        "#Data Splitting\n",
        "X_train, X_test, y_train, y_test = train_test_split(X, y, test_size=0.2, random_state=42, stratify=y)"
      ],
      "metadata": {
        "id": "R3Mn_5Na4J0-"
      },
      "execution_count": 146,
      "outputs": []
    },
    {
      "cell_type": "code",
      "source": [
        "# Menampilkan ukuran dataset\n",
        "print(f\"Shape of X_train: {X_train.shape}\")\n",
        "print(f\"Shape of X_test: {X_test.shape}\")"
      ],
      "metadata": {
        "colab": {
          "base_uri": "https://localhost:8080/"
        },
        "id": "kcTmRl6m4k5X",
        "outputId": "67256cce-877e-4398-a049-21f4f101e9b1"
      },
      "execution_count": 147,
      "outputs": [
        {
          "output_type": "stream",
          "name": "stdout",
          "text": [
            "Shape of X_train: (36177, 22)\n",
            "Shape of X_test: (9045, 22)\n"
          ]
        }
      ]
    },
    {
      "cell_type": "code",
      "source": [
        "df.info()"
      ],
      "metadata": {
        "colab": {
          "base_uri": "https://localhost:8080/"
        },
        "id": "cfccSlLb5Mg3",
        "outputId": "cfaa387b-b3b2-4c8d-9349-261a7499088f"
      },
      "execution_count": 148,
      "outputs": [
        {
          "output_type": "stream",
          "name": "stdout",
          "text": [
            "<class 'pandas.core.frame.DataFrame'>\n",
            "Index: 45222 entries, 0 to 48841\n",
            "Data columns (total 23 columns):\n",
            " #   Column                             Non-Null Count  Dtype  \n",
            "---  ------                             --------------  -----  \n",
            " 0   age                                45222 non-null  float64\n",
            " 1   education                          45222 non-null  int8   \n",
            " 2   sex                                45222 non-null  int64  \n",
            " 3   hours-per-week                     45222 non-null  float64\n",
            " 4   income                             45222 non-null  int64  \n",
            " 5   net_capital                        45222 non-null  int64  \n",
            " 6   is_overtime                        45222 non-null  int64  \n",
            " 7   family_size                        45222 non-null  int64  \n",
            " 8   is_self_employed                   45222 non-null  int64  \n",
            " 9   marital-status_Married-civ-spouse  45222 non-null  bool   \n",
            " 10  marital-status_Never-married       45222 non-null  bool   \n",
            " 11  marital-status_Other               45222 non-null  bool   \n",
            " 12  relationship_Not-in-family         45222 non-null  bool   \n",
            " 13  relationship_Other-relative        45222 non-null  bool   \n",
            " 14  relationship_Own-child             45222 non-null  bool   \n",
            " 15  relationship_Unmarried             45222 non-null  bool   \n",
            " 16  relationship_Wife                  45222 non-null  bool   \n",
            " 17  race_Asian-Pac-Islander            45222 non-null  bool   \n",
            " 18  race_Black                         45222 non-null  bool   \n",
            " 19  race_Other                         45222 non-null  bool   \n",
            " 20  race_White                         45222 non-null  bool   \n",
            " 21  native-country_mean_enc            45222 non-null  float64\n",
            " 22  occupation_mean_enc                45222 non-null  float64\n",
            "dtypes: bool(12), float64(4), int64(6), int8(1)\n",
            "memory usage: 4.4 MB\n"
          ]
        }
      ]
    },
    {
      "cell_type": "markdown",
      "source": [
        "#SMOTE"
      ],
      "metadata": {
        "id": "l0PFDbmA4tbl"
      }
    },
    {
      "cell_type": "code",
      "source": [
        "from imblearn.pipeline import Pipeline as ImbPipeline\n",
        "from imblearn.over_sampling import SMOTE\n",
        "from sklearn.model_selection import cross_validate\n",
        "from sklearn.compose import ColumnTransformer\n",
        "from sklearn.preprocessing import StandardScaler\n",
        "from sklearn.metrics import precision_score, recall_score, f1_score, accuracy_score\n",
        "from sklearn.tree import DecisionTreeClassifier\n",
        "from sklearn.ensemble import RandomForestClassifier\n",
        "from xgboost import XGBClassifier\n",
        "from sklearn.linear_model import LogisticRegression\n",
        "from sklearn.naive_bayes import GaussianNB  # Tambahkan ini\n",
        "import pandas as pd\n",
        "\n",
        "# Function to create pipeline with SMOTE\n",
        "def create_pipeline_smote(model, col):\n",
        "    processor = ColumnTransformer(\n",
        "        transformers=[('columns', StandardScaler(), col)]\n",
        "    )\n",
        "    pipeline_smote = ImbPipeline(steps=[\n",
        "        ('preprocessor', processor),\n",
        "        ('smote', SMOTE(random_state=42)),\n",
        "        ('classifier', model)\n",
        "    ])\n",
        "    return pipeline_smote\n",
        "\n",
        "# Function to evaluate models\n",
        "def metric_smote(X_train, y_train, X_test, y_test, col):\n",
        "    models = {\n",
        "        'Decision Tree': DecisionTreeClassifier(random_state=42),\n",
        "        'Random Forest': RandomForestClassifier(random_state=42),\n",
        "        'XGBOOST': XGBClassifier(random_state=42, use_label_encoder=False, eval_metric='logloss'),\n",
        "        'Naive Bayes': GaussianNB(),  # Ganti dari LightGBM ke Naive Bayes\n",
        "        'Logistic Regression': LogisticRegression(random_state=42, max_iter=1000)\n",
        "    }\n",
        "\n",
        "    results = []\n",
        "    for name, model in models.items():\n",
        "        pipeline_smote = create_pipeline_smote(model, col)\n",
        "\n",
        "        scoring = {'precision': 'precision',\n",
        "                   'recall': 'recall',\n",
        "                   'f1': 'f1',\n",
        "                   'accuracy': 'accuracy'}\n",
        "\n",
        "        crossvalidation = cross_validate(pipeline_smote, X_train, y_train, cv=5, scoring=scoring)\n",
        "\n",
        "        train_precision = crossvalidation['test_precision'].mean()\n",
        "        train_recall = crossvalidation['test_recall'].mean()\n",
        "        train_f1 = crossvalidation['test_f1'].mean()\n",
        "        train_accuracy = crossvalidation['test_accuracy'].mean()\n",
        "\n",
        "        pipeline_smote.fit(X_train, y_train)\n",
        "        y_test_pred = pipeline_smote.predict(X_test)\n",
        "        test_precision = precision_score(y_test, y_test_pred)\n",
        "        test_recall = recall_score(y_test, y_test_pred)\n",
        "        test_f1 = f1_score(y_test, y_test_pred)\n",
        "        test_accuracy = accuracy_score(y_test, y_test_pred)\n",
        "\n",
        "        results.append({\n",
        "            'Model_SMOTE': name,\n",
        "            'Train Precision': train_precision,\n",
        "            'Train Recall': train_recall,\n",
        "            'Train F1': train_f1,\n",
        "            'Train Accuracy': train_accuracy,\n",
        "            'Test Precision': test_precision,\n",
        "            'Test Recall': test_recall,\n",
        "            'Test F1': test_f1,\n",
        "            'Test Accuracy': test_accuracy\n",
        "        })\n",
        "\n",
        "    result_metrics_smote = pd.DataFrame(results)\n",
        "    result_metrics_smote = result_metrics_smote.sort_values(by=['Test F1'], ascending=False)\n",
        "    return result_metrics_smote\n",
        "\n",
        "# Jalankan fungsinya\n",
        "num_cols = X_train.select_dtypes(include=['int64', 'float64']).columns\n",
        "result_metrics_smote = metric_smote(X_train, y_train, X_test, y_test, num_cols)\n",
        "\n",
        "# Tampilkan hasil\n",
        "result_metrics_smote\n"
      ],
      "metadata": {
        "colab": {
          "base_uri": "https://localhost:8080/",
          "height": 241
        },
        "id": "ne6VojUc9pnK",
        "outputId": "951db78a-ca87-4f05-da94-947b72970873"
      },
      "execution_count": 149,
      "outputs": [
        {
          "output_type": "execute_result",
          "data": {
            "text/plain": [
              "           Model_SMOTE  Train Precision  Train Recall  Train F1  \\\n",
              "2              XGBOOST         0.642642      0.781284  0.705192   \n",
              "1        Random Forest         0.619106      0.689717  0.652470   \n",
              "4  Logistic Regression         0.537895      0.824561  0.651045   \n",
              "0        Decision Tree         0.609907      0.645551  0.627184   \n",
              "3          Naive Bayes         0.610697      0.580415  0.595136   \n",
              "\n",
              "   Train Accuracy  Test Precision  Test Recall   Test F1  Test Accuracy  \n",
              "2        0.838102        0.628582     0.782783  0.697259       0.831509  \n",
              "1        0.817923        0.612310     0.683318  0.645868       0.814262  \n",
              "4        0.780938        0.531407     0.803747  0.639801       0.775677  \n",
              "0        0.809824        0.617102     0.653434  0.634749       0.813599  \n",
              "3        0.804268        0.599620     0.562444  0.580437       0.798452  "
            ],
            "text/html": [
              "\n",
              "  <div id=\"df-63e4af70-8b7c-441f-9682-71fb3edd5219\" class=\"colab-df-container\">\n",
              "    <div>\n",
              "<style scoped>\n",
              "    .dataframe tbody tr th:only-of-type {\n",
              "        vertical-align: middle;\n",
              "    }\n",
              "\n",
              "    .dataframe tbody tr th {\n",
              "        vertical-align: top;\n",
              "    }\n",
              "\n",
              "    .dataframe thead th {\n",
              "        text-align: right;\n",
              "    }\n",
              "</style>\n",
              "<table border=\"1\" class=\"dataframe\">\n",
              "  <thead>\n",
              "    <tr style=\"text-align: right;\">\n",
              "      <th></th>\n",
              "      <th>Model_SMOTE</th>\n",
              "      <th>Train Precision</th>\n",
              "      <th>Train Recall</th>\n",
              "      <th>Train F1</th>\n",
              "      <th>Train Accuracy</th>\n",
              "      <th>Test Precision</th>\n",
              "      <th>Test Recall</th>\n",
              "      <th>Test F1</th>\n",
              "      <th>Test Accuracy</th>\n",
              "    </tr>\n",
              "  </thead>\n",
              "  <tbody>\n",
              "    <tr>\n",
              "      <th>2</th>\n",
              "      <td>XGBOOST</td>\n",
              "      <td>0.642642</td>\n",
              "      <td>0.781284</td>\n",
              "      <td>0.705192</td>\n",
              "      <td>0.838102</td>\n",
              "      <td>0.628582</td>\n",
              "      <td>0.782783</td>\n",
              "      <td>0.697259</td>\n",
              "      <td>0.831509</td>\n",
              "    </tr>\n",
              "    <tr>\n",
              "      <th>1</th>\n",
              "      <td>Random Forest</td>\n",
              "      <td>0.619106</td>\n",
              "      <td>0.689717</td>\n",
              "      <td>0.652470</td>\n",
              "      <td>0.817923</td>\n",
              "      <td>0.612310</td>\n",
              "      <td>0.683318</td>\n",
              "      <td>0.645868</td>\n",
              "      <td>0.814262</td>\n",
              "    </tr>\n",
              "    <tr>\n",
              "      <th>4</th>\n",
              "      <td>Logistic Regression</td>\n",
              "      <td>0.537895</td>\n",
              "      <td>0.824561</td>\n",
              "      <td>0.651045</td>\n",
              "      <td>0.780938</td>\n",
              "      <td>0.531407</td>\n",
              "      <td>0.803747</td>\n",
              "      <td>0.639801</td>\n",
              "      <td>0.775677</td>\n",
              "    </tr>\n",
              "    <tr>\n",
              "      <th>0</th>\n",
              "      <td>Decision Tree</td>\n",
              "      <td>0.609907</td>\n",
              "      <td>0.645551</td>\n",
              "      <td>0.627184</td>\n",
              "      <td>0.809824</td>\n",
              "      <td>0.617102</td>\n",
              "      <td>0.653434</td>\n",
              "      <td>0.634749</td>\n",
              "      <td>0.813599</td>\n",
              "    </tr>\n",
              "    <tr>\n",
              "      <th>3</th>\n",
              "      <td>Naive Bayes</td>\n",
              "      <td>0.610697</td>\n",
              "      <td>0.580415</td>\n",
              "      <td>0.595136</td>\n",
              "      <td>0.804268</td>\n",
              "      <td>0.599620</td>\n",
              "      <td>0.562444</td>\n",
              "      <td>0.580437</td>\n",
              "      <td>0.798452</td>\n",
              "    </tr>\n",
              "  </tbody>\n",
              "</table>\n",
              "</div>\n",
              "    <div class=\"colab-df-buttons\">\n",
              "\n",
              "  <div class=\"colab-df-container\">\n",
              "    <button class=\"colab-df-convert\" onclick=\"convertToInteractive('df-63e4af70-8b7c-441f-9682-71fb3edd5219')\"\n",
              "            title=\"Convert this dataframe to an interactive table.\"\n",
              "            style=\"display:none;\">\n",
              "\n",
              "  <svg xmlns=\"http://www.w3.org/2000/svg\" height=\"24px\" viewBox=\"0 -960 960 960\">\n",
              "    <path d=\"M120-120v-720h720v720H120Zm60-500h600v-160H180v160Zm220 220h160v-160H400v160Zm0 220h160v-160H400v160ZM180-400h160v-160H180v160Zm440 0h160v-160H620v160ZM180-180h160v-160H180v160Zm440 0h160v-160H620v160Z\"/>\n",
              "  </svg>\n",
              "    </button>\n",
              "\n",
              "  <style>\n",
              "    .colab-df-container {\n",
              "      display:flex;\n",
              "      gap: 12px;\n",
              "    }\n",
              "\n",
              "    .colab-df-convert {\n",
              "      background-color: #E8F0FE;\n",
              "      border: none;\n",
              "      border-radius: 50%;\n",
              "      cursor: pointer;\n",
              "      display: none;\n",
              "      fill: #1967D2;\n",
              "      height: 32px;\n",
              "      padding: 0 0 0 0;\n",
              "      width: 32px;\n",
              "    }\n",
              "\n",
              "    .colab-df-convert:hover {\n",
              "      background-color: #E2EBFA;\n",
              "      box-shadow: 0px 1px 2px rgba(60, 64, 67, 0.3), 0px 1px 3px 1px rgba(60, 64, 67, 0.15);\n",
              "      fill: #174EA6;\n",
              "    }\n",
              "\n",
              "    .colab-df-buttons div {\n",
              "      margin-bottom: 4px;\n",
              "    }\n",
              "\n",
              "    [theme=dark] .colab-df-convert {\n",
              "      background-color: #3B4455;\n",
              "      fill: #D2E3FC;\n",
              "    }\n",
              "\n",
              "    [theme=dark] .colab-df-convert:hover {\n",
              "      background-color: #434B5C;\n",
              "      box-shadow: 0px 1px 3px 1px rgba(0, 0, 0, 0.15);\n",
              "      filter: drop-shadow(0px 1px 2px rgba(0, 0, 0, 0.3));\n",
              "      fill: #FFFFFF;\n",
              "    }\n",
              "  </style>\n",
              "\n",
              "    <script>\n",
              "      const buttonEl =\n",
              "        document.querySelector('#df-63e4af70-8b7c-441f-9682-71fb3edd5219 button.colab-df-convert');\n",
              "      buttonEl.style.display =\n",
              "        google.colab.kernel.accessAllowed ? 'block' : 'none';\n",
              "\n",
              "      async function convertToInteractive(key) {\n",
              "        const element = document.querySelector('#df-63e4af70-8b7c-441f-9682-71fb3edd5219');\n",
              "        const dataTable =\n",
              "          await google.colab.kernel.invokeFunction('convertToInteractive',\n",
              "                                                    [key], {});\n",
              "        if (!dataTable) return;\n",
              "\n",
              "        const docLinkHtml = 'Like what you see? Visit the ' +\n",
              "          '<a target=\"_blank\" href=https://colab.research.google.com/notebooks/data_table.ipynb>data table notebook</a>'\n",
              "          + ' to learn more about interactive tables.';\n",
              "        element.innerHTML = '';\n",
              "        dataTable['output_type'] = 'display_data';\n",
              "        await google.colab.output.renderOutput(dataTable, element);\n",
              "        const docLink = document.createElement('div');\n",
              "        docLink.innerHTML = docLinkHtml;\n",
              "        element.appendChild(docLink);\n",
              "      }\n",
              "    </script>\n",
              "  </div>\n",
              "\n",
              "\n",
              "    <div id=\"df-f4e17c06-396d-4dc5-a352-05eacac53485\">\n",
              "      <button class=\"colab-df-quickchart\" onclick=\"quickchart('df-f4e17c06-396d-4dc5-a352-05eacac53485')\"\n",
              "                title=\"Suggest charts\"\n",
              "                style=\"display:none;\">\n",
              "\n",
              "<svg xmlns=\"http://www.w3.org/2000/svg\" height=\"24px\"viewBox=\"0 0 24 24\"\n",
              "     width=\"24px\">\n",
              "    <g>\n",
              "        <path d=\"M19 3H5c-1.1 0-2 .9-2 2v14c0 1.1.9 2 2 2h14c1.1 0 2-.9 2-2V5c0-1.1-.9-2-2-2zM9 17H7v-7h2v7zm4 0h-2V7h2v10zm4 0h-2v-4h2v4z\"/>\n",
              "    </g>\n",
              "</svg>\n",
              "      </button>\n",
              "\n",
              "<style>\n",
              "  .colab-df-quickchart {\n",
              "      --bg-color: #E8F0FE;\n",
              "      --fill-color: #1967D2;\n",
              "      --hover-bg-color: #E2EBFA;\n",
              "      --hover-fill-color: #174EA6;\n",
              "      --disabled-fill-color: #AAA;\n",
              "      --disabled-bg-color: #DDD;\n",
              "  }\n",
              "\n",
              "  [theme=dark] .colab-df-quickchart {\n",
              "      --bg-color: #3B4455;\n",
              "      --fill-color: #D2E3FC;\n",
              "      --hover-bg-color: #434B5C;\n",
              "      --hover-fill-color: #FFFFFF;\n",
              "      --disabled-bg-color: #3B4455;\n",
              "      --disabled-fill-color: #666;\n",
              "  }\n",
              "\n",
              "  .colab-df-quickchart {\n",
              "    background-color: var(--bg-color);\n",
              "    border: none;\n",
              "    border-radius: 50%;\n",
              "    cursor: pointer;\n",
              "    display: none;\n",
              "    fill: var(--fill-color);\n",
              "    height: 32px;\n",
              "    padding: 0;\n",
              "    width: 32px;\n",
              "  }\n",
              "\n",
              "  .colab-df-quickchart:hover {\n",
              "    background-color: var(--hover-bg-color);\n",
              "    box-shadow: 0 1px 2px rgba(60, 64, 67, 0.3), 0 1px 3px 1px rgba(60, 64, 67, 0.15);\n",
              "    fill: var(--button-hover-fill-color);\n",
              "  }\n",
              "\n",
              "  .colab-df-quickchart-complete:disabled,\n",
              "  .colab-df-quickchart-complete:disabled:hover {\n",
              "    background-color: var(--disabled-bg-color);\n",
              "    fill: var(--disabled-fill-color);\n",
              "    box-shadow: none;\n",
              "  }\n",
              "\n",
              "  .colab-df-spinner {\n",
              "    border: 2px solid var(--fill-color);\n",
              "    border-color: transparent;\n",
              "    border-bottom-color: var(--fill-color);\n",
              "    animation:\n",
              "      spin 1s steps(1) infinite;\n",
              "  }\n",
              "\n",
              "  @keyframes spin {\n",
              "    0% {\n",
              "      border-color: transparent;\n",
              "      border-bottom-color: var(--fill-color);\n",
              "      border-left-color: var(--fill-color);\n",
              "    }\n",
              "    20% {\n",
              "      border-color: transparent;\n",
              "      border-left-color: var(--fill-color);\n",
              "      border-top-color: var(--fill-color);\n",
              "    }\n",
              "    30% {\n",
              "      border-color: transparent;\n",
              "      border-left-color: var(--fill-color);\n",
              "      border-top-color: var(--fill-color);\n",
              "      border-right-color: var(--fill-color);\n",
              "    }\n",
              "    40% {\n",
              "      border-color: transparent;\n",
              "      border-right-color: var(--fill-color);\n",
              "      border-top-color: var(--fill-color);\n",
              "    }\n",
              "    60% {\n",
              "      border-color: transparent;\n",
              "      border-right-color: var(--fill-color);\n",
              "    }\n",
              "    80% {\n",
              "      border-color: transparent;\n",
              "      border-right-color: var(--fill-color);\n",
              "      border-bottom-color: var(--fill-color);\n",
              "    }\n",
              "    90% {\n",
              "      border-color: transparent;\n",
              "      border-bottom-color: var(--fill-color);\n",
              "    }\n",
              "  }\n",
              "</style>\n",
              "\n",
              "      <script>\n",
              "        async function quickchart(key) {\n",
              "          const quickchartButtonEl =\n",
              "            document.querySelector('#' + key + ' button');\n",
              "          quickchartButtonEl.disabled = true;  // To prevent multiple clicks.\n",
              "          quickchartButtonEl.classList.add('colab-df-spinner');\n",
              "          try {\n",
              "            const charts = await google.colab.kernel.invokeFunction(\n",
              "                'suggestCharts', [key], {});\n",
              "          } catch (error) {\n",
              "            console.error('Error during call to suggestCharts:', error);\n",
              "          }\n",
              "          quickchartButtonEl.classList.remove('colab-df-spinner');\n",
              "          quickchartButtonEl.classList.add('colab-df-quickchart-complete');\n",
              "        }\n",
              "        (() => {\n",
              "          let quickchartButtonEl =\n",
              "            document.querySelector('#df-f4e17c06-396d-4dc5-a352-05eacac53485 button');\n",
              "          quickchartButtonEl.style.display =\n",
              "            google.colab.kernel.accessAllowed ? 'block' : 'none';\n",
              "        })();\n",
              "      </script>\n",
              "    </div>\n",
              "\n",
              "  <div id=\"id_4ece31e3-b249-4ad3-a95e-d42b94aba4ac\">\n",
              "    <style>\n",
              "      .colab-df-generate {\n",
              "        background-color: #E8F0FE;\n",
              "        border: none;\n",
              "        border-radius: 50%;\n",
              "        cursor: pointer;\n",
              "        display: none;\n",
              "        fill: #1967D2;\n",
              "        height: 32px;\n",
              "        padding: 0 0 0 0;\n",
              "        width: 32px;\n",
              "      }\n",
              "\n",
              "      .colab-df-generate:hover {\n",
              "        background-color: #E2EBFA;\n",
              "        box-shadow: 0px 1px 2px rgba(60, 64, 67, 0.3), 0px 1px 3px 1px rgba(60, 64, 67, 0.15);\n",
              "        fill: #174EA6;\n",
              "      }\n",
              "\n",
              "      [theme=dark] .colab-df-generate {\n",
              "        background-color: #3B4455;\n",
              "        fill: #D2E3FC;\n",
              "      }\n",
              "\n",
              "      [theme=dark] .colab-df-generate:hover {\n",
              "        background-color: #434B5C;\n",
              "        box-shadow: 0px 1px 3px 1px rgba(0, 0, 0, 0.15);\n",
              "        filter: drop-shadow(0px 1px 2px rgba(0, 0, 0, 0.3));\n",
              "        fill: #FFFFFF;\n",
              "      }\n",
              "    </style>\n",
              "    <button class=\"colab-df-generate\" onclick=\"generateWithVariable('result_metrics_smote')\"\n",
              "            title=\"Generate code using this dataframe.\"\n",
              "            style=\"display:none;\">\n",
              "\n",
              "  <svg xmlns=\"http://www.w3.org/2000/svg\" height=\"24px\"viewBox=\"0 0 24 24\"\n",
              "       width=\"24px\">\n",
              "    <path d=\"M7,19H8.4L18.45,9,17,7.55,7,17.6ZM5,21V16.75L18.45,3.32a2,2,0,0,1,2.83,0l1.4,1.43a1.91,1.91,0,0,1,.58,1.4,1.91,1.91,0,0,1-.58,1.4L9.25,21ZM18.45,9,17,7.55Zm-12,3A5.31,5.31,0,0,0,4.9,8.1,5.31,5.31,0,0,0,1,6.5,5.31,5.31,0,0,0,4.9,4.9,5.31,5.31,0,0,0,6.5,1,5.31,5.31,0,0,0,8.1,4.9,5.31,5.31,0,0,0,12,6.5,5.46,5.46,0,0,0,6.5,12Z\"/>\n",
              "  </svg>\n",
              "    </button>\n",
              "    <script>\n",
              "      (() => {\n",
              "      const buttonEl =\n",
              "        document.querySelector('#id_4ece31e3-b249-4ad3-a95e-d42b94aba4ac button.colab-df-generate');\n",
              "      buttonEl.style.display =\n",
              "        google.colab.kernel.accessAllowed ? 'block' : 'none';\n",
              "\n",
              "      buttonEl.onclick = () => {\n",
              "        google.colab.notebook.generateWithVariable('result_metrics_smote');\n",
              "      }\n",
              "      })();\n",
              "    </script>\n",
              "  </div>\n",
              "\n",
              "    </div>\n",
              "  </div>\n"
            ],
            "application/vnd.google.colaboratory.intrinsic+json": {
              "type": "dataframe",
              "variable_name": "result_metrics_smote",
              "summary": "{\n  \"name\": \"result_metrics_smote\",\n  \"rows\": 5,\n  \"fields\": [\n    {\n      \"column\": \"Model_SMOTE\",\n      \"properties\": {\n        \"dtype\": \"string\",\n        \"num_unique_values\": 5,\n        \"samples\": [\n          \"Random Forest\",\n          \"Naive Bayes\",\n          \"Logistic Regression\"\n        ],\n        \"semantic_type\": \"\",\n        \"description\": \"\"\n      }\n    },\n    {\n      \"column\": \"Train Precision\",\n      \"properties\": {\n        \"dtype\": \"number\",\n        \"std\": 0.039277959609897814,\n        \"min\": 0.5378945364653631,\n        \"max\": 0.642641754301654,\n        \"num_unique_values\": 5,\n        \"samples\": [\n          0.6191056756413827,\n          0.6106968006294755,\n          0.5378945364653631\n        ],\n        \"semantic_type\": \"\",\n        \"description\": \"\"\n      }\n    },\n    {\n      \"column\": \"Train Recall\",\n      \"properties\": {\n        \"dtype\": \"number\",\n        \"std\": 0.09924814683213942,\n        \"min\": 0.5804146062881725,\n        \"max\": 0.8245605821225986,\n        \"num_unique_values\": 5,\n        \"samples\": [\n          0.6897172890237708,\n          0.5804146062881725,\n          0.8245605821225986\n        ],\n        \"semantic_type\": \"\",\n        \"description\": \"\"\n      }\n    },\n    {\n      \"column\": \"Train F1\",\n      \"properties\": {\n        \"dtype\": \"number\",\n        \"std\": 0.040348468285644846,\n        \"min\": 0.5951359061895318,\n        \"max\": 0.7051921825635779,\n        \"num_unique_values\": 5,\n        \"samples\": [\n          0.6524695304153909,\n          0.5951359061895318,\n          0.6510447275713073\n        ],\n        \"semantic_type\": \"\",\n        \"description\": \"\"\n      }\n    },\n    {\n      \"column\": \"Train Accuracy\",\n      \"properties\": {\n        \"dtype\": \"number\",\n        \"std\": 0.02079497633394139,\n        \"min\": 0.7809382137916728,\n        \"max\": 0.8381015982821056,\n        \"num_unique_values\": 5,\n        \"samples\": [\n          0.817922936190582,\n          0.8042680286657017,\n          0.7809382137916728\n        ],\n        \"semantic_type\": \"\",\n        \"description\": \"\"\n      }\n    },\n    {\n      \"column\": \"Test Precision\",\n      \"properties\": {\n        \"dtype\": \"number\",\n        \"std\": 0.03854220354820692,\n        \"min\": 0.5314066647006782,\n        \"max\": 0.6285816618911175,\n        \"num_unique_values\": 5,\n        \"samples\": [\n          0.6123101518784972,\n          0.5996195910603899,\n          0.5314066647006782\n        ],\n        \"semantic_type\": \"\",\n        \"description\": \"\"\n      }\n    },\n    {\n      \"column\": \"Test Recall\",\n      \"properties\": {\n        \"dtype\": \"number\",\n        \"std\": 0.09867104293328358,\n        \"min\": 0.5624442462087422,\n        \"max\": 0.8037466547725245,\n        \"num_unique_values\": 5,\n        \"samples\": [\n          0.6833184656556646,\n          0.5624442462087422,\n          0.8037466547725245\n        ],\n        \"semantic_type\": \"\",\n        \"description\": \"\"\n      }\n    },\n    {\n      \"column\": \"Test F1\",\n      \"properties\": {\n        \"dtype\": \"number\",\n        \"std\": 0.04149582049439855,\n        \"min\": 0.5804372842347526,\n        \"max\": 0.6972586412395709,\n        \"num_unique_values\": 5,\n        \"samples\": [\n          0.6458684654300169,\n          0.5804372842347526,\n          0.6398011716669625\n        ],\n        \"semantic_type\": \"\",\n        \"description\": \"\"\n      }\n    },\n    {\n      \"column\": \"Test Accuracy\",\n      \"properties\": {\n        \"dtype\": \"number\",\n        \"std\": 0.02092074838588913,\n        \"min\": 0.7756771697070205,\n        \"max\": 0.8315091210613599,\n        \"num_unique_values\": 5,\n        \"samples\": [\n          0.814262023217247,\n          0.7984521835268104,\n          0.7756771697070205\n        ],\n        \"semantic_type\": \"\",\n        \"description\": \"\"\n      }\n    }\n  ]\n}"
            }
          },
          "metadata": {},
          "execution_count": 149
        }
      ]
    },
    {
      "cell_type": "markdown",
      "source": [
        "model terbaiknya adalah XGBOOST karna memiliki test F1 0.69 paling tertinggi diantara model lainnya"
      ],
      "metadata": {
        "id": "lSDWa5TtnIwz"
      }
    },
    {
      "cell_type": "markdown",
      "source": [
        "#Hypertuning Parameters"
      ],
      "metadata": {
        "id": "EpfbdwoA-KTH"
      }
    },
    {
      "cell_type": "code",
      "source": [
        "!pip install optuna"
      ],
      "metadata": {
        "colab": {
          "base_uri": "https://localhost:8080/"
        },
        "id": "-MfYhsx--Mf-",
        "outputId": "bd3b0269-12e2-4f11-af42-7782c999328c"
      },
      "execution_count": 150,
      "outputs": [
        {
          "output_type": "stream",
          "name": "stdout",
          "text": [
            "Requirement already satisfied: optuna in /usr/local/lib/python3.11/dist-packages (4.4.0)\n",
            "Requirement already satisfied: alembic>=1.5.0 in /usr/local/lib/python3.11/dist-packages (from optuna) (1.16.2)\n",
            "Requirement already satisfied: colorlog in /usr/local/lib/python3.11/dist-packages (from optuna) (6.9.0)\n",
            "Requirement already satisfied: numpy in /usr/local/lib/python3.11/dist-packages (from optuna) (2.0.2)\n",
            "Requirement already satisfied: packaging>=20.0 in /usr/local/lib/python3.11/dist-packages (from optuna) (24.2)\n",
            "Requirement already satisfied: sqlalchemy>=1.4.2 in /usr/local/lib/python3.11/dist-packages (from optuna) (2.0.41)\n",
            "Requirement already satisfied: tqdm in /usr/local/lib/python3.11/dist-packages (from optuna) (4.67.1)\n",
            "Requirement already satisfied: PyYAML in /usr/local/lib/python3.11/dist-packages (from optuna) (6.0.2)\n",
            "Requirement already satisfied: Mako in /usr/lib/python3/dist-packages (from alembic>=1.5.0->optuna) (1.1.3)\n",
            "Requirement already satisfied: typing-extensions>=4.12 in /usr/local/lib/python3.11/dist-packages (from alembic>=1.5.0->optuna) (4.14.0)\n",
            "Requirement already satisfied: greenlet>=1 in /usr/local/lib/python3.11/dist-packages (from sqlalchemy>=1.4.2->optuna) (3.2.3)\n"
          ]
        }
      ]
    },
    {
      "cell_type": "code",
      "source": [
        "from imblearn.over_sampling import SMOTE\n",
        "from imblearn.pipeline import Pipeline as ImbPipeline\n",
        "from sklearn.preprocessing import StandardScaler\n",
        "from sklearn.linear_model import LogisticRegression\n",
        "from sklearn.tree import DecisionTreeClassifier\n",
        "from sklearn.ensemble import RandomForestClassifier\n",
        "from xgboost import XGBClassifier\n",
        "from sklearn.naive_bayes import GaussianNB  # Gantikan LightGBM\n",
        "from sklearn.model_selection import cross_val_score\n",
        "from sklearn.metrics import make_scorer, f1_score\n",
        "import optuna\n",
        "\n",
        "# Function to create pipeline with SMOTE\n",
        "def create_pipeline_with_smote(model):\n",
        "    return ImbPipeline(steps=[\n",
        "        ('smote', SMOTE(random_state=42)),\n",
        "        ('scaler', StandardScaler()),\n",
        "        ('classifier', model)\n",
        "    ])\n",
        "\n",
        "# Untuk menyimpan hasil terbaik\n",
        "best_params_permodel = {}\n",
        "best_value_permodel = {}\n",
        "\n",
        "def tuning(trial):\n",
        "    models = trial.suggest_categorical(\n",
        "        'model',\n",
        "        ['DecisionTreeClassifier', 'RandomForestClassifier', 'XGBOOST', 'NaiveBayes', 'LogisticRegression']  # Ganti 'LightGBM' dengan 'NaiveBayes'\n",
        "    )\n",
        "\n",
        "    if models == 'LogisticRegression':\n",
        "        params = {\n",
        "            'C': trial.suggest_float('C', 0.01, 10.0, log=True),\n",
        "            'max_iter': trial.suggest_int('max_iter', 100, 500)\n",
        "        }\n",
        "        model = LogisticRegression(**params, random_state=42)\n",
        "\n",
        "    elif models == 'DecisionTreeClassifier':\n",
        "        params = {\n",
        "            'max_depth': trial.suggest_int('max_depth', 3, 10),\n",
        "            'min_samples_split': trial.suggest_int('min_samples_split', 2, 10),\n",
        "            'min_samples_leaf': trial.suggest_int('min_samples_leaf', 1, 5)\n",
        "        }\n",
        "        model = DecisionTreeClassifier(**params, random_state=42)\n",
        "\n",
        "    elif models == 'RandomForestClassifier':\n",
        "        params = {\n",
        "            'n_estimators': trial.suggest_int('n_estimators', 50, 200),\n",
        "            'max_depth': trial.suggest_int('max_depth', 3, 10),\n",
        "            'min_samples_split': trial.suggest_int('min_samples_split', 2, 10)\n",
        "        }\n",
        "        model = RandomForestClassifier(**params, random_state=42)\n",
        "\n",
        "    elif models == 'XGBOOST':\n",
        "        params = {\n",
        "            'n_estimators': trial.suggest_int('n_estimators', 50, 200),\n",
        "            'learning_rate': trial.suggest_float('learning_rate', 0.01, 1.0, log=True),\n",
        "            'max_depth': trial.suggest_int('max_depth', 3, 10)\n",
        "        }\n",
        "        model = XGBClassifier(**params, use_label_encoder=False, eval_metric='logloss', random_state=42)\n",
        "\n",
        "    elif models == 'NaiveBayes':\n",
        "        params = {}  # GaussianNB tidak butuh hyperparameter\n",
        "        model = GaussianNB()\n",
        "\n",
        "    # Buat pipeline + SMOTE\n",
        "    pipeline = create_pipeline_with_smote(model)\n",
        "\n",
        "    # Evaluasi pakai F1-score CV\n",
        "    train_f1 = cross_val_score(pipeline, X_train, y_train, cv=5, scoring=make_scorer(f1_score)).mean()\n",
        "\n",
        "    # Simpan hasil terbaik per model\n",
        "    if models not in best_value_permodel or train_f1 > best_value_permodel[models]:\n",
        "        best_value_permodel[models] = train_f1\n",
        "        best_params_permodel[models] = params\n",
        "\n",
        "    return train_f1\n",
        "\n",
        "# Buat dan jalankan optimasi\n",
        "study = optuna.create_study(direction='maximize')\n",
        "study.optimize(tuning, n_trials=50)\n",
        "\n",
        "# Output hasil terbaik\n",
        "print(\"\\nBest Trial Overall:\", study.best_trial)\n",
        "print(\"\\nBest Hyperparameters per Model:\")\n",
        "for model_name, params in best_params_permodel.items():\n",
        "    print(f\"{model_name}: {params}\")\n",
        "print(\"\\nBest F1 Score per Model:\")\n",
        "for model_name, score in best_value_permodel.items():\n",
        "    print(f\"{model_name}: {score:.4f}\")\n"
      ],
      "metadata": {
        "colab": {
          "base_uri": "https://localhost:8080/"
        },
        "id": "TXDgdrV0-ThS",
        "outputId": "97372b07-7d47-4f97-d494-f2f9829471e0"
      },
      "execution_count": 151,
      "outputs": [
        {
          "output_type": "stream",
          "name": "stderr",
          "text": [
            "[I 2025-06-29 11:12:29,725] A new study created in memory with name: no-name-a56a3f4b-13c4-4677-880b-d578b790c815\n",
            "[I 2025-06-29 11:12:34,083] Trial 0 finished with value: 0.6203319606457764 and parameters: {'model': 'NaiveBayes'}. Best is trial 0 with value: 0.6203319606457764.\n",
            "[I 2025-06-29 11:12:38,888] Trial 1 finished with value: 0.6203319606457764 and parameters: {'model': 'NaiveBayes'}. Best is trial 0 with value: 0.6203319606457764.\n",
            "[I 2025-06-29 11:12:52,723] Trial 2 finished with value: 0.6700388338604079 and parameters: {'model': 'LogisticRegression', 'C': 0.08604539633686684, 'max_iter': 268}. Best is trial 2 with value: 0.6700388338604079.\n",
            "[I 2025-06-29 11:13:02,864] Trial 3 finished with value: 0.6689654774860883 and parameters: {'model': 'LogisticRegression', 'C': 0.011829220494761768, 'max_iter': 153}. Best is trial 2 with value: 0.6700388338604079.\n",
            "[I 2025-06-29 11:13:09,175] Trial 4 finished with value: 0.6835791964780618 and parameters: {'model': 'DecisionTreeClassifier', 'max_depth': 9, 'min_samples_split': 2, 'min_samples_leaf': 1}. Best is trial 4 with value: 0.6835791964780618.\n",
            "[I 2025-06-29 11:13:16,049] Trial 5 finished with value: 0.6690942889978377 and parameters: {'model': 'LogisticRegression', 'C': 0.01390367258871421, 'max_iter': 184}. Best is trial 4 with value: 0.6835791964780618.\n",
            "[I 2025-06-29 11:13:18,191] Trial 6 finished with value: 0.6203319606457764 and parameters: {'model': 'NaiveBayes'}. Best is trial 4 with value: 0.6835791964780618.\n",
            "[I 2025-06-29 11:13:20,235] Trial 7 finished with value: 0.6203319606457764 and parameters: {'model': 'NaiveBayes'}. Best is trial 4 with value: 0.6835791964780618.\n",
            "[I 2025-06-29 11:13:45,797] Trial 8 finished with value: 0.6832894022973994 and parameters: {'model': 'RandomForestClassifier', 'n_estimators': 181, 'max_depth': 8, 'min_samples_split': 7}. Best is trial 4 with value: 0.6835791964780618.\n",
            "[I 2025-06-29 11:13:47,914] Trial 9 finished with value: 0.6203319606457764 and parameters: {'model': 'NaiveBayes'}. Best is trial 4 with value: 0.6835791964780618.\n",
            "[I 2025-06-29 11:13:50,488] Trial 10 finished with value: 0.6889571771331519 and parameters: {'model': 'DecisionTreeClassifier', 'max_depth': 10, 'min_samples_split': 2, 'min_samples_leaf': 1}. Best is trial 10 with value: 0.6889571771331519.\n",
            "[I 2025-06-29 11:13:54,160] Trial 11 finished with value: 0.6889571771331519 and parameters: {'model': 'DecisionTreeClassifier', 'max_depth': 10, 'min_samples_split': 2, 'min_samples_leaf': 1}. Best is trial 10 with value: 0.6889571771331519.\n",
            "[I 2025-06-29 11:13:57,641] Trial 12 finished with value: 0.6889571771331519 and parameters: {'model': 'DecisionTreeClassifier', 'max_depth': 10, 'min_samples_split': 2, 'min_samples_leaf': 1}. Best is trial 10 with value: 0.6889571771331519.\n",
            "[I 2025-06-29 11:14:01,040] Trial 13 finished with value: 0.7162730656027184 and parameters: {'model': 'XGBOOST', 'n_estimators': 55, 'learning_rate': 0.5924150290603784, 'max_depth': 3}. Best is trial 13 with value: 0.7162730656027184.\n",
            "[I 2025-06-29 11:14:04,338] Trial 14 finished with value: 0.7169521947989932 and parameters: {'model': 'XGBOOST', 'n_estimators': 53, 'learning_rate': 0.5813840688979559, 'max_depth': 3}. Best is trial 14 with value: 0.7169521947989932.\n",
            "[I 2025-06-29 11:14:10,064] Trial 15 finished with value: 0.7108613009910847 and parameters: {'model': 'XGBOOST', 'n_estimators': 52, 'learning_rate': 0.7880269474061652, 'max_depth': 3}. Best is trial 14 with value: 0.7169521947989932.\n",
            "[I 2025-06-29 11:14:13,376] Trial 16 finished with value: 0.7145103254754182 and parameters: {'model': 'XGBOOST', 'n_estimators': 52, 'learning_rate': 0.5373179318897916, 'max_depth': 3}. Best is trial 14 with value: 0.7169521947989932.\n",
            "[I 2025-06-29 11:14:17,942] Trial 17 finished with value: 0.716501412393795 and parameters: {'model': 'XGBOOST', 'n_estimators': 93, 'learning_rate': 0.09795975000205943, 'max_depth': 5}. Best is trial 14 with value: 0.7169521947989932.\n",
            "[I 2025-06-29 11:14:25,855] Trial 18 finished with value: 0.7051695303190594 and parameters: {'model': 'XGBOOST', 'n_estimators': 118, 'learning_rate': 0.04290107781208323, 'max_depth': 5}. Best is trial 14 with value: 0.7169521947989932.\n",
            "[I 2025-06-29 11:14:30,841] Trial 19 finished with value: 0.7190067586416895 and parameters: {'model': 'XGBOOST', 'n_estimators': 103, 'learning_rate': 0.11317423943605555, 'max_depth': 5}. Best is trial 19 with value: 0.7190067586416895.\n",
            "[I 2025-06-29 11:14:44,288] Trial 20 finished with value: 0.6589185422146538 and parameters: {'model': 'RandomForestClassifier', 'n_estimators': 100, 'max_depth': 5, 'min_samples_split': 10}. Best is trial 19 with value: 0.7190067586416895.\n",
            "[I 2025-06-29 11:14:51,695] Trial 21 finished with value: 0.7185044713419406 and parameters: {'model': 'XGBOOST', 'n_estimators': 92, 'learning_rate': 0.11423518795208334, 'max_depth': 5}. Best is trial 19 with value: 0.7190067586416895.\n",
            "[I 2025-06-29 11:14:56,092] Trial 22 finished with value: 0.7186350914929366 and parameters: {'model': 'XGBOOST', 'n_estimators': 86, 'learning_rate': 0.16138520282251553, 'max_depth': 6}. Best is trial 19 with value: 0.7190067586416895.\n",
            "[I 2025-06-29 11:15:03,861] Trial 23 finished with value: 0.717383887540922 and parameters: {'model': 'XGBOOST', 'n_estimators': 92, 'learning_rate': 0.13171907567953112, 'max_depth': 6}. Best is trial 19 with value: 0.7190067586416895.\n",
            "[I 2025-06-29 11:15:10,196] Trial 24 finished with value: 0.7128255596409079 and parameters: {'model': 'XGBOOST', 'n_estimators': 140, 'learning_rate': 0.1635621562373714, 'max_depth': 7}. Best is trial 19 with value: 0.7190067586416895.\n",
            "[I 2025-06-29 11:15:18,022] Trial 25 finished with value: 0.7089826495160417 and parameters: {'model': 'XGBOOST', 'n_estimators': 84, 'learning_rate': 0.06357989580823484, 'max_depth': 6}. Best is trial 19 with value: 0.7190067586416895.\n",
            "[I 2025-06-29 11:15:23,507] Trial 26 finished with value: 0.6817691051701464 and parameters: {'model': 'XGBOOST', 'n_estimators': 126, 'learning_rate': 0.01605270094376908, 'max_depth': 4}. Best is trial 19 with value: 0.7190067586416895.\n",
            "[I 2025-06-29 11:15:31,279] Trial 27 finished with value: 0.7117531621289428 and parameters: {'model': 'XGBOOST', 'n_estimators': 76, 'learning_rate': 0.2498150527255967, 'max_depth': 7}. Best is trial 19 with value: 0.7190067586416895.\n",
            "[I 2025-06-29 11:15:45,572] Trial 28 finished with value: 0.6679518351514858 and parameters: {'model': 'RandomForestClassifier', 'n_estimators': 116, 'max_depth': 6, 'min_samples_split': 6}. Best is trial 19 with value: 0.7190067586416895.\n",
            "[I 2025-06-29 11:15:50,489] Trial 29 finished with value: 0.7189257080568957 and parameters: {'model': 'XGBOOST', 'n_estimators': 142, 'learning_rate': 0.25346740957919484, 'max_depth': 4}. Best is trial 19 with value: 0.7190067586416895.\n",
            "[I 2025-06-29 11:15:58,455] Trial 30 finished with value: 0.7180909228517431 and parameters: {'model': 'XGBOOST', 'n_estimators': 152, 'learning_rate': 0.28284944831036457, 'max_depth': 4}. Best is trial 19 with value: 0.7190067586416895.\n",
            "[I 2025-06-29 11:16:03,242] Trial 31 finished with value: 0.7182646013272749 and parameters: {'model': 'XGBOOST', 'n_estimators': 107, 'learning_rate': 0.2433846992469507, 'max_depth': 4}. Best is trial 19 with value: 0.7190067586416895.\n",
            "[I 2025-06-29 11:16:07,722] Trial 32 finished with value: 0.7086253536849993 and parameters: {'model': 'XGBOOST', 'n_estimators': 76, 'learning_rate': 0.07844910931461203, 'max_depth': 5}. Best is trial 19 with value: 0.7190067586416895.\n",
            "[I 2025-06-29 11:16:15,388] Trial 33 finished with value: 0.7194087771477145 and parameters: {'model': 'XGBOOST', 'n_estimators': 158, 'learning_rate': 0.15696833345377012, 'max_depth': 4}. Best is trial 33 with value: 0.7194087771477145.\n",
            "[I 2025-06-29 11:16:26,553] Trial 34 finished with value: 0.670695163337451 and parameters: {'model': 'LogisticRegression', 'C': 7.399643784313297, 'max_iter': 492}. Best is trial 33 with value: 0.7194087771477145.\n",
            "[I 2025-06-29 11:16:31,743] Trial 35 finished with value: 0.7182051270292962 and parameters: {'model': 'XGBOOST', 'n_estimators': 164, 'learning_rate': 0.19517235271210406, 'max_depth': 4}. Best is trial 33 with value: 0.7194087771477145.\n",
            "[I 2025-06-29 11:16:41,944] Trial 36 finished with value: 0.6704782936749568 and parameters: {'model': 'LogisticRegression', 'C': 9.013337019598893, 'max_iter': 482}. Best is trial 33 with value: 0.7194087771477145.\n",
            "[I 2025-06-29 11:16:46,763] Trial 37 finished with value: 0.7170725274716832 and parameters: {'model': 'XGBOOST', 'n_estimators': 135, 'learning_rate': 0.32386484691145734, 'max_depth': 4}. Best is trial 33 with value: 0.7194087771477145.\n",
            "[I 2025-06-29 11:16:48,908] Trial 38 finished with value: 0.6203319606457764 and parameters: {'model': 'NaiveBayes'}. Best is trial 33 with value: 0.7194087771477145.\n",
            "[I 2025-06-29 11:17:09,662] Trial 39 finished with value: 0.666895832737907 and parameters: {'model': 'RandomForestClassifier', 'n_estimators': 175, 'max_depth': 6, 'min_samples_split': 10}. Best is trial 33 with value: 0.7194087771477145.\n",
            "[I 2025-06-29 11:17:15,768] Trial 40 finished with value: 0.6706318229005627 and parameters: {'model': 'LogisticRegression', 'C': 0.4275375063363647, 'max_iter': 360}. Best is trial 33 with value: 0.7194087771477145.\n",
            "[I 2025-06-29 11:17:24,797] Trial 41 finished with value: 0.7191330928896625 and parameters: {'model': 'XGBOOST', 'n_estimators': 160, 'learning_rate': 0.11698581626667946, 'max_depth': 5}. Best is trial 33 with value: 0.7194087771477145.\n",
            "[I 2025-06-29 11:17:33,695] Trial 42 finished with value: 0.7171889234189767 and parameters: {'model': 'XGBOOST', 'n_estimators': 156, 'learning_rate': 0.06099854593167382, 'max_depth': 5}. Best is trial 33 with value: 0.7194087771477145.\n",
            "[I 2025-06-29 11:17:38,621] Trial 43 finished with value: 0.7181215160599308 and parameters: {'model': 'XGBOOST', 'n_estimators': 145, 'learning_rate': 0.14182326800801762, 'max_depth': 4}. Best is trial 33 with value: 0.7194087771477145.\n",
            "[I 2025-06-29 11:17:49,115] Trial 44 finished with value: 0.7086607277089076 and parameters: {'model': 'XGBOOST', 'n_estimators': 191, 'learning_rate': 0.17497697948804136, 'max_depth': 7}. Best is trial 33 with value: 0.7194087771477145.\n",
            "[I 2025-06-29 11:17:51,441] Trial 45 finished with value: 0.6606150851200355 and parameters: {'model': 'DecisionTreeClassifier', 'max_depth': 5, 'min_samples_split': 5, 'min_samples_leaf': 5}. Best is trial 33 with value: 0.7194087771477145.\n",
            "[I 2025-06-29 11:17:53,531] Trial 46 finished with value: 0.6203319606457764 and parameters: {'model': 'NaiveBayes'}. Best is trial 33 with value: 0.7194087771477145.\n",
            "[I 2025-06-29 11:18:03,952] Trial 47 finished with value: 0.6920694914025712 and parameters: {'model': 'XGBOOST', 'n_estimators': 167, 'learning_rate': 0.3508583912285746, 'max_depth': 8}. Best is trial 33 with value: 0.7194087771477145.\n",
            "[I 2025-06-29 11:18:09,814] Trial 48 finished with value: 0.7085149185145275 and parameters: {'model': 'XGBOOST', 'n_estimators': 132, 'learning_rate': 0.03723468983239545, 'max_depth': 6}. Best is trial 33 with value: 0.7194087771477145.\n",
            "[I 2025-06-29 11:18:18,435] Trial 49 finished with value: 0.7185541400519899 and parameters: {'model': 'XGBOOST', 'n_estimators': 183, 'learning_rate': 0.09446920086534016, 'max_depth': 4}. Best is trial 33 with value: 0.7194087771477145.\n"
          ]
        },
        {
          "output_type": "stream",
          "name": "stdout",
          "text": [
            "\n",
            "Best Trial Overall: FrozenTrial(number=33, state=1, values=[0.7194087771477145], datetime_start=datetime.datetime(2025, 6, 29, 11, 16, 7, 726383), datetime_complete=datetime.datetime(2025, 6, 29, 11, 16, 15, 388207), params={'model': 'XGBOOST', 'n_estimators': 158, 'learning_rate': 0.15696833345377012, 'max_depth': 4}, user_attrs={}, system_attrs={}, intermediate_values={}, distributions={'model': CategoricalDistribution(choices=('DecisionTreeClassifier', 'RandomForestClassifier', 'XGBOOST', 'NaiveBayes', 'LogisticRegression')), 'n_estimators': IntDistribution(high=200, log=False, low=50, step=1), 'learning_rate': FloatDistribution(high=1.0, log=True, low=0.01, step=None), 'max_depth': IntDistribution(high=10, log=False, low=3, step=1)}, trial_id=33, value=None)\n",
            "\n",
            "Best Hyperparameters per Model:\n",
            "NaiveBayes: {}\n",
            "LogisticRegression: {'C': 7.399643784313297, 'max_iter': 492}\n",
            "DecisionTreeClassifier: {'max_depth': 10, 'min_samples_split': 2, 'min_samples_leaf': 1}\n",
            "RandomForestClassifier: {'n_estimators': 181, 'max_depth': 8, 'min_samples_split': 7}\n",
            "XGBOOST: {'n_estimators': 158, 'learning_rate': 0.15696833345377012, 'max_depth': 4}\n",
            "\n",
            "Best F1 Score per Model:\n",
            "NaiveBayes: 0.6203\n",
            "LogisticRegression: 0.6707\n",
            "DecisionTreeClassifier: 0.6890\n",
            "RandomForestClassifier: 0.6833\n",
            "XGBOOST: 0.7194\n"
          ]
        }
      ]
    },
    {
      "cell_type": "code",
      "source": [
        "from imblearn.over_sampling import SMOTE\n",
        "from imblearn.pipeline import Pipeline as ImbPipeline\n",
        "from sklearn.preprocessing import StandardScaler\n",
        "from sklearn.linear_model import LogisticRegression\n",
        "from sklearn.tree import DecisionTreeClassifier\n",
        "from sklearn.ensemble import RandomForestClassifier\n",
        "from xgboost import XGBClassifier\n",
        "from sklearn.naive_bayes import GaussianNB  # Gantikan LightGBM\n",
        "from sklearn.model_selection import cross_validate\n",
        "from sklearn.metrics import precision_score, recall_score, f1_score, accuracy_score\n",
        "import pandas as pd\n",
        "\n",
        "# Create pipeline with SMOTE\n",
        "def create_pipeline_with_smote(model):\n",
        "    return ImbPipeline(steps=[\n",
        "        ('smote', SMOTE(random_state=42)),\n",
        "        ('scaler', StandardScaler()),\n",
        "        ('classifier', model)\n",
        "    ])\n",
        "\n",
        "# Main function using best params\n",
        "def model_best_param(X_train, y_train, X_test, y_test, best_params_permodel):\n",
        "    models = {\n",
        "        'LogisticRegression': LogisticRegression,\n",
        "        'DecisionTreeClassifier': DecisionTreeClassifier,\n",
        "        'RandomForestClassifier': RandomForestClassifier,\n",
        "        'XGBOOST': XGBClassifier,\n",
        "        'NaiveBayes': GaussianNB  # Ganti LightGBM ke NaiveBayes\n",
        "    }\n",
        "\n",
        "    results = []\n",
        "    for name, permodel in models.items():\n",
        "        # Apply best parameters\n",
        "        if name in best_params_permodel:\n",
        "            params = best_params_permodel[name]\n",
        "        else:\n",
        "            params = {}\n",
        "\n",
        "        # Tambahkan random_state jika ada\n",
        "        if 'random_state' in permodel().get_params().keys():\n",
        "            params['random_state'] = 42\n",
        "\n",
        "        model = permodel(**params)\n",
        "\n",
        "        # Pipeline\n",
        "        pipeline = create_pipeline_with_smote(model)\n",
        "\n",
        "        # CV scores\n",
        "        scoring = {'precision': 'precision', 'recall': 'recall', 'f1': 'f1', 'accuracy': 'accuracy'}\n",
        "        crossvalidation = cross_validate(pipeline, X_train, y_train, cv=5, scoring=scoring)\n",
        "\n",
        "        train_precision = crossvalidation['test_precision'].mean()\n",
        "        train_recall = crossvalidation['test_recall'].mean()\n",
        "        train_f1 = crossvalidation['test_f1'].mean()\n",
        "        train_accuracy = crossvalidation['test_accuracy'].mean()\n",
        "\n",
        "        # Fit and predict\n",
        "        pipeline.fit(X_train, y_train)\n",
        "        y_test_pred = pipeline.predict(X_test)\n",
        "\n",
        "        test_precision = precision_score(y_test, y_test_pred)\n",
        "        test_recall = recall_score(y_test, y_test_pred)\n",
        "        test_f1 = f1_score(y_test, y_test_pred)\n",
        "        test_accuracy = accuracy_score(y_test, y_test_pred)\n",
        "\n",
        "        results.append({\n",
        "            'Model': name,\n",
        "            'Train Precision': train_precision,\n",
        "            'Train Recall': train_recall,\n",
        "            'Train F1': train_f1,\n",
        "            'Train Accuracy': train_accuracy,\n",
        "            'Test Precision': test_precision,\n",
        "            'Test Recall': test_recall,\n",
        "            'Test F1': test_f1,\n",
        "            'Test Accuracy': test_accuracy\n",
        "        })\n",
        "\n",
        "    results_tuning_smote = pd.DataFrame(results)\n",
        "    results_tuning_smote = results_tuning_smote.sort_values(by='Test F1', ascending=False)\n",
        "\n",
        "    return results_tuning_smote\n",
        "\n",
        "# Jalankan evaluasi\n",
        "results_tuning_smote = model_best_param(X_train, y_train, X_test, y_test, best_params_permodel)\n",
        "results_tuning_smote"
      ],
      "metadata": {
        "colab": {
          "base_uri": "https://localhost:8080/",
          "height": 223
        },
        "id": "DOu6bTQU-OoI",
        "outputId": "df86efd6-7295-403f-a947-e336b42d5fc1"
      },
      "execution_count": 152,
      "outputs": [
        {
          "output_type": "execute_result",
          "data": {
            "text/plain": [
              "                    Model  Train Precision  Train Recall  Train F1  \\\n",
              "3                 XGBOOST         0.677239      0.767343  0.719409   \n",
              "1  DecisionTreeClassifier         0.635086      0.752957  0.688957   \n",
              "2  RandomForestClassifier         0.575121      0.841625  0.683289   \n",
              "0      LogisticRegression         0.575551      0.803592  0.670695   \n",
              "4              NaiveBayes         0.487941      0.851327  0.620332   \n",
              "\n",
              "   Train Accuracy  Test Precision  Test Recall   Test F1  Test Accuracy  \n",
              "3        0.851646        0.679327     0.773863  0.723520       0.853400  \n",
              "1        0.831523        0.636701     0.764496  0.694771       0.833499  \n",
              "2        0.806645        0.571956     0.829616  0.677102       0.803870  \n",
              "0        0.804434        0.574289     0.793042  0.666167       0.802985  \n",
              "4        0.741715        0.488012     0.844335  0.618526       0.741846  "
            ],
            "text/html": [
              "\n",
              "  <div id=\"df-d4bd5cca-bcfb-4739-9d4b-3a02209b7e1f\" class=\"colab-df-container\">\n",
              "    <div>\n",
              "<style scoped>\n",
              "    .dataframe tbody tr th:only-of-type {\n",
              "        vertical-align: middle;\n",
              "    }\n",
              "\n",
              "    .dataframe tbody tr th {\n",
              "        vertical-align: top;\n",
              "    }\n",
              "\n",
              "    .dataframe thead th {\n",
              "        text-align: right;\n",
              "    }\n",
              "</style>\n",
              "<table border=\"1\" class=\"dataframe\">\n",
              "  <thead>\n",
              "    <tr style=\"text-align: right;\">\n",
              "      <th></th>\n",
              "      <th>Model</th>\n",
              "      <th>Train Precision</th>\n",
              "      <th>Train Recall</th>\n",
              "      <th>Train F1</th>\n",
              "      <th>Train Accuracy</th>\n",
              "      <th>Test Precision</th>\n",
              "      <th>Test Recall</th>\n",
              "      <th>Test F1</th>\n",
              "      <th>Test Accuracy</th>\n",
              "    </tr>\n",
              "  </thead>\n",
              "  <tbody>\n",
              "    <tr>\n",
              "      <th>3</th>\n",
              "      <td>XGBOOST</td>\n",
              "      <td>0.677239</td>\n",
              "      <td>0.767343</td>\n",
              "      <td>0.719409</td>\n",
              "      <td>0.851646</td>\n",
              "      <td>0.679327</td>\n",
              "      <td>0.773863</td>\n",
              "      <td>0.723520</td>\n",
              "      <td>0.853400</td>\n",
              "    </tr>\n",
              "    <tr>\n",
              "      <th>1</th>\n",
              "      <td>DecisionTreeClassifier</td>\n",
              "      <td>0.635086</td>\n",
              "      <td>0.752957</td>\n",
              "      <td>0.688957</td>\n",
              "      <td>0.831523</td>\n",
              "      <td>0.636701</td>\n",
              "      <td>0.764496</td>\n",
              "      <td>0.694771</td>\n",
              "      <td>0.833499</td>\n",
              "    </tr>\n",
              "    <tr>\n",
              "      <th>2</th>\n",
              "      <td>RandomForestClassifier</td>\n",
              "      <td>0.575121</td>\n",
              "      <td>0.841625</td>\n",
              "      <td>0.683289</td>\n",
              "      <td>0.806645</td>\n",
              "      <td>0.571956</td>\n",
              "      <td>0.829616</td>\n",
              "      <td>0.677102</td>\n",
              "      <td>0.803870</td>\n",
              "    </tr>\n",
              "    <tr>\n",
              "      <th>0</th>\n",
              "      <td>LogisticRegression</td>\n",
              "      <td>0.575551</td>\n",
              "      <td>0.803592</td>\n",
              "      <td>0.670695</td>\n",
              "      <td>0.804434</td>\n",
              "      <td>0.574289</td>\n",
              "      <td>0.793042</td>\n",
              "      <td>0.666167</td>\n",
              "      <td>0.802985</td>\n",
              "    </tr>\n",
              "    <tr>\n",
              "      <th>4</th>\n",
              "      <td>NaiveBayes</td>\n",
              "      <td>0.487941</td>\n",
              "      <td>0.851327</td>\n",
              "      <td>0.620332</td>\n",
              "      <td>0.741715</td>\n",
              "      <td>0.488012</td>\n",
              "      <td>0.844335</td>\n",
              "      <td>0.618526</td>\n",
              "      <td>0.741846</td>\n",
              "    </tr>\n",
              "  </tbody>\n",
              "</table>\n",
              "</div>\n",
              "    <div class=\"colab-df-buttons\">\n",
              "\n",
              "  <div class=\"colab-df-container\">\n",
              "    <button class=\"colab-df-convert\" onclick=\"convertToInteractive('df-d4bd5cca-bcfb-4739-9d4b-3a02209b7e1f')\"\n",
              "            title=\"Convert this dataframe to an interactive table.\"\n",
              "            style=\"display:none;\">\n",
              "\n",
              "  <svg xmlns=\"http://www.w3.org/2000/svg\" height=\"24px\" viewBox=\"0 -960 960 960\">\n",
              "    <path d=\"M120-120v-720h720v720H120Zm60-500h600v-160H180v160Zm220 220h160v-160H400v160Zm0 220h160v-160H400v160ZM180-400h160v-160H180v160Zm440 0h160v-160H620v160ZM180-180h160v-160H180v160Zm440 0h160v-160H620v160Z\"/>\n",
              "  </svg>\n",
              "    </button>\n",
              "\n",
              "  <style>\n",
              "    .colab-df-container {\n",
              "      display:flex;\n",
              "      gap: 12px;\n",
              "    }\n",
              "\n",
              "    .colab-df-convert {\n",
              "      background-color: #E8F0FE;\n",
              "      border: none;\n",
              "      border-radius: 50%;\n",
              "      cursor: pointer;\n",
              "      display: none;\n",
              "      fill: #1967D2;\n",
              "      height: 32px;\n",
              "      padding: 0 0 0 0;\n",
              "      width: 32px;\n",
              "    }\n",
              "\n",
              "    .colab-df-convert:hover {\n",
              "      background-color: #E2EBFA;\n",
              "      box-shadow: 0px 1px 2px rgba(60, 64, 67, 0.3), 0px 1px 3px 1px rgba(60, 64, 67, 0.15);\n",
              "      fill: #174EA6;\n",
              "    }\n",
              "\n",
              "    .colab-df-buttons div {\n",
              "      margin-bottom: 4px;\n",
              "    }\n",
              "\n",
              "    [theme=dark] .colab-df-convert {\n",
              "      background-color: #3B4455;\n",
              "      fill: #D2E3FC;\n",
              "    }\n",
              "\n",
              "    [theme=dark] .colab-df-convert:hover {\n",
              "      background-color: #434B5C;\n",
              "      box-shadow: 0px 1px 3px 1px rgba(0, 0, 0, 0.15);\n",
              "      filter: drop-shadow(0px 1px 2px rgba(0, 0, 0, 0.3));\n",
              "      fill: #FFFFFF;\n",
              "    }\n",
              "  </style>\n",
              "\n",
              "    <script>\n",
              "      const buttonEl =\n",
              "        document.querySelector('#df-d4bd5cca-bcfb-4739-9d4b-3a02209b7e1f button.colab-df-convert');\n",
              "      buttonEl.style.display =\n",
              "        google.colab.kernel.accessAllowed ? 'block' : 'none';\n",
              "\n",
              "      async function convertToInteractive(key) {\n",
              "        const element = document.querySelector('#df-d4bd5cca-bcfb-4739-9d4b-3a02209b7e1f');\n",
              "        const dataTable =\n",
              "          await google.colab.kernel.invokeFunction('convertToInteractive',\n",
              "                                                    [key], {});\n",
              "        if (!dataTable) return;\n",
              "\n",
              "        const docLinkHtml = 'Like what you see? Visit the ' +\n",
              "          '<a target=\"_blank\" href=https://colab.research.google.com/notebooks/data_table.ipynb>data table notebook</a>'\n",
              "          + ' to learn more about interactive tables.';\n",
              "        element.innerHTML = '';\n",
              "        dataTable['output_type'] = 'display_data';\n",
              "        await google.colab.output.renderOutput(dataTable, element);\n",
              "        const docLink = document.createElement('div');\n",
              "        docLink.innerHTML = docLinkHtml;\n",
              "        element.appendChild(docLink);\n",
              "      }\n",
              "    </script>\n",
              "  </div>\n",
              "\n",
              "\n",
              "    <div id=\"df-f4a46be7-cfbb-4b70-a3de-b6af6a0543e9\">\n",
              "      <button class=\"colab-df-quickchart\" onclick=\"quickchart('df-f4a46be7-cfbb-4b70-a3de-b6af6a0543e9')\"\n",
              "                title=\"Suggest charts\"\n",
              "                style=\"display:none;\">\n",
              "\n",
              "<svg xmlns=\"http://www.w3.org/2000/svg\" height=\"24px\"viewBox=\"0 0 24 24\"\n",
              "     width=\"24px\">\n",
              "    <g>\n",
              "        <path d=\"M19 3H5c-1.1 0-2 .9-2 2v14c0 1.1.9 2 2 2h14c1.1 0 2-.9 2-2V5c0-1.1-.9-2-2-2zM9 17H7v-7h2v7zm4 0h-2V7h2v10zm4 0h-2v-4h2v4z\"/>\n",
              "    </g>\n",
              "</svg>\n",
              "      </button>\n",
              "\n",
              "<style>\n",
              "  .colab-df-quickchart {\n",
              "      --bg-color: #E8F0FE;\n",
              "      --fill-color: #1967D2;\n",
              "      --hover-bg-color: #E2EBFA;\n",
              "      --hover-fill-color: #174EA6;\n",
              "      --disabled-fill-color: #AAA;\n",
              "      --disabled-bg-color: #DDD;\n",
              "  }\n",
              "\n",
              "  [theme=dark] .colab-df-quickchart {\n",
              "      --bg-color: #3B4455;\n",
              "      --fill-color: #D2E3FC;\n",
              "      --hover-bg-color: #434B5C;\n",
              "      --hover-fill-color: #FFFFFF;\n",
              "      --disabled-bg-color: #3B4455;\n",
              "      --disabled-fill-color: #666;\n",
              "  }\n",
              "\n",
              "  .colab-df-quickchart {\n",
              "    background-color: var(--bg-color);\n",
              "    border: none;\n",
              "    border-radius: 50%;\n",
              "    cursor: pointer;\n",
              "    display: none;\n",
              "    fill: var(--fill-color);\n",
              "    height: 32px;\n",
              "    padding: 0;\n",
              "    width: 32px;\n",
              "  }\n",
              "\n",
              "  .colab-df-quickchart:hover {\n",
              "    background-color: var(--hover-bg-color);\n",
              "    box-shadow: 0 1px 2px rgba(60, 64, 67, 0.3), 0 1px 3px 1px rgba(60, 64, 67, 0.15);\n",
              "    fill: var(--button-hover-fill-color);\n",
              "  }\n",
              "\n",
              "  .colab-df-quickchart-complete:disabled,\n",
              "  .colab-df-quickchart-complete:disabled:hover {\n",
              "    background-color: var(--disabled-bg-color);\n",
              "    fill: var(--disabled-fill-color);\n",
              "    box-shadow: none;\n",
              "  }\n",
              "\n",
              "  .colab-df-spinner {\n",
              "    border: 2px solid var(--fill-color);\n",
              "    border-color: transparent;\n",
              "    border-bottom-color: var(--fill-color);\n",
              "    animation:\n",
              "      spin 1s steps(1) infinite;\n",
              "  }\n",
              "\n",
              "  @keyframes spin {\n",
              "    0% {\n",
              "      border-color: transparent;\n",
              "      border-bottom-color: var(--fill-color);\n",
              "      border-left-color: var(--fill-color);\n",
              "    }\n",
              "    20% {\n",
              "      border-color: transparent;\n",
              "      border-left-color: var(--fill-color);\n",
              "      border-top-color: var(--fill-color);\n",
              "    }\n",
              "    30% {\n",
              "      border-color: transparent;\n",
              "      border-left-color: var(--fill-color);\n",
              "      border-top-color: var(--fill-color);\n",
              "      border-right-color: var(--fill-color);\n",
              "    }\n",
              "    40% {\n",
              "      border-color: transparent;\n",
              "      border-right-color: var(--fill-color);\n",
              "      border-top-color: var(--fill-color);\n",
              "    }\n",
              "    60% {\n",
              "      border-color: transparent;\n",
              "      border-right-color: var(--fill-color);\n",
              "    }\n",
              "    80% {\n",
              "      border-color: transparent;\n",
              "      border-right-color: var(--fill-color);\n",
              "      border-bottom-color: var(--fill-color);\n",
              "    }\n",
              "    90% {\n",
              "      border-color: transparent;\n",
              "      border-bottom-color: var(--fill-color);\n",
              "    }\n",
              "  }\n",
              "</style>\n",
              "\n",
              "      <script>\n",
              "        async function quickchart(key) {\n",
              "          const quickchartButtonEl =\n",
              "            document.querySelector('#' + key + ' button');\n",
              "          quickchartButtonEl.disabled = true;  // To prevent multiple clicks.\n",
              "          quickchartButtonEl.classList.add('colab-df-spinner');\n",
              "          try {\n",
              "            const charts = await google.colab.kernel.invokeFunction(\n",
              "                'suggestCharts', [key], {});\n",
              "          } catch (error) {\n",
              "            console.error('Error during call to suggestCharts:', error);\n",
              "          }\n",
              "          quickchartButtonEl.classList.remove('colab-df-spinner');\n",
              "          quickchartButtonEl.classList.add('colab-df-quickchart-complete');\n",
              "        }\n",
              "        (() => {\n",
              "          let quickchartButtonEl =\n",
              "            document.querySelector('#df-f4a46be7-cfbb-4b70-a3de-b6af6a0543e9 button');\n",
              "          quickchartButtonEl.style.display =\n",
              "            google.colab.kernel.accessAllowed ? 'block' : 'none';\n",
              "        })();\n",
              "      </script>\n",
              "    </div>\n",
              "\n",
              "  <div id=\"id_9746b259-16cd-4bd8-85c4-bbbfcfc74952\">\n",
              "    <style>\n",
              "      .colab-df-generate {\n",
              "        background-color: #E8F0FE;\n",
              "        border: none;\n",
              "        border-radius: 50%;\n",
              "        cursor: pointer;\n",
              "        display: none;\n",
              "        fill: #1967D2;\n",
              "        height: 32px;\n",
              "        padding: 0 0 0 0;\n",
              "        width: 32px;\n",
              "      }\n",
              "\n",
              "      .colab-df-generate:hover {\n",
              "        background-color: #E2EBFA;\n",
              "        box-shadow: 0px 1px 2px rgba(60, 64, 67, 0.3), 0px 1px 3px 1px rgba(60, 64, 67, 0.15);\n",
              "        fill: #174EA6;\n",
              "      }\n",
              "\n",
              "      [theme=dark] .colab-df-generate {\n",
              "        background-color: #3B4455;\n",
              "        fill: #D2E3FC;\n",
              "      }\n",
              "\n",
              "      [theme=dark] .colab-df-generate:hover {\n",
              "        background-color: #434B5C;\n",
              "        box-shadow: 0px 1px 3px 1px rgba(0, 0, 0, 0.15);\n",
              "        filter: drop-shadow(0px 1px 2px rgba(0, 0, 0, 0.3));\n",
              "        fill: #FFFFFF;\n",
              "      }\n",
              "    </style>\n",
              "    <button class=\"colab-df-generate\" onclick=\"generateWithVariable('results_tuning_smote')\"\n",
              "            title=\"Generate code using this dataframe.\"\n",
              "            style=\"display:none;\">\n",
              "\n",
              "  <svg xmlns=\"http://www.w3.org/2000/svg\" height=\"24px\"viewBox=\"0 0 24 24\"\n",
              "       width=\"24px\">\n",
              "    <path d=\"M7,19H8.4L18.45,9,17,7.55,7,17.6ZM5,21V16.75L18.45,3.32a2,2,0,0,1,2.83,0l1.4,1.43a1.91,1.91,0,0,1,.58,1.4,1.91,1.91,0,0,1-.58,1.4L9.25,21ZM18.45,9,17,7.55Zm-12,3A5.31,5.31,0,0,0,4.9,8.1,5.31,5.31,0,0,0,1,6.5,5.31,5.31,0,0,0,4.9,4.9,5.31,5.31,0,0,0,6.5,1,5.31,5.31,0,0,0,8.1,4.9,5.31,5.31,0,0,0,12,6.5,5.46,5.46,0,0,0,6.5,12Z\"/>\n",
              "  </svg>\n",
              "    </button>\n",
              "    <script>\n",
              "      (() => {\n",
              "      const buttonEl =\n",
              "        document.querySelector('#id_9746b259-16cd-4bd8-85c4-bbbfcfc74952 button.colab-df-generate');\n",
              "      buttonEl.style.display =\n",
              "        google.colab.kernel.accessAllowed ? 'block' : 'none';\n",
              "\n",
              "      buttonEl.onclick = () => {\n",
              "        google.colab.notebook.generateWithVariable('results_tuning_smote');\n",
              "      }\n",
              "      })();\n",
              "    </script>\n",
              "  </div>\n",
              "\n",
              "    </div>\n",
              "  </div>\n"
            ],
            "application/vnd.google.colaboratory.intrinsic+json": {
              "type": "dataframe",
              "variable_name": "results_tuning_smote",
              "summary": "{\n  \"name\": \"results_tuning_smote\",\n  \"rows\": 5,\n  \"fields\": [\n    {\n      \"column\": \"Model\",\n      \"properties\": {\n        \"dtype\": \"string\",\n        \"num_unique_values\": 5,\n        \"samples\": [\n          \"DecisionTreeClassifier\",\n          \"NaiveBayes\",\n          \"RandomForestClassifier\"\n        ],\n        \"semantic_type\": \"\",\n        \"description\": \"\"\n      }\n    },\n    {\n      \"column\": \"Train Precision\",\n      \"properties\": {\n        \"dtype\": \"number\",\n        \"std\": 0.07157054896853944,\n        \"min\": 0.4879411297457952,\n        \"max\": 0.6772387504530133,\n        \"num_unique_values\": 5,\n        \"samples\": [\n          0.635086307331698,\n          0.4879411297457952,\n          0.5751207570200769\n        ],\n        \"semantic_type\": \"\",\n        \"description\": \"\"\n      }\n    },\n    {\n      \"column\": \"Train Recall\",\n      \"properties\": {\n        \"dtype\": \"number\",\n        \"std\": 0.043597093874621226,\n        \"min\": 0.7529567169737883,\n        \"max\": 0.8513271915245774,\n        \"num_unique_values\": 5,\n        \"samples\": [\n          0.7529567169737883,\n          0.8513271915245774,\n          0.8416251482135717\n        ],\n        \"semantic_type\": \"\",\n        \"description\": \"\"\n      }\n    },\n    {\n      \"column\": \"Train F1\",\n      \"properties\": {\n        \"dtype\": \"number\",\n        \"std\": 0.036162751954671155,\n        \"min\": 0.6203319606457764,\n        \"max\": 0.7194087771477145,\n        \"num_unique_values\": 5,\n        \"samples\": [\n          0.6889571771331519,\n          0.6203319606457764,\n          0.6832894022973994\n        ],\n        \"semantic_type\": \"\",\n        \"description\": \"\"\n      }\n    },\n    {\n      \"column\": \"Train Accuracy\",\n      \"properties\": {\n        \"dtype\": \"number\",\n        \"std\": 0.04142276655988026,\n        \"min\": 0.7417145326122211,\n        \"max\": 0.8516462683892982,\n        \"num_unique_values\": 5,\n        \"samples\": [\n          0.8315229465816889,\n          0.7417145326122211,\n          0.8066452464697933\n        ],\n        \"semantic_type\": \"\",\n        \"description\": \"\"\n      }\n    },\n    {\n      \"column\": \"Test Precision\",\n      \"properties\": {\n        \"dtype\": \"number\",\n        \"std\": 0.07268790333406441,\n        \"min\": 0.4880123743232792,\n        \"max\": 0.6793265465935787,\n        \"num_unique_values\": 5,\n        \"samples\": [\n          0.6367013372956909,\n          0.4880123743232792,\n          0.5719557195571956\n        ],\n        \"semantic_type\": \"\",\n        \"description\": \"\"\n      }\n    },\n    {\n      \"column\": \"Test Recall\",\n      \"properties\": {\n        \"dtype\": \"number\",\n        \"std\": 0.03474602036642709,\n        \"min\": 0.7644959857270295,\n        \"max\": 0.844335414808207,\n        \"num_unique_values\": 5,\n        \"samples\": [\n          0.7644959857270295,\n          0.844335414808207,\n          0.8296164139161463\n        ],\n        \"semantic_type\": \"\",\n        \"description\": \"\"\n      }\n    },\n    {\n      \"column\": \"Test F1\",\n      \"properties\": {\n        \"dtype\": \"number\",\n        \"std\": 0.03876718265157338,\n        \"min\": 0.6185263845776834,\n        \"max\": 0.7235195996663887,\n        \"num_unique_values\": 5,\n        \"samples\": [\n          0.6947709768950142,\n          0.6185263845776834,\n          0.6771022934109938\n        ],\n        \"semantic_type\": \"\",\n        \"description\": \"\"\n      }\n    },\n    {\n      \"column\": \"Test Accuracy\",\n      \"properties\": {\n        \"dtype\": \"number\",\n        \"std\": 0.042207772478280975,\n        \"min\": 0.7418463239358761,\n        \"max\": 0.8533996683250414,\n        \"num_unique_values\": 5,\n        \"samples\": [\n          0.8334991708126036,\n          0.7418463239358761,\n          0.803869541182974\n        ],\n        \"semantic_type\": \"\",\n        \"description\": \"\"\n      }\n    }\n  ]\n}"
            }
          },
          "metadata": {},
          "execution_count": 152
        }
      ]
    },
    {
      "cell_type": "markdown",
      "source": [
        "Model terbaik adalah XGBOOST karena memiliki F1 Score tertinggi (0.717449) dan juga akurasi tertinggi (0.846213) pada data uji (test),"
      ],
      "metadata": {
        "id": "WpRDxh2xBAV7"
      }
    },
    {
      "cell_type": "markdown",
      "source": [
        "#Confusion Metrics"
      ],
      "metadata": {
        "id": "BBUq9t-3BLUx"
      }
    },
    {
      "cell_type": "code",
      "source": [
        "from imblearn.over_sampling import SMOTE\n",
        "from sklearn.preprocessing import StandardScaler\n",
        "from sklearn.linear_model import LogisticRegression\n",
        "from sklearn.tree import DecisionTreeClassifier\n",
        "from sklearn.ensemble import RandomForestClassifier\n",
        "from xgboost import XGBClassifier\n",
        "from sklearn.naive_bayes import GaussianNB  # Gantikan LightGBM\n",
        "from sklearn.metrics import confusion_matrix\n",
        "import seaborn as sns\n",
        "import matplotlib.pyplot as plt\n",
        "\n",
        "# Normalisasi data\n",
        "scaler = StandardScaler()\n",
        "X_train_std = scaler.fit_transform(X_train)\n",
        "X_test_std = scaler.transform(X_test)\n",
        "\n",
        "# SMOTE untuk mengatasi imbalance\n",
        "smote = SMOTE(random_state=42)\n",
        "X_train_smote, y_train_smote = smote.fit_resample(X_train_std, y_train)\n",
        "\n",
        "# Dictionary model dan parameter terbaik\n",
        "models = {\n",
        "    'Logistic Regression': LogisticRegression,\n",
        "    'Decision Tree': DecisionTreeClassifier,\n",
        "    'Random Forest': RandomForestClassifier,\n",
        "    'XGBoost': XGBClassifier,\n",
        "    'Naive Bayes': GaussianNB  # Ganti LightGBM ke Naive Bayes\n",
        "}\n",
        "\n",
        "best_params = {\n",
        "    'Logistic Regression': {'C': 1.0, 'solver': 'lbfgs', 'max_iter': 100},\n",
        "    'Decision Tree': {'max_depth': 5, 'min_samples_split': 2},\n",
        "    'Random Forest': {'n_estimators': 100, 'max_depth': 5, 'min_samples_split': 2},\n",
        "    'XGBoost': {'n_estimators': 100, 'max_depth': 5, 'learning_rate': 0.1, 'use_label_encoder': False, 'eval_metric': 'logloss'},\n",
        "    'Naive Bayes': {}  # GaussianNB tidak punya hyperparameter penting\n",
        "}\n",
        "\n",
        "# Simpan hasil prediksi\n",
        "predict_models = {}\n",
        "\n",
        "# Loop semua model\n",
        "for name, model_class in models.items():\n",
        "    model = model_class(**best_params[name])\n",
        "    model.fit(X_train_smote, y_train_smote)\n",
        "    y_pred = model.predict(X_test_std)\n",
        "    predict_models[name] = y_pred\n",
        "\n",
        "# Visualisasi Confusion Matrix\n",
        "color_maps = ['Blues', 'Greens', 'Reds', 'Purples', 'Oranges']\n",
        "\n",
        "plt.figure(figsize=(20, 5))\n",
        "for i, (name, pred) in enumerate(predict_models.items()):\n",
        "    plt.subplot(1, len(predict_models), i + 1)\n",
        "    cm = confusion_matrix(y_test, pred)\n",
        "    sns.heatmap(cm, annot=True, fmt='d', cmap=color_maps[i % len(color_maps)],\n",
        "                xticklabels=['No', 'Yes'], yticklabels=['No', 'Yes'], cbar=False)\n",
        "    plt.title(name)\n",
        "    plt.xlabel('Predicted')\n",
        "    plt.ylabel('Actual')\n",
        "    plt.tight_layout()\n",
        "\n",
        "plt.suptitle('Confusion Matrix for Models with SMOTE', y=1.05)\n",
        "plt.show()\n"
      ],
      "metadata": {
        "colab": {
          "base_uri": "https://localhost:8080/",
          "height": 243
        },
        "id": "QTRBa58A4nGi",
        "outputId": "3fd97543-df85-4b8f-ed83-438faac0f122"
      },
      "execution_count": 153,
      "outputs": [
        {
          "output_type": "display_data",
          "data": {
            "text/plain": [
              "<Figure size 2000x500 with 5 Axes>"
            ],
            "image/png": "[encoded data removed]"
          },
          "metadata": {}
        }
      ]
    },
    {
      "cell_type": "markdown",
      "source": [
        "✅ Model dengan Confusion Matrix Terbaik: XGBoost\n",
        "Karena:\n",
        "\n",
        "TP cukup tinggi (1833)\n",
        "\n",
        "FP paling rendah dari semua model (1137)\n",
        "\n",
        "FN relatif moderat (Jumlah FN tidak terlalu banyak, tapi juga tidak kecil )\n",
        "\n"
      ],
      "metadata": {
        "id": "-Ap9XCgxQHYt"
      }
    },
    {
      "cell_type": "markdown",
      "source": [
        "#ROC-AUC"
      ],
      "metadata": {
        "id": "LeGc_BOjBRMf"
      }
    },
    {
      "cell_type": "code",
      "source": [
        "import matplotlib.pyplot as plt\n",
        "from sklearn.metrics import roc_auc_score, roc_curve\n",
        "from imblearn.over_sampling import SMOTE\n",
        "from imblearn.pipeline import Pipeline as ImbPipeline\n",
        "from sklearn.preprocessing import StandardScaler\n",
        "from sklearn.linear_model import LogisticRegression\n",
        "from sklearn.tree import DecisionTreeClassifier\n",
        "from sklearn.ensemble import RandomForestClassifier\n",
        "from xgboost import XGBClassifier\n",
        "from sklearn.naive_bayes import GaussianNB  # Ganti LightGBM ke Naive Bayes\n",
        "import numpy as np\n",
        "\n",
        "# Daftar model sebagai class\n",
        "models = {\n",
        "    'Logistic Regression': LogisticRegression,\n",
        "    'Decision Tree': DecisionTreeClassifier,\n",
        "    'Random Forest': RandomForestClassifier,\n",
        "    'XGBoost': XGBClassifier,\n",
        "    'Naive Bayes': GaussianNB  # Gantikan LightGBM\n",
        "}\n",
        "\n",
        "# Fungsi pipeline SMOTE\n",
        "def create_pipeline_with_smote(model_class):\n",
        "    smote = SMOTE(random_state=42)\n",
        "    model = model_class()\n",
        "    pipeline = ImbPipeline(steps=[\n",
        "        ('smote', smote),\n",
        "        ('scaler', StandardScaler()),\n",
        "        ('classifier', model)\n",
        "    ])\n",
        "    return pipeline\n",
        "\n",
        "# Fungsi plot semua ROC dalam satu grafik\n",
        "def plot_all_roc_curves(X_train, y_train, X_test, y_test):\n",
        "    plt.figure(figsize=(10, 7))\n",
        "\n",
        "    for name, model_class in models.items():\n",
        "        pipeline = create_pipeline_with_smote(model_class)\n",
        "        pipeline.fit(X_train, y_train)\n",
        "\n",
        "        # Prediksi probabilitas (jika tersedia)\n",
        "        if hasattr(pipeline.named_steps['classifier'], \"predict_proba\"):\n",
        "            y_pred_proba = pipeline.predict_proba(X_test)[:, 1]\n",
        "        else:\n",
        "            y_scores = pipeline.decision_function(X_test)\n",
        "            y_pred_proba = (y_scores - np.min(y_scores)) / (np.max(y_scores) - np.min(y_scores))\n",
        "\n",
        "        fpr, tpr, _ = roc_curve(y_test, y_pred_proba)\n",
        "        auc = roc_auc_score(y_test, y_pred_proba)\n",
        "\n",
        "        plt.plot(fpr, tpr, label=f'{name} (AUC = {auc:.2f})')\n",
        "\n",
        "    plt.plot([0, 1], [0, 1], 'k--', label='Random Classifier (AUC = 0.5)')\n",
        "    plt.xlabel('False Positive Rate')\n",
        "    plt.ylabel('True Positive Rate')\n",
        "    plt.title('ROC Curve - All Models')\n",
        "    plt.legend(loc='lower right')\n",
        "    plt.grid(True)\n",
        "    plt.tight_layout()\n",
        "    plt.show()\n",
        "\n",
        "# Jalankan fungsi\n",
        "plot_all_roc_curves(X_train, y_train, X_test, y_test)\n"
      ],
      "metadata": {
        "colab": {
          "base_uri": "https://localhost:8080/",
          "height": 609
        },
        "id": "ux3RIEbdBR6h",
        "outputId": "f894732b-d441-4a84-aa52-d64761d9349e"
      },
      "execution_count": 154,
      "outputs": [
        {
          "output_type": "display_data",
          "data": {
            "text/plain": [
              "<Figure size 1000x700 with 1 Axes>"
            ],
            "image/png": "[encoded data removed]"
          },
          "metadata": {}
        }
      ]
    },
    {
      "cell_type": "markdown",
      "source": [
        "✅ Model Terbaik Berdasarkan ROC-AUC: XGBoost\n",
        "Kenapa?\n",
        "\n",
        "AUC = 0.92 → menunjukkan bahwa XGBoost sangat baik dalam membedakan antara kelas positif dan negatif."
      ],
      "metadata": {
        "id": "ykYTJsxgQP0A"
      }
    },
    {
      "cell_type": "markdown",
      "source": [
        "#Kesimpulan dan Rekomendasi"
      ],
      "metadata": {
        "id": "LTxPK7IhQQkw"
      }
    },
    {
      "cell_type": "markdown",
      "source": [
        "# Bagian Baru"
      ],
      "metadata": {
        "id": "2r2U77nnNIzi"
      }
    },
    {
      "cell_type": "markdown",
      "source": [
        "Penelitian ini bertujuan memprediksi apakah seseorang memiliki pendapatan lebih dari 50.000 USD per tahun berdasarkan data demografis dan pekerjaan. Beberapa algoritma klasifikasi diterapkan, termasuk Logistic Regression, Decision Tree, Random Forest, XGBoost, dan Naive Bayes. Model dilatih menggunakan SMOTE untuk mengatasi ketidakseimbangan kelas, serta standardisasi dan tuning untuk meningkatkan performa.\n",
        "\n",
        "Hasil menunjukkan bahwa XGBoost adalah model terbaik, dengan metrik evaluasi sebagai berikut:\n",
        "\n",
        "F1 Score: 0.724 → seimbang dalam mengenali pendapatan tinggi.\n",
        "\n",
        "Akurasi: 85.22% → akurasi keseluruhan tertinggi.\n",
        "\n",
        "AUC: 0.92 → sangat baik dalam membedakan kelas pendapatan.\n",
        "\n",
        "Fitur seperti pendidikan, jenis pekerjaan, status pernikahan, dan jam kerja mingguan terbukti paling berpengaruh terhadap pendapatan, mendukung pentingnya analisis data untuk kebijakan peningkatan kesejahteraan masyarakat."
      ],
      "metadata": {
        "id": "ThGQgjXxH0fK"
      }
    },
    {
      "cell_type": "markdown",
      "source": [
        "🔧 Rekomendasi\n",
        "Gunakan model XGBoost sebagai alat prediksi utama karena memiliki performa terbaik dalam klasifikasi pendapatan dan cocok untuk skenario nyata seperti kebijakan pajak, subsidi, atau targeting pelatihan kerja.\n",
        "\n",
        "Lakukan analisis lanjutan terhadap fitur penting dari model XGBoost untuk memberikan insight bagi pengambil kebijakan terkait faktor-faktor yang paling menentukan kesejahteraan pendapatan masyarakat.\n",
        "\n",
        "Perbarui data dan model secara berkala, karena dataset berasal dari tahun 1994. Agar hasil prediksi tetap relevan, penting menggunakan data terbaru yang mencerminkan kondisi sosial ekonomi terkini.\n",
        "\n",
        "Implementasikan sistem ini dalam bentuk dashboard atau API, agar pemerintah, perusahaan, atau lembaga sosial dapat mengakses prediksi pendapatan masyarakat secara real-time.\n",
        "\n",
        "Jadikan pendekatan ini sebagai dasar dalam perencanaan intervensi sosial seperti beasiswa, program pemberdayaan perempuan, pelatihan kerja digital, atau perlindungan buruh informal.\n",
        "\n"
      ],
      "metadata": {
        "id": "qiSgfgUzM4zI"
      }
    },
    {
      "cell_type": "markdown",
      "source": [
        "#Simpan Model"
      ],
      "metadata": {
        "id": "Ym6bDIBioHxy"
      }
    },
    {
      "cell_type": "code",
      "source": [
        "#import pickle"
      ],
      "metadata": {
        "id": "kkGDtR0doKLy"
      },
      "execution_count": 155,
      "outputs": []
    },
    {
      "cell_type": "code",
      "source": [
        "#import pickle\n",
        "#from imblearn.pipeline import Pipeline as ImbPipeline\n",
        "#from sklearn.preprocessing import StandardScaler\n",
        "#from xgboost import XGBClassifier\n",
        "\n",
        "# Define the best parameters for XGBoost from the hyperparameter tuning\n",
        "#best_xgb_params = best_params_permodel['XGBOOST']\n",
        "\n",
        "# Create and train the XGBoost model with the best parameters within a pipeline\n",
        "# The pipeline includes SMOTE and StandardScaler as used during evaluation\n",
        "#xgb_model = ImbPipeline(steps=[\n",
        "#    ('smote', SMOTE(random_state=42)),\n",
        "#    ('scaler', StandardScaler()),\n",
        "#    ('classifier', XGBClassifier(**best_xgb_params))\n",
        "#])\n",
        "\n",
        "# Fit the pipeline on the training data\n",
        "#xgb_model.fit(X_train, y_train)\n",
        "\n",
        "# Now, save the trained pipeline (which includes the XGBoost model)\n",
        "#filename = 'Adult_Model.sav'\n",
        "#pickle.dump(xgb_model, open(filename, 'wb'))\n",
        "#print(f\"Model saved successfully as {filename}\")"
      ],
      "metadata": {
        "id": "5Vc6yNavoNQ_"
      },
      "execution_count": 156,
      "outputs": []
    },
    {
      "cell_type": "code",
      "source": [
        "#from google.colab import files\n",
        "#files.download('Adult_Model.sav')"
      ],
      "metadata": {
        "id": "GxADkgXvoNVj"
      },
      "execution_count": 157,
      "outputs": []
    },
    {
      "cell_type": "code",
      "source": [
        "# Fit scaler ke training data\n",
        "scaler = StandardScaler()\n",
        "X_train_scaled = scaler.fit_transform(X_train)\n",
        "\n",
        "# Fit model\n",
        "xgb_model = XGBClassifier(random_state=42)\n",
        "xgb_model.fit(X_train_scaled, y_train)\n",
        "\n",
        "# Simpan model & scaler\n",
        "joblib.dump(xgb_model, 'xgb_model.joblib')\n",
        "joblib.dump(scaler, 'scaler.joblib')\n"
      ],
      "metadata": {
        "colab": {
          "base_uri": "https://localhost:8080/"
        },
        "id": "hfHV2qlY9d4g",
        "outputId": "eece6a1b-1ca7-4fa5-d91e-e898f9236ae6"
      },
      "execution_count": 173,
      "outputs": [
        {
          "output_type": "execute_result",
          "data": {
            "text/plain": [
              "['scaler.joblib']"
            ]
          },
          "metadata": {},
          "execution_count": 173
        }
      ]
    },
    {
      "cell_type": "code",
      "source": [
        "# Download\n",
        "from google.colab import files\n",
        "files.download('xgb_model.joblib')\n",
        "files.download('scaler.joblib')"
      ],
      "metadata": {
        "colab": {
          "base_uri": "https://localhost:8080/",
          "height": 17
        },
        "id": "YAs_RRCi-s2Z",
        "outputId": "df7ebdf6-8de0-4304-837d-9fa5db82edc7"
      },
      "execution_count": 175,
      "outputs": [
        {
          "output_type": "display_data",
          "data": {
            "text/plain": [
              "<IPython.core.display.Javascript object>"
            ],
            "application/javascript": [
              "\n",
              "    async function download(id, filename, size) {\n",
              "      if (!google.colab.kernel.accessAllowed) {\n",
              "        return;\n",
              "      }\n",
              "      const div = document.createElement('div');\n",
              "      const label = document.createElement('label');\n",
              "      label.textContent = `Downloading \"${filename}\": `;\n",
              "      div.appendChild(label);\n",
              "      const progress = document.createElement('progress');\n",
              "      progress.max = size;\n",
              "      div.appendChild(progress);\n",
              "      document.body.appendChild(div);\n",
              "\n",
              "      const buffers = [];\n",
              "      let downloaded = 0;\n",
              "\n",
              "      const channel = await google.colab.kernel.comms.open(id);\n",
              "      // Send a message to notify the kernel that we're ready.\n",
              "      channel.send({})\n",
              "\n",
              "      for await (const message of channel.messages) {\n",
              "        // Send a message to notify the kernel that we're ready.\n",
              "        channel.send({})\n",
              "        if (message.buffers) {\n",
              "          for (const buffer of message.buffers) {\n",
              "            buffers.push(buffer);\n",
              "            downloaded += buffer.byteLength;\n",
              "            progress.value = downloaded;\n",
              "          }\n",
              "        }\n",
              "      }\n",
              "      const blob = new Blob(buffers, {type: 'application/binary'});\n",
              "      const a = document.createElement('a');\n",
              "      a.href = window.URL.createObjectURL(blob);\n",
              "      a.download = filename;\n",
              "      div.appendChild(a);\n",
              "      a.click();\n",
              "      div.remove();\n",
              "    }\n",
              "  "
            ]
          },
          "metadata": {}
        },
        {
          "output_type": "display_data",
          "data": {
            "text/plain": [
              "<IPython.core.display.Javascript object>"
            ],
            "application/javascript": [
              "download(\"download_d5cc65d7-9b9c-4298-a949-762bec20a139\", \"xgb_model.joblib\", 297441)"
            ]
          },
          "metadata": {}
        },
        {
          "output_type": "display_data",
          "data": {
            "text/plain": [
              "<IPython.core.display.Javascript object>"
            ],
            "application/javascript": [
              "\n",
              "    async function download(id, filename, size) {\n",
              "      if (!google.colab.kernel.accessAllowed) {\n",
              "        return;\n",
              "      }\n",
              "      const div = document.createElement('div');\n",
              "      const label = document.createElement('label');\n",
              "      label.textContent = `Downloading \"${filename}\": `;\n",
              "      div.appendChild(label);\n",
              "      const progress = document.createElement('progress');\n",
              "      progress.max = size;\n",
              "      div.appendChild(progress);\n",
              "      document.body.appendChild(div);\n",
              "\n",
              "      const buffers = [];\n",
              "      let downloaded = 0;\n",
              "\n",
              "      const channel = await google.colab.kernel.comms.open(id);\n",
              "      // Send a message to notify the kernel that we're ready.\n",
              "      channel.send({})\n",
              "\n",
              "      for await (const message of channel.messages) {\n",
              "        // Send a message to notify the kernel that we're ready.\n",
              "        channel.send({})\n",
              "        if (message.buffers) {\n",
              "          for (const buffer of message.buffers) {\n",
              "            buffers.push(buffer);\n",
              "            downloaded += buffer.byteLength;\n",
              "            progress.value = downloaded;\n",
              "          }\n",
              "        }\n",
              "      }\n",
              "      const blob = new Blob(buffers, {type: 'application/binary'});\n",
              "      const a = document.createElement('a');\n",
              "      a.href = window.URL.createObjectURL(blob);\n",
              "      a.download = filename;\n",
              "      div.appendChild(a);\n",
              "      a.click();\n",
              "      div.remove();\n",
              "    }\n",
              "  "
            ]
          },
          "metadata": {}
        },
        {
          "output_type": "display_data",
          "data": {
            "text/plain": [
              "<IPython.core.display.Javascript object>"
            ],
            "application/javascript": [
              "download(\"download_7a1d7292-b37d-4960-ad78-8eda2182303e\", \"scaler.joblib\", 1831)"
            ]
          },
          "metadata": {}
        }
      ]
    },
    {
      "cell_type": "code",
      "source": [
        "import joblib"
      ],
      "metadata": {
        "id": "RB7wi2AYYTk6"
      },
      "execution_count": 158,
      "outputs": []
    },
    {
      "cell_type": "code",
      "source": [
        "joblib.dump(xgb_model, 'xgb_model.joblib') #menyimpan data untuk deployment\n",
        "print('success')"
      ],
      "metadata": {
        "colab": {
          "base_uri": "https://localhost:8080/"
        },
        "id": "buPAVE50YUp5",
        "outputId": "81062912-1aab-4e27-c7b1-5a7778c9d35b"
      },
      "execution_count": 159,
      "outputs": [
        {
          "output_type": "stream",
          "name": "stdout",
          "text": [
            "success\n"
          ]
        }
      ]
    },
    {
      "cell_type": "code",
      "source": [
        "joblib.dump(scaler, 'scaler.joblib') #menyimpan data untuk deployment\n",
        "print('success')"
      ],
      "metadata": {
        "colab": {
          "base_uri": "https://localhost:8080/"
        },
        "id": "TAN2_1qzYaVE",
        "outputId": "c184f513-bc85-415f-e485-65e9512b38d4"
      },
      "execution_count": 160,
      "outputs": [
        {
          "output_type": "stream",
          "name": "stdout",
          "text": [
            "success\n"
          ]
        }
      ]
    },
    {
      "cell_type": "code",
      "source": [
        "from google.colab import files\n",
        "files.download('xgb_model.joblib')"
      ],
      "metadata": {
        "colab": {
          "base_uri": "https://localhost:8080/",
          "height": 17
        },
        "id": "rCK2OhUegCIh",
        "outputId": "02e6e553-8f4a-4e22-db8e-d26c17525f1f"
      },
      "execution_count": 164,
      "outputs": [
        {
          "output_type": "display_data",
          "data": {
            "text/plain": [
              "<IPython.core.display.Javascript object>"
            ],
            "application/javascript": [
              "\n",
              "    async function download(id, filename, size) {\n",
              "      if (!google.colab.kernel.accessAllowed) {\n",
              "        return;\n",
              "      }\n",
              "      const div = document.createElement('div');\n",
              "      const label = document.createElement('label');\n",
              "      label.textContent = `Downloading \"${filename}\": `;\n",
              "      div.appendChild(label);\n",
              "      const progress = document.createElement('progress');\n",
              "      progress.max = size;\n",
              "      div.appendChild(progress);\n",
              "      document.body.appendChild(div);\n",
              "\n",
              "      const buffers = [];\n",
              "      let downloaded = 0;\n",
              "\n",
              "      const channel = await google.colab.kernel.comms.open(id);\n",
              "      // Send a message to notify the kernel that we're ready.\n",
              "      channel.send({})\n",
              "\n",
              "      for await (const message of channel.messages) {\n",
              "        // Send a message to notify the kernel that we're ready.\n",
              "        channel.send({})\n",
              "        if (message.buffers) {\n",
              "          for (const buffer of message.buffers) {\n",
              "            buffers.push(buffer);\n",
              "            downloaded += buffer.byteLength;\n",
              "            progress.value = downloaded;\n",
              "          }\n",
              "        }\n",
              "      }\n",
              "      const blob = new Blob(buffers, {type: 'application/binary'});\n",
              "      const a = document.createElement('a');\n",
              "      a.href = window.URL.createObjectURL(blob);\n",
              "      a.download = filename;\n",
              "      div.appendChild(a);\n",
              "      a.click();\n",
              "      div.remove();\n",
              "    }\n",
              "  "
            ]
          },
          "metadata": {}
        },
        {
          "output_type": "display_data",
          "data": {
            "text/plain": [
              "<IPython.core.display.Javascript object>"
            ],
            "application/javascript": [
              "download(\"download_7895b5f0-72d9-4958-962f-88fd6dcbfe05\", \"xgb_model.joblib\", 1764422)"
            ]
          },
          "metadata": {}
        }
      ]
    },
    {
      "cell_type": "code",
      "source": [
        "from google.colab import files\n",
        "files.download('xgb_model.joblib')\n",
        "files.download('scaler.joblib')"
      ],
      "metadata": {
        "colab": {
          "base_uri": "https://localhost:8080/",
          "height": 17
        },
        "id": "4XYmkAUiYnWK",
        "outputId": "912a04db-9eb6-40e4-c6e6-5374a9b267fa"
      },
      "execution_count": 162,
      "outputs": [
        {
          "output_type": "display_data",
          "data": {
            "text/plain": [
              "<IPython.core.display.Javascript object>"
            ],
            "application/javascript": [
              "\n",
              "    async function download(id, filename, size) {\n",
              "      if (!google.colab.kernel.accessAllowed) {\n",
              "        return;\n",
              "      }\n",
              "      const div = document.createElement('div');\n",
              "      const label = document.createElement('label');\n",
              "      label.textContent = `Downloading \"${filename}\": `;\n",
              "      div.appendChild(label);\n",
              "      const progress = document.createElement('progress');\n",
              "      progress.max = size;\n",
              "      div.appendChild(progress);\n",
              "      document.body.appendChild(div);\n",
              "\n",
              "      const buffers = [];\n",
              "      let downloaded = 0;\n",
              "\n",
              "      const channel = await google.colab.kernel.comms.open(id);\n",
              "      // Send a message to notify the kernel that we're ready.\n",
              "      channel.send({})\n",
              "\n",
              "      for await (const message of channel.messages) {\n",
              "        // Send a message to notify the kernel that we're ready.\n",
              "        channel.send({})\n",
              "        if (message.buffers) {\n",
              "          for (const buffer of message.buffers) {\n",
              "            buffers.push(buffer);\n",
              "            downloaded += buffer.byteLength;\n",
              "            progress.value = downloaded;\n",
              "          }\n",
              "        }\n",
              "      }\n",
              "      const blob = new Blob(buffers, {type: 'application/binary'});\n",
              "      const a = document.createElement('a');\n",
              "      a.href = window.URL.createObjectURL(blob);\n",
              "      a.download = filename;\n",
              "      div.appendChild(a);\n",
              "      a.click();\n",
              "      div.remove();\n",
              "    }\n",
              "  "
            ]
          },
          "metadata": {}
        },
        {
          "output_type": "display_data",
          "data": {
            "text/plain": [
              "<IPython.core.display.Javascript object>"
            ],
            "application/javascript": [
              "download(\"download_301c1476-b92e-4a82-ac86-7c3b2b11e3e7\", \"xgb_model.joblib\", 1764422)"
            ]
          },
          "metadata": {}
        },
        {
          "output_type": "display_data",
          "data": {
            "text/plain": [
              "<IPython.core.display.Javascript object>"
            ],
            "application/javascript": [
              "\n",
              "    async function download(id, filename, size) {\n",
              "      if (!google.colab.kernel.accessAllowed) {\n",
              "        return;\n",
              "      }\n",
              "      const div = document.createElement('div');\n",
              "      const label = document.createElement('label');\n",
              "      label.textContent = `Downloading \"${filename}\": `;\n",
              "      div.appendChild(label);\n",
              "      const progress = document.createElement('progress');\n",
              "      progress.max = size;\n",
              "      div.appendChild(progress);\n",
              "      document.body.appendChild(div);\n",
              "\n",
              "      const buffers = [];\n",
              "      let downloaded = 0;\n",
              "\n",
              "      const channel = await google.colab.kernel.comms.open(id);\n",
              "      // Send a message to notify the kernel that we're ready.\n",
              "      channel.send({})\n",
              "\n",
              "      for await (const message of channel.messages) {\n",
              "        // Send a message to notify the kernel that we're ready.\n",
              "        channel.send({})\n",
              "        if (message.buffers) {\n",
              "          for (const buffer of message.buffers) {\n",
              "            buffers.push(buffer);\n",
              "            downloaded += buffer.byteLength;\n",
              "            progress.value = downloaded;\n",
              "          }\n",
              "        }\n",
              "      }\n",
              "      const blob = new Blob(buffers, {type: 'application/binary'});\n",
              "      const a = document.createElement('a');\n",
              "      a.href = window.URL.createObjectURL(blob);\n",
              "      a.download = filename;\n",
              "      div.appendChild(a);\n",
              "      a.click();\n",
              "      div.remove();\n",
              "    }\n",
              "  "
            ]
          },
          "metadata": {}
        },
        {
          "output_type": "display_data",
          "data": {
            "text/plain": [
              "<IPython.core.display.Javascript object>"
            ],
            "application/javascript": [
              "download(\"download_629cbc3c-b06a-4996-a026-27c8ed2c56a9\", \"scaler.joblib\", 1831)"
            ]
          },
          "metadata": {}
        }
      ]
    },
    {
      "cell_type": "code",
      "source": [
        "!cp xgb_model.joblib /content/drive/MyDrive/\n"
      ],
      "metadata": {
        "id": "NOhvh4JMhFgp"
      },
      "execution_count": 166,
      "outputs": []
    }
  ]
}